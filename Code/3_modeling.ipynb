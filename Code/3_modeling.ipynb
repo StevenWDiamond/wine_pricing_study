{
 "cells": [
  {
   "cell_type": "markdown",
   "metadata": {},
   "source": [
    "# Wine Price Study\n",
    "\n",
    "#### Author: Steve Diamond [(GitHub)](https://github.com/StevenWDiamond)"
   ]
  },
  {
   "cell_type": "markdown",
   "metadata": {},
   "source": [
    "### Table of Contents\n",
    "\n",
    "#### In This Notebook:\n",
    "- [Modeling](#Modeling)\n",
    "    - [Model Preparation](#Model-Preparation)\n",
    "    - [Models](#Models)\n",
    "        - [Baseline Model](#Baseline-Model)  \n",
    "        - [Linear Regression - Original Data](#Linear-Regression-(with-original-data))\n",
    "        - [Linear Regression - KModes Data](#Linear-Regression-(with-KModes-data-added))\n",
    "        - [Ridge Regression](#Ridge-Regression)\n",
    "        - [LASSO Regression](#LASSO-Regression)\n",
    "        - [Decision Tree Regression](#Decision-Tree-Regression)\n",
    "        - [Random Forest Regresssion](#Random-Forest-Regresssion)\n",
    "        - [Extra Trees Regression](#Extra-Trees-Regression)\n",
    "        - [Feed Forward Neural Network](#Feed-Forward-Neural-Network)\n",
    "- [Model Selection](#Model-Selection)\n",
    "- [Model Evaluation](#Model-Evaluation)\n",
    "    - [Residual Analysis](#Residual-Analysis)\n",
    "    - [Coefficient Analysis/Interpretation](#Coefficient-Analysis/Interpretation)\n",
    "- [Conclusions/Next Steps](#Conclusions/Next-Steps)\n",
    "- [References](#References)\n",
    "\n",
    "#### [Data Cleaning/EDA Notebook](DataCleanEDA.ipynb)\n",
    "#### (includes links to the following)\n",
    "- Loading Data\n",
    "    - Library Imports \n",
    "    - Data Imports\n",
    "    - Data Dictionary\n",
    "- Data Cleaning\n",
    "    - Overview Analysis\n",
    "    - Cleaning/EDA Needs by Column\n",
    "    - Removing Non-Red Wines\n",
    "    - Removing Columns\n",
    "    - Imputing Data\n",
    "    - Removing Additional Wines\n",
    "    - Drop Non-Prices Rows\n",
    "    - Variety Combinations\n",
    "    - Winery Data\n",
    "- Exploratory Data Analysis\n",
    "    - Feature Engineering\n",
    "        - Province & Region Data\n",
    "        - Special Designation Column\n",
    "        - Vintage Column from Title Column\n",
    "    - Data Correlations\n",
    "    - Data Distributions\n",
    "    - Data Interations\n",
    "        - Price vs Review Score\n",
    "        - Cost-Per-Point Analysis\n",
    "    - Review Word Frequency Analysis\n",
    "    - Post-EDA Data Preparation\n",
    "- Return To EDA\n",
    "\n",
    "#### [KPrototypes Notebook](kprototyes.ipynb)\n",
    "\n"
   ]
  },
  {
   "cell_type": "code",
   "execution_count": 1,
   "metadata": {},
   "outputs": [
    {
     "name": "stderr",
     "output_type": "stream",
     "text": [
      "Using TensorFlow backend.\n"
     ]
    }
   ],
   "source": [
    "import numpy as np\n",
    "import pandas as pd\n",
    "import matplotlib.pyplot as plt\n",
    "from math import sqrt\n",
    "import six\n",
    "import seaborn as sns\n",
    "\n",
    "import statsmodels.api as sm\n",
    "from sklearn.linear_model import LinearRegression\n",
    "from sklearn.model_selection import train_test_split, GridSearchCV, cross_val_score\n",
    "from sklearn.neighbors import KNeighborsRegressor\n",
    "from sklearn.pipeline import Pipeline\n",
    "from sklearn.preprocessing import StandardScaler, MinMaxScaler, LabelEncoder\n",
    "from sklearn.tree import DecisionTreeRegressor\n",
    "from sklearn.svm import SVR\n",
    "from sklearn.ensemble import BaggingRegressor, RandomForestRegressor,AdaBoostRegressor,ExtraTreesRegressor\n",
    "from sklearn.metrics import mean_squared_error, confusion_matrix\n",
    "from sklearn.dummy import DummyRegressor\n",
    "from sklearn.metrics import mean_squared_error\n",
    "from sklearn.linear_model import Ridge\n",
    "from sklearn.linear_model import Lasso, LassoCV\n",
    "\n",
    "from tensorflow.keras.models import Sequential\n",
    "from tensorflow.keras.metrics import RootMeanSquaredError\n",
    "from tensorflow.keras.layers import Dense, Dropout, Activation\n",
    "from tensorflow.keras.callbacks import EarlyStopping\n",
    "from keras.utils import np_utils\n",
    "from keras import backend\n",
    "\n",
    "RANDOM_STATE = 42\n",
    "\n",
    "random_state = RANDOM_STATE"
   ]
  },
  {
   "cell_type": "code",
   "execution_count": 2,
   "metadata": {},
   "outputs": [],
   "source": [
    "# allow for full printing as needed\n",
    "pd.set_option(\"display.max_rows\", None, \"display.max_columns\", None)"
   ]
  },
  {
   "cell_type": "markdown",
   "metadata": {},
   "source": [
    "[Table of Contents](#Table-of-Contents)\n",
    "## Modeling\n",
    "\n",
    "### Model Preparation\n",
    "Prior to modeling, there are several setup steps we needed to take:\n",
    "- Imported two DataFrames:\n",
    "    - Cleaned data from Data Cleaning/EDA notebook.\n",
    "    - Cleaned data combines with KPrototypes cluster data. "
   ]
  },
  {
   "cell_type": "code",
   "execution_count": 3,
   "metadata": {},
   "outputs": [],
   "source": [
    "df = pd.read_csv('../data/clean_eda_data.csv')"
   ]
  },
  {
   "cell_type": "code",
   "execution_count": 4,
   "metadata": {},
   "outputs": [],
   "source": [
    "df_w_kmodes = pd.read_csv('../data/dummied_plus_kproto.csv')"
   ]
  },
  {
   "cell_type": "markdown",
   "metadata": {},
   "source": [
    "- Created a function to calculate RMSE."
   ]
  },
  {
   "cell_type": "code",
   "execution_count": 5,
   "metadata": {},
   "outputs": [],
   "source": [
    "# defining function to calculate RMSE for Train and Test scores \n",
    "def rmse(y_set, y_hat_set):\n",
    "    y_set_exp     = np.exp(y_set)\n",
    "    y_hat_set_exp = np.exp(y_hat_set)\n",
    "    return mean_squared_error(y_set_exp,y_hat_set_exp, squared=False)"
   ]
  },
  {
   "cell_type": "markdown",
   "metadata": {},
   "source": [
    "- Created several versions of X and y data for use in various models.\n",
    "    1. X and y for non-KPrototypes data.\n",
    "    2. X_k for the KPrototypes data (y data is the same).\n",
    "    3. A non-logged version of the target data for the neural network to use.\n",
    "        * Note that this is paired with the KPrototypes X data as we had already determined to use this dataframe when we imported the neural network into this notebook.\n",
    "    4. Train-test split data for all of the above."
   ]
  },
  {
   "cell_type": "code",
   "execution_count": 6,
   "metadata": {},
   "outputs": [],
   "source": [
    "# X and y for non-KPrototypes data \n",
    "X = df.drop(columns='price')\n",
    "y = np.log(df['price'])\n",
    "\n",
    "# X_k and y_k for the KPrototypes data \n",
    "X_k = df_w_kmodes.drop(columns='price')\n",
    "\n",
    "# A non-logged version of the target data for the neural network to use\n",
    "y_nn = df_w_kmodes['price']\n",
    "\n",
    "# Train-test split data for all of these\n",
    "X_k_train, X_k_test, y_train, y_test = train_test_split(X_k, y, random_state = RANDOM_STATE)\n",
    "X_train, X_test, y_train, y_test = train_test_split(X, y, random_state = RANDOM_STATE)\n",
    "X_nn_train, X_nn_test, y_nn_train, y_nn_test = train_test_split(X_k, y_nn, random_state = RANDOM_STATE)\n"
   ]
  },
  {
   "cell_type": "markdown",
   "metadata": {},
   "source": [
    "[Table of Contents](#Table-of-Contents)\n",
    "## Models\n",
    "\n",
    "### Baseline Model\n",
    "The first step in model comparison is to build a baseline model using a dummy regressor. \n"
   ]
  },
  {
   "cell_type": "code",
   "execution_count": 7,
   "metadata": {},
   "outputs": [
    {
     "data": {
      "text/plain": [
       "Pipeline(steps=[('dummy', DummyRegressor())])"
      ]
     },
     "execution_count": 7,
     "metadata": {},
     "output_type": "execute_result"
    }
   ],
   "source": [
    "# Instantiating and fitting the model in a pipeline\n",
    "pipe_dummy = Pipeline([\n",
    "    ('dummy', DummyRegressor())\n",
    "])\n",
    "pipe_dummy.fit(X_train,y_train)"
   ]
  },
  {
   "cell_type": "code",
   "execution_count": 8,
   "metadata": {},
   "outputs": [],
   "source": [
    "# Creating grid search parameters - in this case, just to be consistent\n",
    "pipe_dummy_params = {\n",
    "    'dummy__strategy': ['mean']\n",
    "}"
   ]
  },
  {
   "cell_type": "code",
   "execution_count": 9,
   "metadata": {},
   "outputs": [],
   "source": [
    "# Instantiating the GridSearch\n",
    "pipe_dummy_gs = GridSearchCV(pipe_dummy,\n",
    "                             pipe_dummy_params,\n",
    "                             scoring ='neg_root_mean_squared_error',\n",
    "                             cv=5)"
   ]
  },
  {
   "cell_type": "code",
   "execution_count": 10,
   "metadata": {},
   "outputs": [
    {
     "data": {
      "text/plain": [
       "GridSearchCV(cv=5, estimator=Pipeline(steps=[('dummy', DummyRegressor())]),\n",
       "             param_grid={'dummy__strategy': ['mean']},\n",
       "             scoring='neg_root_mean_squared_error')"
      ]
     },
     "execution_count": 10,
     "metadata": {},
     "output_type": "execute_result"
    }
   ],
   "source": [
    "# Fitting the GridSearch\n",
    "pipe_dummy_gs.fit(X_train,y_train)"
   ]
  },
  {
   "cell_type": "code",
   "execution_count": 11,
   "metadata": {},
   "outputs": [
    {
     "data": {
      "text/plain": [
       "{'dummy__strategy': 'mean'}"
      ]
     },
     "execution_count": 11,
     "metadata": {},
     "output_type": "execute_result"
    }
   ],
   "source": [
    "# finding the parameters that grid search found to be the best \n",
    "pipe_dummy_gs.best_params_"
   ]
  },
  {
   "cell_type": "code",
   "execution_count": 12,
   "metadata": {},
   "outputs": [
    {
     "data": {
      "text/plain": [
       "-0.6640656783329778"
      ]
     },
     "execution_count": 12,
     "metadata": {},
     "output_type": "execute_result"
    }
   ],
   "source": [
    "# finding and saving the best score from grid search (SEE NOTE BELOW)\n",
    "dummy_cv = pipe_dummy_gs.best_score_\n",
    "dummy_cv"
   ]
  },
  {
   "cell_type": "markdown",
   "metadata": {},
   "source": [
    "**IMPORTANT NOTES**\n",
    "\n",
    "There are three things that need to be said in relation to all of our grid searches and best scores:\n",
    "1. We performed hyperparameter tuning on each pipeline. \n",
    "    * The settings in this notebook represent the combinations that scored the best.\n",
    "1. The cross-value score is negative so that they get larger (less negative) as they get better.\n",
    "    * That said, we will refer to them as getting smaller to be in sync with our RMSE scores (which are positive).\n",
    "2. The RMSE cross-value scores use the logged-pricing data and, while we can compare them to each other, we cannot compare them to our other RMSE data which were scored with exponentiated data.\n",
    "    * It is not possible to get a matching cross-value score from this software."
   ]
  },
  {
   "cell_type": "code",
   "execution_count": 13,
   "metadata": {},
   "outputs": [
    {
     "data": {
      "text/plain": [
       "43.80603110770548"
      ]
     },
     "execution_count": 13,
     "metadata": {},
     "output_type": "execute_result"
    }
   ],
   "source": [
    "# Calling the function created above to determine our Train Score RMSE for this model \n",
    "dummy_train = rmse(y_train,pipe_dummy_gs.predict(X_k_train))\n",
    "dummy_train"
   ]
  },
  {
   "cell_type": "code",
   "execution_count": 14,
   "metadata": {},
   "outputs": [
    {
     "data": {
      "text/plain": [
       "48.29262238872249"
      ]
     },
     "execution_count": 14,
     "metadata": {},
     "output_type": "execute_result"
    }
   ],
   "source": [
    "# Calling the function created above to determine our Test Score RMSE for this model \n",
    "dummy_test = rmse(y_test,pipe_dummy_gs.predict(X_k_test))\n",
    "dummy_test"
   ]
  },
  {
   "cell_type": "markdown",
   "metadata": {},
   "source": [
    "**Interpretation**\n",
    "\n",
    "- Though it is hard to judge an RMSE at first glance, our model has what looks to be a pretty good baseline model.\n",
    "    * Note that our mean price was just over \\$40 so this seems to be more in the ballpark than some baseline models.\n"
   ]
  },
  {
   "cell_type": "markdown",
   "metadata": {},
   "source": [
    "[Table of Contents](#Table-of-Contents)\n",
    "### Linear Regression (with original data)\n",
    "\n",
    "Next, we wanted to run our data through a linear regression model. We determine which of our datasets to use for the remainder of our study, the regression on both sets. We first used the data without the KPrototypes data."
   ]
  },
  {
   "cell_type": "code",
   "execution_count": 15,
   "metadata": {},
   "outputs": [
    {
     "data": {
      "text/plain": [
       "Pipeline(steps=[('lr', LinearRegression())])"
      ]
     },
     "execution_count": 15,
     "metadata": {},
     "output_type": "execute_result"
    }
   ],
   "source": [
    "# Instantiating and fitting the model in a pipeline\n",
    "pipe_lr = Pipeline([\n",
    "    ('lr', LinearRegression())\n",
    "])\n",
    "pipe_lr.fit(X_train,y_train)"
   ]
  },
  {
   "cell_type": "code",
   "execution_count": 16,
   "metadata": {},
   "outputs": [],
   "source": [
    "# Creating grid search parameters - it is now set with just the tuned parameters\n",
    "pipe_lr_params = {\n",
    "    'lr__fit_intercept': [True],\n",
    "    'lr__normalize': [True],\n",
    "    'lr__copy_X':[True]\n",
    "}"
   ]
  },
  {
   "cell_type": "code",
   "execution_count": 17,
   "metadata": {},
   "outputs": [],
   "source": [
    "# Instantiating the GridSearch\n",
    "pipe_lr_gs = GridSearchCV(pipe_lr,\n",
    "                          pipe_lr_params,\n",
    "                          scoring ='neg_root_mean_squared_error',\n",
    "                          cv=5)"
   ]
  },
  {
   "cell_type": "code",
   "execution_count": 18,
   "metadata": {},
   "outputs": [
    {
     "data": {
      "text/plain": [
       "GridSearchCV(cv=5, estimator=Pipeline(steps=[('lr', LinearRegression())]),\n",
       "             param_grid={'lr__copy_X': [True], 'lr__fit_intercept': [True],\n",
       "                         'lr__normalize': [True]},\n",
       "             scoring='neg_root_mean_squared_error')"
      ]
     },
     "execution_count": 18,
     "metadata": {},
     "output_type": "execute_result"
    }
   ],
   "source": [
    "# Fitting the GridSearch\n",
    "pipe_lr_gs.fit(X_train,y_train)"
   ]
  },
  {
   "cell_type": "code",
   "execution_count": 19,
   "metadata": {},
   "outputs": [
    {
     "data": {
      "text/plain": [
       "{'lr__copy_X': True, 'lr__fit_intercept': True, 'lr__normalize': True}"
      ]
     },
     "execution_count": 19,
     "metadata": {},
     "output_type": "execute_result"
    }
   ],
   "source": [
    "pipe_lr_gs.best_params_"
   ]
  },
  {
   "cell_type": "code",
   "execution_count": 20,
   "metadata": {},
   "outputs": [
    {
     "data": {
      "text/plain": [
       "-0.43244782886899336"
      ]
     },
     "execution_count": 20,
     "metadata": {},
     "output_type": "execute_result"
    }
   ],
   "source": [
    "lr_cv = pipe_lr_gs.best_score_\n",
    "lr_cv"
   ]
  },
  {
   "cell_type": "code",
   "execution_count": 21,
   "metadata": {},
   "outputs": [
    {
     "data": {
      "text/plain": [
       "37.042379190242656"
      ]
     },
     "execution_count": 21,
     "metadata": {},
     "output_type": "execute_result"
    }
   ],
   "source": [
    "lr_train = rmse(y_train,pipe_lr_gs.predict(X_train))\n",
    "lr_train"
   ]
  },
  {
   "cell_type": "code",
   "execution_count": 22,
   "metadata": {},
   "outputs": [
    {
     "data": {
      "text/plain": [
       "41.431925299490615"
      ]
     },
     "execution_count": 22,
     "metadata": {},
     "output_type": "execute_result"
    }
   ],
   "source": [
    "lr_test = rmse(y_test,pipe_lr_gs.predict(X_test))\n",
    "lr_test"
   ]
  },
  {
   "cell_type": "markdown",
   "metadata": {},
   "source": [
    "**Interpretation**\n",
    "\n",
    "- At this point, we at least knew that we have our baseline beat, with substantial reductions to all three scores.\n",
    "\n",
    "[Table of Contents](#Table-of-Contents)\n",
    "### Linear Regression (with KPrototypes data added)\n",
    "We repeated the regression, this time using the data with the KPrototypes column."
   ]
  },
  {
   "cell_type": "code",
   "execution_count": 23,
   "metadata": {},
   "outputs": [
    {
     "data": {
      "text/plain": [
       "Pipeline(steps=[('lrk', LinearRegression())])"
      ]
     },
     "execution_count": 23,
     "metadata": {},
     "output_type": "execute_result"
    }
   ],
   "source": [
    "# Instantiating and fitting the model in a pipeline\n",
    "pipe_lr_k = Pipeline([\n",
    "    ('lrk', LinearRegression())\n",
    "])\n",
    "pipe_lr_k.fit(X_k_train,y_train)"
   ]
  },
  {
   "cell_type": "code",
   "execution_count": 24,
   "metadata": {},
   "outputs": [],
   "source": [
    "# Creating grid search parameters - it is now set with just the tuned parameters\n",
    "pipe_lr_k_params = {\n",
    "    'lrk__fit_intercept': [True],\n",
    "    'lrk__normalize': [False],\n",
    "    'lrk__copy_X':[True]\n",
    "}"
   ]
  },
  {
   "cell_type": "code",
   "execution_count": 25,
   "metadata": {},
   "outputs": [],
   "source": [
    "# Instantiating the GridSearch\n",
    "pipe_lr_k_gs = GridSearchCV(pipe_lr_k,\n",
    "                          pipe_lr_k_params,\n",
    "                          scoring ='neg_root_mean_squared_error',\n",
    "                          cv=5)"
   ]
  },
  {
   "cell_type": "code",
   "execution_count": 26,
   "metadata": {},
   "outputs": [
    {
     "data": {
      "text/plain": [
       "GridSearchCV(cv=5, estimator=Pipeline(steps=[('lrk', LinearRegression())]),\n",
       "             param_grid={'lrk__copy_X': [True], 'lrk__fit_intercept': [True],\n",
       "                         'lrk__normalize': [False]},\n",
       "             scoring='neg_root_mean_squared_error')"
      ]
     },
     "execution_count": 26,
     "metadata": {},
     "output_type": "execute_result"
    }
   ],
   "source": [
    "# Fitting the GridSearch\n",
    "pipe_lr_k_gs.fit(X_k_train,y_train)"
   ]
  },
  {
   "cell_type": "code",
   "execution_count": 27,
   "metadata": {},
   "outputs": [
    {
     "data": {
      "text/plain": [
       "{'lrk__copy_X': True, 'lrk__fit_intercept': True, 'lrk__normalize': False}"
      ]
     },
     "execution_count": 27,
     "metadata": {},
     "output_type": "execute_result"
    }
   ],
   "source": [
    "pipe_lr_k_gs.best_params_"
   ]
  },
  {
   "cell_type": "code",
   "execution_count": 28,
   "metadata": {},
   "outputs": [
    {
     "data": {
      "text/plain": [
       "-0.4323850970247122"
      ]
     },
     "execution_count": 28,
     "metadata": {},
     "output_type": "execute_result"
    }
   ],
   "source": [
    "lr_k_cv = pipe_lr_k_gs.best_score_\n",
    "lr_k_cv"
   ]
  },
  {
   "cell_type": "code",
   "execution_count": 29,
   "metadata": {},
   "outputs": [
    {
     "data": {
      "text/plain": [
       "37.03979962450866"
      ]
     },
     "execution_count": 29,
     "metadata": {},
     "output_type": "execute_result"
    }
   ],
   "source": [
    "lr_k_train = rmse(y_train,pipe_lr_k_gs.predict(X_k_train))\n",
    "lr_k_train"
   ]
  },
  {
   "cell_type": "code",
   "execution_count": 30,
   "metadata": {},
   "outputs": [
    {
     "data": {
      "text/plain": [
       "41.42269083263627"
      ]
     },
     "execution_count": 30,
     "metadata": {},
     "output_type": "execute_result"
    }
   ],
   "source": [
    "lr_k_test = rmse(y_test,pipe_lr_k_gs.predict(X_k_test))\n",
    "lr_k_test"
   ]
  },
  {
   "cell_type": "markdown",
   "metadata": {},
   "source": [
    "**Interpretation**\n",
    "\n",
    "- Comparing the models both with and without the KPrototypes data, we observe that all three scores were slightly better for the data which includes the KPrototypes column.\n",
    "    * **AT THIS POINT, WE CHOSE TO USE THE KPrototypes DATA IN ALL MODELING AND WE WENT BACK AND CHANGED THE BASELINE MODEL TO BE IN LINE WITH OUR OTHER MODELS**\n",
    "- We further observe that the variance is fairly low. \n",
    "\n",
    "[Table of Contents](#Table-of-Contents)\n",
    "### Ridge Regression\n",
    "\n",
    "Although the observed variance was fairly low, we decided to see if we could regularize away some of that variance using other techniques, starting with Ridge Regression.\n"
   ]
  },
  {
   "cell_type": "code",
   "execution_count": 31,
   "metadata": {},
   "outputs": [],
   "source": [
    "# Creating a scaled version of the X data\n",
    "sc = StandardScaler()\n",
    "Z_k_train = sc.fit_transform(X_k_train)\n",
    "Z_k_test = sc.transform(X_k_test)\n"
   ]
  },
  {
   "cell_type": "code",
   "execution_count": 32,
   "metadata": {},
   "outputs": [
    {
     "data": {
      "text/plain": [
       "Pipeline(steps=[('ridge', Ridge(random_state=42))])"
      ]
     },
     "execution_count": 32,
     "metadata": {},
     "output_type": "execute_result"
    }
   ],
   "source": [
    "# Instantiating and fitting the model in a pipeline\n",
    "pipe_ridge = Pipeline([\n",
    "    ('ridge', Ridge(random_state=RANDOM_STATE))\n",
    "])\n",
    "pipe_ridge.fit(Z_k_train,y_train)"
   ]
  },
  {
   "cell_type": "code",
   "execution_count": 33,
   "metadata": {},
   "outputs": [],
   "source": [
    "# Creating grid search parameters - it is now set with just the tuned parameters\n",
    "pipe_ridge_params = {\n",
    "    'ridge__alpha':[150],\n",
    "    'ridge__max_iter': [None],\n",
    "    'ridge__solver':['svd']\n",
    "}"
   ]
  },
  {
   "cell_type": "code",
   "execution_count": 34,
   "metadata": {},
   "outputs": [],
   "source": [
    "# Instantiating the GridSearch\n",
    "pipe_ridge_gs = GridSearchCV(pipe_ridge,\n",
    "                                pipe_ridge_params,\n",
    "                                scoring ='neg_root_mean_squared_error',\n",
    "                                cv=5)"
   ]
  },
  {
   "cell_type": "code",
   "execution_count": 35,
   "metadata": {},
   "outputs": [
    {
     "data": {
      "text/plain": [
       "GridSearchCV(cv=5,\n",
       "             estimator=Pipeline(steps=[('ridge', Ridge(random_state=42))]),\n",
       "             param_grid={'ridge__alpha': [150], 'ridge__max_iter': [None],\n",
       "                         'ridge__solver': ['svd']},\n",
       "             scoring='neg_root_mean_squared_error')"
      ]
     },
     "execution_count": 35,
     "metadata": {},
     "output_type": "execute_result"
    }
   ],
   "source": [
    "# Fitting the GridSearch\n",
    "pipe_ridge_gs.fit(Z_k_train,y_train)"
   ]
  },
  {
   "cell_type": "code",
   "execution_count": 36,
   "metadata": {},
   "outputs": [
    {
     "data": {
      "text/plain": [
       "{'ridge__alpha': 150, 'ridge__max_iter': None, 'ridge__solver': 'svd'}"
      ]
     },
     "execution_count": 36,
     "metadata": {},
     "output_type": "execute_result"
    }
   ],
   "source": [
    "pipe_ridge_gs.best_params_"
   ]
  },
  {
   "cell_type": "code",
   "execution_count": 37,
   "metadata": {},
   "outputs": [
    {
     "data": {
      "text/plain": [
       "-0.43238470006135943"
      ]
     },
     "execution_count": 37,
     "metadata": {},
     "output_type": "execute_result"
    }
   ],
   "source": [
    "ridge_cv = pipe_ridge_gs.best_score_\n",
    "ridge_cv"
   ]
  },
  {
   "cell_type": "code",
   "execution_count": 38,
   "metadata": {},
   "outputs": [
    {
     "data": {
      "text/plain": [
       "37.05002277315947"
      ]
     },
     "execution_count": 38,
     "metadata": {},
     "output_type": "execute_result"
    }
   ],
   "source": [
    "ridge_train = rmse(y_train,pipe_ridge_gs.predict(Z_k_train))\n",
    "ridge_train"
   ]
  },
  {
   "cell_type": "code",
   "execution_count": 39,
   "metadata": {},
   "outputs": [
    {
     "data": {
      "text/plain": [
       "41.43367539177078"
      ]
     },
     "execution_count": 39,
     "metadata": {},
     "output_type": "execute_result"
    }
   ],
   "source": [
    "ridge_test = rmse(y_test,pipe_ridge_gs.predict(Z_k_test))\n",
    "ridge_test"
   ]
  },
  {
   "cell_type": "markdown",
   "metadata": {},
   "source": [
    "**Interpretation**\n",
    "\n",
    "- While the cross-value score was slightly better here, both Train and Test scores were higher than the linear regression model.\n",
    "\n",
    "[Table of Contents](#Table-of-Contents)\n",
    "### LASSO Regression\n",
    "\n",
    "Next we tried to use LASSO Regression to try an regularize."
   ]
  },
  {
   "cell_type": "code",
   "execution_count": 40,
   "metadata": {},
   "outputs": [
    {
     "data": {
      "text/plain": [
       "Pipeline(steps=[('lasso', Lasso(random_state=42))])"
      ]
     },
     "execution_count": 40,
     "metadata": {},
     "output_type": "execute_result"
    }
   ],
   "source": [
    "# Instantiating and fitting the model in a pipeline\n",
    "pipe_lasso = Pipeline([\n",
    "    ('lasso', Lasso(random_state=RANDOM_STATE))\n",
    "])\n",
    "pipe_lasso.fit(Z_k_train,y_train)"
   ]
  },
  {
   "cell_type": "code",
   "execution_count": 41,
   "metadata": {},
   "outputs": [],
   "source": [
    "# Creating grid search parameters - it is now set with just the tuned parameters\n",
    "pipe_lasso_params = {\n",
    "    'lasso__alpha':[.0003],\n",
    "    'lasso__max_iter': [1150],\n",
    "    'lasso__selection':['cyclic']\n",
    "}"
   ]
  },
  {
   "cell_type": "code",
   "execution_count": 42,
   "metadata": {},
   "outputs": [],
   "source": [
    "# Instantiating the GridSearch\n",
    "pipe_lasso_gs = GridSearchCV(pipe_lasso,\n",
    "                             pipe_lasso_params,\n",
    "                             scoring ='neg_root_mean_squared_error',\n",
    "                             cv=5)"
   ]
  },
  {
   "cell_type": "code",
   "execution_count": 43,
   "metadata": {},
   "outputs": [
    {
     "data": {
      "text/plain": [
       "GridSearchCV(cv=5,\n",
       "             estimator=Pipeline(steps=[('lasso', Lasso(random_state=42))]),\n",
       "             param_grid={'lasso__alpha': [0.0003], 'lasso__max_iter': [1150],\n",
       "                         'lasso__selection': ['cyclic']},\n",
       "             scoring='neg_root_mean_squared_error')"
      ]
     },
     "execution_count": 43,
     "metadata": {},
     "output_type": "execute_result"
    }
   ],
   "source": [
    "# Fitting the GridSearch\n",
    "pipe_lasso_gs.fit(Z_k_train,y_train)"
   ]
  },
  {
   "cell_type": "code",
   "execution_count": 44,
   "metadata": {},
   "outputs": [
    {
     "data": {
      "text/plain": [
       "{'lasso__alpha': 0.0003, 'lasso__max_iter': 1150, 'lasso__selection': 'cyclic'}"
      ]
     },
     "execution_count": 44,
     "metadata": {},
     "output_type": "execute_result"
    }
   ],
   "source": [
    "pipe_lasso_gs.best_params_"
   ]
  },
  {
   "cell_type": "code",
   "execution_count": 45,
   "metadata": {},
   "outputs": [
    {
     "data": {
      "text/plain": [
       "-0.43232568004870914"
      ]
     },
     "execution_count": 45,
     "metadata": {},
     "output_type": "execute_result"
    }
   ],
   "source": [
    "lasso_cv = pipe_lasso_gs.best_score_\n",
    "lasso_cv"
   ]
  },
  {
   "cell_type": "code",
   "execution_count": 46,
   "metadata": {},
   "outputs": [
    {
     "data": {
      "text/plain": [
       "37.05506105405916"
      ]
     },
     "execution_count": 46,
     "metadata": {},
     "output_type": "execute_result"
    }
   ],
   "source": [
    "lasso_train = rmse(y_train,pipe_lasso_gs.predict(Z_k_train))\n",
    "lasso_train"
   ]
  },
  {
   "cell_type": "code",
   "execution_count": 47,
   "metadata": {},
   "outputs": [
    {
     "data": {
      "text/plain": [
       "41.44558627408799"
      ]
     },
     "execution_count": 47,
     "metadata": {},
     "output_type": "execute_result"
    }
   ],
   "source": [
    "lasso_test = rmse(y_test,pipe_lasso_gs.predict(Z_k_test))\n",
    "lasso_test"
   ]
  },
  {
   "cell_type": "markdown",
   "metadata": {},
   "source": [
    "**Interpretation**\n",
    "\n",
    "- Again, the cross-value score was slightly better here, but both Train and Test scores were higher than the linear regression model.\n",
    "\n",
    "[Table of Contents](#Table-of-Contents)\n",
    "### Decision Tree Regression\n",
    "Next, we decided to try some tree models, starting with Decision Tree Regression."
   ]
  },
  {
   "cell_type": "code",
   "execution_count": 48,
   "metadata": {},
   "outputs": [
    {
     "data": {
      "text/plain": [
       "Pipeline(steps=[('dt', DecisionTreeRegressor(random_state=42))])"
      ]
     },
     "execution_count": 48,
     "metadata": {},
     "output_type": "execute_result"
    }
   ],
   "source": [
    "# Instantiating and fitting the model in a pipeline\n",
    "pipe_dt = Pipeline([\n",
    "    ('dt', DecisionTreeRegressor(random_state= RANDOM_STATE))\n",
    "])\n",
    "pipe_dt.fit(X_k_train,y_train)"
   ]
  },
  {
   "cell_type": "code",
   "execution_count": 49,
   "metadata": {},
   "outputs": [],
   "source": [
    "# Creating grid search parameters - it is now set with just the tuned parameters\n",
    "pipe_dt_params = {\n",
    "    'dt__ccp_alpha':[0.00009],\n",
    "    'dt__max_features': [250],\n",
    "    'dt__min_samples_leaf':[5],\n",
    "    'dt__min_samples_split':[6]\n",
    "}"
   ]
  },
  {
   "cell_type": "code",
   "execution_count": 50,
   "metadata": {},
   "outputs": [],
   "source": [
    "# Instantiating the GridSearch\n",
    "pipe_dt_gs = GridSearchCV(pipe_dt,\n",
    "                             pipe_dt_params,\n",
    "                             scoring ='neg_root_mean_squared_error',\n",
    "                             cv=5)"
   ]
  },
  {
   "cell_type": "code",
   "execution_count": 51,
   "metadata": {},
   "outputs": [
    {
     "data": {
      "text/plain": [
       "GridSearchCV(cv=5,\n",
       "             estimator=Pipeline(steps=[('dt',\n",
       "                                        DecisionTreeRegressor(random_state=42))]),\n",
       "             param_grid={'dt__ccp_alpha': [9e-05], 'dt__max_features': [250],\n",
       "                         'dt__min_samples_leaf': [5],\n",
       "                         'dt__min_samples_split': [6]},\n",
       "             scoring='neg_root_mean_squared_error')"
      ]
     },
     "execution_count": 51,
     "metadata": {},
     "output_type": "execute_result"
    }
   ],
   "source": [
    "# Fitting the GridSearch\n",
    "pipe_dt_gs.fit(X_k_train,y_train)"
   ]
  },
  {
   "cell_type": "code",
   "execution_count": 52,
   "metadata": {},
   "outputs": [
    {
     "data": {
      "text/plain": [
       "{'dt__ccp_alpha': 9e-05,\n",
       " 'dt__max_features': 250,\n",
       " 'dt__min_samples_leaf': 5,\n",
       " 'dt__min_samples_split': 6}"
      ]
     },
     "execution_count": 52,
     "metadata": {},
     "output_type": "execute_result"
    }
   ],
   "source": [
    "pipe_dt_gs.best_params_"
   ]
  },
  {
   "cell_type": "code",
   "execution_count": 53,
   "metadata": {},
   "outputs": [
    {
     "data": {
      "text/plain": [
       "-0.4314121919799597"
      ]
     },
     "execution_count": 53,
     "metadata": {},
     "output_type": "execute_result"
    }
   ],
   "source": [
    "dt_cv = pipe_dt_gs.best_score_\n",
    "dt_cv"
   ]
  },
  {
   "cell_type": "code",
   "execution_count": 54,
   "metadata": {},
   "outputs": [
    {
     "data": {
      "text/plain": [
       "34.18372286652938"
      ]
     },
     "execution_count": 54,
     "metadata": {},
     "output_type": "execute_result"
    }
   ],
   "source": [
    "dt_train = rmse(y_train,pipe_dt_gs.predict(X_k_train))\n",
    "dt_train"
   ]
  },
  {
   "cell_type": "code",
   "execution_count": 55,
   "metadata": {},
   "outputs": [
    {
     "data": {
      "text/plain": [
       "38.78587989467238"
      ]
     },
     "execution_count": 55,
     "metadata": {},
     "output_type": "execute_result"
    }
   ],
   "source": [
    "dt_test = rmse(y_test,pipe_dt_gs.predict(X_k_test))\n",
    "dt_test"
   ]
  },
  {
   "cell_type": "markdown",
   "metadata": {},
   "source": [
    "**Interpretation**\n",
    "\n",
    "- In contrast to our Ridge and LASSO models, here we find that the Decision Tree model beat the regression model on all three scores.\n",
    "- The variance is pretty low so we moved forward with additional tree-based models to see if we could get better scores.\n",
    "\n",
    "[Table of Contents](#Table-of-Contents)\n",
    "### Random Forest Regression"
   ]
  },
  {
   "cell_type": "code",
   "execution_count": 57,
   "metadata": {},
   "outputs": [
    {
     "data": {
      "text/plain": [
       "Pipeline(steps=[('rf', RandomForestRegressor(random_state=42))])"
      ]
     },
     "execution_count": 57,
     "metadata": {},
     "output_type": "execute_result"
    }
   ],
   "source": [
    "# Instantiating and fitting the model in a pipeline\n",
    "pipe_rf = Pipeline([\n",
    "    ('rf', RandomForestRegressor(random_state=RANDOM_STATE))\n",
    "])\n",
    "pipe_rf.fit(X_k_train,y_train)"
   ]
  },
  {
   "cell_type": "code",
   "execution_count": 58,
   "metadata": {},
   "outputs": [],
   "source": [
    "# Creating grid search parameters - it is now set with just the tuned parameters\n",
    "pipe_rf_params = {\n",
    "    'rf__n_estimators' : [160],\n",
    "    'rf__max_features' : [.14],\n",
    "    'rf__min_samples_split': [3],\n",
    "    'rf__min_samples_leaf': [2],\n",
    "    'rf__max_depth': [80],\n",
    "    'rf__bootstrap': [True],\n",
    "}"
   ]
  },
  {
   "cell_type": "code",
   "execution_count": 59,
   "metadata": {},
   "outputs": [],
   "source": [
    "# Instantiating the GridSearch\n",
    "pipe_rf_gs = GridSearchCV(pipe_rf,\n",
    "                             pipe_rf_params,\n",
    "                             scoring ='neg_root_mean_squared_error',\n",
    "                             cv=5)"
   ]
  },
  {
   "cell_type": "code",
   "execution_count": 60,
   "metadata": {},
   "outputs": [
    {
     "data": {
      "text/plain": [
       "GridSearchCV(cv=5,\n",
       "             estimator=Pipeline(steps=[('rf',\n",
       "                                        RandomForestRegressor(random_state=42))]),\n",
       "             param_grid={'rf__bootstrap': [True], 'rf__max_depth': [80],\n",
       "                         'rf__max_features': [0.14],\n",
       "                         'rf__min_samples_leaf': [2],\n",
       "                         'rf__min_samples_split': [3],\n",
       "                         'rf__n_estimators': [160]},\n",
       "             scoring='neg_root_mean_squared_error')"
      ]
     },
     "execution_count": 60,
     "metadata": {},
     "output_type": "execute_result"
    }
   ],
   "source": [
    "# Fitting the GridSearch\n",
    "pipe_rf_gs.fit(X_k_train,y_train)"
   ]
  },
  {
   "cell_type": "code",
   "execution_count": 61,
   "metadata": {},
   "outputs": [
    {
     "data": {
      "text/plain": [
       "{'rf__bootstrap': True,\n",
       " 'rf__max_depth': 80,\n",
       " 'rf__max_features': 0.14,\n",
       " 'rf__min_samples_leaf': 2,\n",
       " 'rf__min_samples_split': 3,\n",
       " 'rf__n_estimators': 160}"
      ]
     },
     "execution_count": 61,
     "metadata": {},
     "output_type": "execute_result"
    }
   ],
   "source": [
    "pipe_rf_gs.best_params_"
   ]
  },
  {
   "cell_type": "code",
   "execution_count": 62,
   "metadata": {},
   "outputs": [
    {
     "data": {
      "text/plain": [
       "-0.39185403457201895"
      ]
     },
     "execution_count": 62,
     "metadata": {},
     "output_type": "execute_result"
    }
   ],
   "source": [
    "rf_cv = pipe_rf_gs.best_score_\n",
    "rf_cv"
   ]
  },
  {
   "cell_type": "code",
   "execution_count": 63,
   "metadata": {},
   "outputs": [
    {
     "data": {
      "text/plain": [
       "31.542029752329626"
      ]
     },
     "execution_count": 63,
     "metadata": {},
     "output_type": "execute_result"
    }
   ],
   "source": [
    "rf_train = rmse(y_train,pipe_rf_gs.predict(X_k_train))\n",
    "rf_train"
   ]
  },
  {
   "cell_type": "code",
   "execution_count": 64,
   "metadata": {},
   "outputs": [
    {
     "data": {
      "text/plain": [
       "37.96518975602316"
      ]
     },
     "execution_count": 64,
     "metadata": {},
     "output_type": "execute_result"
    }
   ],
   "source": [
    "rf_test = rmse(y_test,pipe_rf_gs.predict(X_k_test))\n",
    "rf_test"
   ]
  },
  {
   "cell_type": "markdown",
   "metadata": {},
   "source": [
    "**Interpretation**\n",
    "\n",
    "- The Random Forest model beat the Decision Tree Model in all three scores.\n",
    "- It did have higher variance but we will trade that for the better model.\n",
    "- We decided to test one last tree regressor.\n",
    "\n",
    "[Table of Contents](#Table-of-Contents)\n",
    "### Extra Trees Regression"
   ]
  },
  {
   "cell_type": "code",
   "execution_count": 65,
   "metadata": {},
   "outputs": [
    {
     "data": {
      "text/plain": [
       "Pipeline(steps=[('et', ExtraTreesRegressor(random_state=42))])"
      ]
     },
     "execution_count": 65,
     "metadata": {},
     "output_type": "execute_result"
    }
   ],
   "source": [
    "# Instantiating and fitting the model in a pipeline\n",
    "pipe_et = Pipeline([\n",
    "    ('et', ExtraTreesRegressor(random_state=RANDOM_STATE))\n",
    "])\n",
    "pipe_et.fit(X_k_train,y_train)"
   ]
  },
  {
   "cell_type": "code",
   "execution_count": 66,
   "metadata": {},
   "outputs": [],
   "source": [
    "# Creating grid search parameters - it is now set with just the tuned parameters\n",
    "pipe_et_params = {\n",
    "    'et__n_estimators' : [195],\n",
    "    'et__max_features' : [.17],\n",
    "    'et__min_samples_split': [3],\n",
    "    'et__min_samples_leaf': [2],\n",
    "    'et__max_depth': [85]\n",
    "}"
   ]
  },
  {
   "cell_type": "code",
   "execution_count": 67,
   "metadata": {},
   "outputs": [],
   "source": [
    "# Instantiating the GridSearch\n",
    "pipe_et_gs = GridSearchCV(pipe_et,\n",
    "                             pipe_et_params,\n",
    "                             scoring ='neg_root_mean_squared_error',\n",
    "                             cv=5)"
   ]
  },
  {
   "cell_type": "code",
   "execution_count": 68,
   "metadata": {},
   "outputs": [
    {
     "data": {
      "text/plain": [
       "GridSearchCV(cv=5,\n",
       "             estimator=Pipeline(steps=[('et',\n",
       "                                        ExtraTreesRegressor(random_state=42))]),\n",
       "             param_grid={'et__max_depth': [85], 'et__max_features': [0.17],\n",
       "                         'et__min_samples_leaf': [2],\n",
       "                         'et__min_samples_split': [3],\n",
       "                         'et__n_estimators': [195]},\n",
       "             scoring='neg_root_mean_squared_error')"
      ]
     },
     "execution_count": 68,
     "metadata": {},
     "output_type": "execute_result"
    }
   ],
   "source": [
    "# Fitting the GridSearch\n",
    "pipe_et_gs.fit(X_k_train,y_train)"
   ]
  },
  {
   "cell_type": "code",
   "execution_count": 69,
   "metadata": {},
   "outputs": [
    {
     "data": {
      "text/plain": [
       "{'et__max_depth': 85,\n",
       " 'et__max_features': 0.17,\n",
       " 'et__min_samples_leaf': 2,\n",
       " 'et__min_samples_split': 3,\n",
       " 'et__n_estimators': 195}"
      ]
     },
     "execution_count": 69,
     "metadata": {},
     "output_type": "execute_result"
    }
   ],
   "source": [
    "pipe_et_gs.best_params_"
   ]
  },
  {
   "cell_type": "code",
   "execution_count": 70,
   "metadata": {},
   "outputs": [
    {
     "data": {
      "text/plain": [
       "-0.3891388854005675"
      ]
     },
     "execution_count": 70,
     "metadata": {},
     "output_type": "execute_result"
    }
   ],
   "source": [
    "et_cv = pipe_et_gs.best_score_\n",
    "et_cv"
   ]
  },
  {
   "cell_type": "code",
   "execution_count": 71,
   "metadata": {},
   "outputs": [
    {
     "data": {
      "text/plain": [
       "30.625261939060817"
      ]
     },
     "execution_count": 71,
     "metadata": {},
     "output_type": "execute_result"
    }
   ],
   "source": [
    "et_train = rmse(y_train,pipe_et_gs.predict(X_k_train))\n",
    "et_train"
   ]
  },
  {
   "cell_type": "code",
   "execution_count": 72,
   "metadata": {},
   "outputs": [
    {
     "data": {
      "text/plain": [
       "37.58288600299928"
      ]
     },
     "execution_count": 72,
     "metadata": {},
     "output_type": "execute_result"
    }
   ],
   "source": [
    "et_test = rmse(y_test,pipe_et_gs.predict(X_k_test))\n",
    "et_test"
   ]
  },
  {
   "cell_type": "markdown",
   "metadata": {},
   "source": [
    "**Interpretation**\n",
    "\n",
    "- Our Extra Trees model continued the trend, beating the Random Forest Model on all three scores.\n",
    "- Its variance looks to be a little higher.\n",
    "- As one final check, we ran our data through a feed forward neural network.\n",
    "\n",
    "[Table of Contents](#Table-of-Contents)\n",
    "### Feed Forward Neural Network"
   ]
  },
  {
   "cell_type": "code",
   "execution_count": 73,
   "metadata": {},
   "outputs": [
    {
     "data": {
      "text/plain": [
       "(53799, 370)"
      ]
     },
     "execution_count": 73,
     "metadata": {},
     "output_type": "execute_result"
    }
   ],
   "source": [
    "X_k_train.shape  # used to set input_shape below"
   ]
  },
  {
   "cell_type": "code",
   "execution_count": 78,
   "metadata": {},
   "outputs": [],
   "source": [
    "# Creating neural network topology\n",
    "# a sequential model\n",
    "model = Sequential()\n",
    "\n",
    "# 2 dense hidden layers, each with a dropout layer for regularization\n",
    "model.add(Dense(128,input_shape=(370,), activation='relu'))\n",
    "model.add(Dropout(0.5))\n",
    "model.add(Dense(128, activation='relu'))\n",
    "model.add(Dropout(0.25))\n",
    "\n",
    "# A dense output layer using sigmoid activation for linear regression\n",
    "model.add(Dense(1,activation='sigmoid'))\n",
    "\n",
    "# early stopping added for addtional regularization\n",
    "es = EarlyStopping(monitor='val_loss', patience=5)"
   ]
  },
  {
   "cell_type": "code",
   "execution_count": 79,
   "metadata": {},
   "outputs": [],
   "source": [
    "# built function to compute RMSE metric\n",
    "def rmse(y_true, y_pred):\n",
    "    return backend.sqrt(backend.mean(backend.square(y_pred - y_true), axis=-1))"
   ]
  },
  {
   "cell_type": "code",
   "execution_count": 80,
   "metadata": {},
   "outputs": [],
   "source": [
    "# Compiling network\n",
    "model.compile(loss=\"bce\", optimizer=\"adam\", metrics=[rmse])"
   ]
  },
  {
   "cell_type": "code",
   "execution_count": 81,
   "metadata": {},
   "outputs": [
    {
     "name": "stdout",
     "output_type": "stream",
     "text": [
      "Epoch 1/5\n",
      "421/421 [==============================] - 1s 3ms/step - loss: -369100.6875 - rmse: 39.1546 - val_loss: -1605585.5000 - val_rmse: 39.1307\n",
      "Epoch 2/5\n",
      "421/421 [==============================] - 1s 3ms/step - loss: -6551961.5000 - rmse: 39.1482 - val_loss: -14306380.0000 - val_rmse: 39.1307\n",
      "Epoch 3/5\n",
      "421/421 [==============================] - 1s 3ms/step - loss: -29082538.0000 - rmse: 39.1482 - val_loss: -47938152.0000 - val_rmse: 39.1307\n",
      "Epoch 4/5\n",
      "421/421 [==============================] - 1s 3ms/step - loss: -76419304.0000 - rmse: 39.1482 - val_loss: -109659272.0000 - val_rmse: 39.1307\n",
      "Epoch 5/5\n",
      "421/421 [==============================] - 1s 3ms/step - loss: -155416624.0000 - rmse: 39.1482 - val_loss: -206710880.0000 - val_rmse: 39.1307\n"
     ]
    }
   ],
   "source": [
    "# fitting our network\n",
    "history = model.fit(\n",
    "    Z_k_train, y_nn_train,\n",
    "    batch_size=128,\n",
    "    validation_data=(Z_k_test, y_nn_test),\n",
    "    epochs=5,\n",
    "    verbose=1\n",
    ")"
   ]
  },
  {
   "cell_type": "code",
   "execution_count": 82,
   "metadata": {},
   "outputs": [
    {
     "name": "stdout",
     "output_type": "stream",
     "text": [
      "1682/1682 [==============================] - 2s 1ms/step - loss: -207528448.0000 - rmse: 39.1482: 2s - loss: -21 - ETA: \n",
      "561/561 [==============================] - 1s 918us/step - loss: -206710768.0000 - rmse: 39.1307\n",
      "Train loss: -207528448.0\n",
      "Train rmse: 39.14820098876953\n",
      "Test loss: -206710768.0\n",
      "Test rmse: 39.13071060180664\n"
     ]
    }
   ],
   "source": [
    "# Evaluate model on test data.\n",
    "ffnn_train = model.evaluate(Z_k_train, y_nn_train, verbose = 1)\n",
    "ffnn_test = model.evaluate(Z_k_test, y_nn_test, verbose = 1)\n",
    "\n",
    "labels = model.metrics_names\n",
    "\n",
    "# Show model performance.\n",
    "print(f'Train {labels[0]}: {ffnn_train[0]}')\n",
    "print(f'Train {labels[1]}: {ffnn_train[1]}')\n",
    "print(f'Test {labels[0]}: {ffnn_test[0]}')\n",
    "print(f'Test {labels[1]}: {ffnn_test[1]}')"
   ]
  },
  {
   "cell_type": "markdown",
   "metadata": {},
   "source": [
    "**Interpretation**\n",
    "\n",
    "- Our neural network scored comparatively well but did not equal the train or test scores for either Random Forest or Extra Trees.\n",
    "- This model clearly had the lowest variance.\n",
    "- It should be noted that we did try to tune the network: \n",
    "    * No changes to our parameters (including numbers of neurons, batch_size, epochs) had any effect on the scoring.\n",
    "    * The model always came to its final score by the second epoch."
   ]
  },
  {
   "cell_type": "markdown",
   "metadata": {},
   "source": [
    "[Table of Contents](#Table-of-Contents)\n",
    "## Model Selection\n",
    "To help us select our model, we compiled all of the results from above into lists then adding those lists as columns in a DataFrame."
   ]
  },
  {
   "cell_type": "code",
   "execution_count": 83,
   "metadata": {},
   "outputs": [],
   "source": [
    "model_list = ['Dummy Regression', 'Linear Regression', 'Ridge Regression', 'LASSO Regression', 'Decision Tree Regression', 'Random Forest Regression', 'Extra Tree Regression', 'Feed Forward Neural Network']\n",
    "cv_list = [dummy_cv, lr_k_cv, ridge_cv, lasso_cv, dt_cv, rf_cv, et_cv, 'NA']\n",
    "train_list = [dummy_train, lr_k_train, ridge_train, lasso_train, dt_train, rf_train, et_train, ffnn_train[1]]\n",
    "test_list = [dummy_test, lr_k_test, ridge_test, lasso_test, dt_test, rf_test, et_test, ffnn_test[1]]\n",
    "model_selection = pd.DataFrame()\n",
    "model_selection['model']       = model_list\n",
    "model_selection['cv_score']    = cv_list\n",
    "model_selection['train_score'] = train_list\n",
    "model_selection['test_score']  = test_list\n"
   ]
  },
  {
   "cell_type": "code",
   "execution_count": 84,
   "metadata": {},
   "outputs": [
    {
     "data": {
      "text/html": [
       "<div>\n",
       "<style scoped>\n",
       "    .dataframe tbody tr th:only-of-type {\n",
       "        vertical-align: middle;\n",
       "    }\n",
       "\n",
       "    .dataframe tbody tr th {\n",
       "        vertical-align: top;\n",
       "    }\n",
       "\n",
       "    .dataframe thead th {\n",
       "        text-align: right;\n",
       "    }\n",
       "</style>\n",
       "<table border=\"1\" class=\"dataframe\">\n",
       "  <thead>\n",
       "    <tr style=\"text-align: right;\">\n",
       "      <th></th>\n",
       "      <th>model</th>\n",
       "      <th>cv_score</th>\n",
       "      <th>train_score</th>\n",
       "      <th>test_score</th>\n",
       "    </tr>\n",
       "  </thead>\n",
       "  <tbody>\n",
       "    <tr>\n",
       "      <th>0</th>\n",
       "      <td>Dummy Regression</td>\n",
       "      <td>-0.664066</td>\n",
       "      <td>43.806031</td>\n",
       "      <td>48.292622</td>\n",
       "    </tr>\n",
       "    <tr>\n",
       "      <th>1</th>\n",
       "      <td>Linear Regression</td>\n",
       "      <td>-0.432385</td>\n",
       "      <td>37.039800</td>\n",
       "      <td>41.422691</td>\n",
       "    </tr>\n",
       "    <tr>\n",
       "      <th>2</th>\n",
       "      <td>Ridge Regression</td>\n",
       "      <td>-0.432385</td>\n",
       "      <td>37.050023</td>\n",
       "      <td>41.433675</td>\n",
       "    </tr>\n",
       "    <tr>\n",
       "      <th>3</th>\n",
       "      <td>LASSO Regression</td>\n",
       "      <td>-0.432326</td>\n",
       "      <td>37.055061</td>\n",
       "      <td>41.445586</td>\n",
       "    </tr>\n",
       "    <tr>\n",
       "      <th>4</th>\n",
       "      <td>Decision Tree Regression</td>\n",
       "      <td>-0.431412</td>\n",
       "      <td>34.183723</td>\n",
       "      <td>38.785880</td>\n",
       "    </tr>\n",
       "    <tr>\n",
       "      <th>5</th>\n",
       "      <td>Random Forest Regression</td>\n",
       "      <td>-0.391854</td>\n",
       "      <td>31.542030</td>\n",
       "      <td>37.965190</td>\n",
       "    </tr>\n",
       "    <tr>\n",
       "      <th>6</th>\n",
       "      <td>Extra Tree Regression</td>\n",
       "      <td>-0.389139</td>\n",
       "      <td>30.625262</td>\n",
       "      <td>37.582886</td>\n",
       "    </tr>\n",
       "    <tr>\n",
       "      <th>7</th>\n",
       "      <td>Feed Forward Neural Network</td>\n",
       "      <td>NA</td>\n",
       "      <td>39.148201</td>\n",
       "      <td>39.130711</td>\n",
       "    </tr>\n",
       "  </tbody>\n",
       "</table>\n",
       "</div>"
      ],
      "text/plain": [
       "                         model  cv_score  train_score  test_score\n",
       "0             Dummy Regression -0.664066    43.806031   48.292622\n",
       "1            Linear Regression -0.432385    37.039800   41.422691\n",
       "2             Ridge Regression -0.432385    37.050023   41.433675\n",
       "3             LASSO Regression -0.432326    37.055061   41.445586\n",
       "4     Decision Tree Regression -0.431412    34.183723   38.785880\n",
       "5     Random Forest Regression -0.391854    31.542030   37.965190\n",
       "6        Extra Tree Regression -0.389139    30.625262   37.582886\n",
       "7  Feed Forward Neural Network        NA    39.148201   39.130711"
      ]
     },
     "execution_count": 84,
     "metadata": {},
     "output_type": "execute_result"
    }
   ],
   "source": [
    "# Display new dataframe\n",
    "model_selection"
   ]
  },
  {
   "cell_type": "code",
   "execution_count": 85,
   "metadata": {},
   "outputs": [],
   "source": [
    "# For presentation purposes, create a dataframe without cross-value scores\n",
    "model_selection.drop(columns='cv_score', inplace=True)"
   ]
  },
  {
   "cell_type": "code",
   "execution_count": 86,
   "metadata": {},
   "outputs": [
    {
     "data": {
      "text/html": [
       "<style  type=\"text/css\" >\n",
       "#T_eb072d42_779d_11eb_9a80_3c15c2e5379crow0_col0,#T_eb072d42_779d_11eb_9a80_3c15c2e5379crow0_col1,#T_eb072d42_779d_11eb_9a80_3c15c2e5379crow0_col2,#T_eb072d42_779d_11eb_9a80_3c15c2e5379crow1_col0,#T_eb072d42_779d_11eb_9a80_3c15c2e5379crow1_col1,#T_eb072d42_779d_11eb_9a80_3c15c2e5379crow1_col2,#T_eb072d42_779d_11eb_9a80_3c15c2e5379crow2_col0,#T_eb072d42_779d_11eb_9a80_3c15c2e5379crow2_col1,#T_eb072d42_779d_11eb_9a80_3c15c2e5379crow2_col2,#T_eb072d42_779d_11eb_9a80_3c15c2e5379crow3_col0,#T_eb072d42_779d_11eb_9a80_3c15c2e5379crow3_col1,#T_eb072d42_779d_11eb_9a80_3c15c2e5379crow3_col2{\n",
       "            background-color:  white;\n",
       "        }#T_eb072d42_779d_11eb_9a80_3c15c2e5379crow4_col0,#T_eb072d42_779d_11eb_9a80_3c15c2e5379crow4_col1,#T_eb072d42_779d_11eb_9a80_3c15c2e5379crow4_col2,#T_eb072d42_779d_11eb_9a80_3c15c2e5379crow5_col0,#T_eb072d42_779d_11eb_9a80_3c15c2e5379crow5_col1,#T_eb072d42_779d_11eb_9a80_3c15c2e5379crow5_col2,#T_eb072d42_779d_11eb_9a80_3c15c2e5379crow6_col0,#T_eb072d42_779d_11eb_9a80_3c15c2e5379crow6_col1,#T_eb072d42_779d_11eb_9a80_3c15c2e5379crow6_col2,#T_eb072d42_779d_11eb_9a80_3c15c2e5379crow7_col0,#T_eb072d42_779d_11eb_9a80_3c15c2e5379crow7_col1,#T_eb072d42_779d_11eb_9a80_3c15c2e5379crow7_col2{\n",
       "            background-color:  yellow;\n",
       "        }</style><table id=\"T_eb072d42_779d_11eb_9a80_3c15c2e5379c\" ><thead>    <tr>        <th class=\"col_heading level0 col0\" >model</th>        <th class=\"col_heading level0 col1\" >train_score</th>        <th class=\"col_heading level0 col2\" >test_score</th>    </tr></thead><tbody>\n",
       "                <tr>\n",
       "                                <td id=\"T_eb072d42_779d_11eb_9a80_3c15c2e5379crow0_col0\" class=\"data row0 col0\" >Dummy Regression</td>\n",
       "                        <td id=\"T_eb072d42_779d_11eb_9a80_3c15c2e5379crow0_col1\" class=\"data row0 col1\" >43.806031</td>\n",
       "                        <td id=\"T_eb072d42_779d_11eb_9a80_3c15c2e5379crow0_col2\" class=\"data row0 col2\" >48.292622</td>\n",
       "            </tr>\n",
       "            <tr>\n",
       "                                <td id=\"T_eb072d42_779d_11eb_9a80_3c15c2e5379crow1_col0\" class=\"data row1 col0\" >Linear Regression</td>\n",
       "                        <td id=\"T_eb072d42_779d_11eb_9a80_3c15c2e5379crow1_col1\" class=\"data row1 col1\" >37.039800</td>\n",
       "                        <td id=\"T_eb072d42_779d_11eb_9a80_3c15c2e5379crow1_col2\" class=\"data row1 col2\" >41.422691</td>\n",
       "            </tr>\n",
       "            <tr>\n",
       "                                <td id=\"T_eb072d42_779d_11eb_9a80_3c15c2e5379crow2_col0\" class=\"data row2 col0\" >Ridge Regression</td>\n",
       "                        <td id=\"T_eb072d42_779d_11eb_9a80_3c15c2e5379crow2_col1\" class=\"data row2 col1\" >37.050023</td>\n",
       "                        <td id=\"T_eb072d42_779d_11eb_9a80_3c15c2e5379crow2_col2\" class=\"data row2 col2\" >41.433675</td>\n",
       "            </tr>\n",
       "            <tr>\n",
       "                                <td id=\"T_eb072d42_779d_11eb_9a80_3c15c2e5379crow3_col0\" class=\"data row3 col0\" >LASSO Regression</td>\n",
       "                        <td id=\"T_eb072d42_779d_11eb_9a80_3c15c2e5379crow3_col1\" class=\"data row3 col1\" >37.055061</td>\n",
       "                        <td id=\"T_eb072d42_779d_11eb_9a80_3c15c2e5379crow3_col2\" class=\"data row3 col2\" >41.445586</td>\n",
       "            </tr>\n",
       "            <tr>\n",
       "                                <td id=\"T_eb072d42_779d_11eb_9a80_3c15c2e5379crow4_col0\" class=\"data row4 col0\" >Decision Tree Regression</td>\n",
       "                        <td id=\"T_eb072d42_779d_11eb_9a80_3c15c2e5379crow4_col1\" class=\"data row4 col1\" >34.183723</td>\n",
       "                        <td id=\"T_eb072d42_779d_11eb_9a80_3c15c2e5379crow4_col2\" class=\"data row4 col2\" >38.785880</td>\n",
       "            </tr>\n",
       "            <tr>\n",
       "                                <td id=\"T_eb072d42_779d_11eb_9a80_3c15c2e5379crow5_col0\" class=\"data row5 col0\" >Random Forest Regression</td>\n",
       "                        <td id=\"T_eb072d42_779d_11eb_9a80_3c15c2e5379crow5_col1\" class=\"data row5 col1\" >31.542030</td>\n",
       "                        <td id=\"T_eb072d42_779d_11eb_9a80_3c15c2e5379crow5_col2\" class=\"data row5 col2\" >37.965190</td>\n",
       "            </tr>\n",
       "            <tr>\n",
       "                                <td id=\"T_eb072d42_779d_11eb_9a80_3c15c2e5379crow6_col0\" class=\"data row6 col0\" >Extra Tree Regression</td>\n",
       "                        <td id=\"T_eb072d42_779d_11eb_9a80_3c15c2e5379crow6_col1\" class=\"data row6 col1\" >30.625262</td>\n",
       "                        <td id=\"T_eb072d42_779d_11eb_9a80_3c15c2e5379crow6_col2\" class=\"data row6 col2\" >37.582886</td>\n",
       "            </tr>\n",
       "            <tr>\n",
       "                                <td id=\"T_eb072d42_779d_11eb_9a80_3c15c2e5379crow7_col0\" class=\"data row7 col0\" >Feed Forward Neural Network</td>\n",
       "                        <td id=\"T_eb072d42_779d_11eb_9a80_3c15c2e5379crow7_col1\" class=\"data row7 col1\" >39.148201</td>\n",
       "                        <td id=\"T_eb072d42_779d_11eb_9a80_3c15c2e5379crow7_col2\" class=\"data row7 col2\" >39.130711</td>\n",
       "            </tr>\n",
       "    </tbody></table>"
      ],
      "text/plain": [
       "<pandas.io.formats.style.Styler at 0x7fb8366d9110>"
      ]
     },
     "execution_count": 86,
     "metadata": {},
     "output_type": "execute_result"
    }
   ],
   "source": [
    "# Highlight row with the best test score\n",
    "def highlight_lowest(x):\n",
    "    if x['test_score'] < 39.6:\n",
    "        return ['background-color: yellow']*3\n",
    "    else:\n",
    "        return ['background-color: white']*3\n",
    "model_selection.style.apply(highlight_lowest, axis=1).hide_index()"
   ]
  },
  {
   "cell_type": "markdown",
   "metadata": {},
   "source": [
    "Looking at all of our models, we had a difficult choice to make.\n",
    "- Our neural network had incredibly low variance but we decided to trade variance for better scoring.\n",
    "- Our Extra Trees model outdid all other models for cross-value score, train score and test score so this is our model of choice.\n",
    "- Since Extra Trees has little to no interpretability, we will also run a Statsmodel OLS regression to look at the significance our features and the power of their coefficients."
   ]
  },
  {
   "cell_type": "markdown",
   "metadata": {},
   "source": [
    "[Table of Contents](#Table-of-Contents)\n",
    "## Model Evaluation\n",
    "\n",
    "### Residual Analysis"
   ]
  },
  {
   "cell_type": "markdown",
   "metadata": {},
   "source": [
    "To evaluate the power of our model, we will look at our residuals."
   ]
  },
  {
   "cell_type": "code",
   "execution_count": 87,
   "metadata": {},
   "outputs": [],
   "source": [
    "# Getting predictions from our model\n",
    "predictions = pipe_et_gs.predict(X_k_test).tolist()"
   ]
  },
  {
   "cell_type": "code",
   "execution_count": 88,
   "metadata": {},
   "outputs": [],
   "source": [
    "# Exponentiating those predictions\n",
    "predictions = [np.exp(number) for number in predictions]"
   ]
  },
  {
   "cell_type": "code",
   "execution_count": 89,
   "metadata": {},
   "outputs": [
    {
     "data": {
      "image/png": "[encoded data removed]",
      "text/plain": [
       "<Figure size 576x432 with 1 Axes>"
      ]
     },
     "metadata": {
      "needs_background": "light"
     },
     "output_type": "display_data"
    }
   ],
   "source": [
    "# Scatterplot of Predicted Price vs Residuals\n",
    "# establish figure and axes objects\n",
    "fig = plt.figure(figsize=(8,6))\n",
    "ax = plt.gca()\n",
    "\n",
    "# plotting prices x score\n",
    "sns.residplot(x=predictions, y= y_nn_test, color='purple')\n",
    "\n",
    "# adding line for avg. price x score\n",
    "# sns.lineplot(x=x2, y=y2,color='orange')\n",
    "\n",
    "## Notice the change to the method names ##\n",
    "ax.set_title('Residual Plot', fontsize=26, pad=15)\n",
    "ax.set_xlabel('Predicted Prices', fontsize=20)\n",
    "ax.set_ylabel('Residuals', fontsize=20)\n",
    "\n",
    "fig.tight_layout();"
   ]
  },
  {
   "cell_type": "markdown",
   "metadata": {},
   "source": [
    "**Interpretaton**\n",
    "\n",
    "- This plot suggests that our modle is far from ideal. \n",
    "- There is some aspect of higher-priced wines that we are missing.\n",
    "    - This is why our lower predictions are far more in the ballpark of what we would hope to see.\n",
    "    - The problems for our higher predictions probably reflect the link between price and review score thaat we saw earlier. The highest scoring wines went up sharply in price and our model is having trouble accounting for that effect."
   ]
  },
  {
   "cell_type": "markdown",
   "metadata": {},
   "source": [
    "### Coefficient Analysis/Interpretation"
   ]
  },
  {
   "cell_type": "code",
   "execution_count": 90,
   "metadata": {},
   "outputs": [],
   "source": [
    "# Telling statsmodels to add a constant (Intercept)\n",
    "X = sm.add_constant(X)"
   ]
  },
  {
   "cell_type": "code",
   "execution_count": 91,
   "metadata": {},
   "outputs": [],
   "source": [
    "# Creating and fitting the OLS (linear regression) model\n",
    "model = sm.OLS(y,X)\n",
    "results = model.fit()"
   ]
  },
  {
   "cell_type": "code",
   "execution_count": 92,
   "metadata": {},
   "outputs": [
    {
     "data": {
      "text/html": [
       "<table class=\"simpletable\">\n",
       "<caption>OLS Regression Results</caption>\n",
       "<tr>\n",
       "  <th>Dep. Variable:</th>          <td>price</td>      <th>  R-squared:         </th> <td>   0.582</td> \n",
       "</tr>\n",
       "<tr>\n",
       "  <th>Model:</th>                   <td>OLS</td>       <th>  Adj. R-squared:    </th> <td>   0.580</td> \n",
       "</tr>\n",
       "<tr>\n",
       "  <th>Method:</th>             <td>Least Squares</td>  <th>  F-statistic:       </th> <td>   269.6</td> \n",
       "</tr>\n",
       "<tr>\n",
       "  <th>Date:</th>             <td>Thu, 25 Feb 2021</td> <th>  Prob (F-statistic):</th>  <td>  0.00</td>  \n",
       "</tr>\n",
       "<tr>\n",
       "  <th>Time:</th>                 <td>14:41:56</td>     <th>  Log-Likelihood:    </th> <td> -41137.</td> \n",
       "</tr>\n",
       "<tr>\n",
       "  <th>No. Observations:</th>      <td> 71732</td>      <th>  AIC:               </th> <td>8.301e+04</td>\n",
       "</tr>\n",
       "<tr>\n",
       "  <th>Df Residuals:</th>          <td> 71362</td>      <th>  BIC:               </th> <td>8.641e+04</td>\n",
       "</tr>\n",
       "<tr>\n",
       "  <th>Df Model:</th>              <td>   369</td>      <th>                     </th>     <td> </td>    \n",
       "</tr>\n",
       "<tr>\n",
       "  <th>Covariance Type:</th>      <td>nonrobust</td>    <th>                     </th>     <td> </td>    \n",
       "</tr>\n",
       "</table>\n",
       "<table class=\"simpletable\">\n",
       "<tr>\n",
       "                         <td></td>                           <th>coef</th>     <th>std err</th>      <th>t</th>      <th>P>|t|</th>  <th>[0.025</th>    <th>0.975]</th>  \n",
       "</tr>\n",
       "<tr>\n",
       "  <th>const</th>                                          <td>   -5.3588</td> <td>    0.078</td> <td>  -68.277</td> <td> 0.000</td> <td>   -5.513</td> <td>   -5.205</td>\n",
       "</tr>\n",
       "<tr>\n",
       "  <th>points</th>                                         <td>    0.0958</td> <td>    0.001</td> <td>  161.345</td> <td> 0.000</td> <td>    0.095</td> <td>    0.097</td>\n",
       "</tr>\n",
       "<tr>\n",
       "  <th>high_q_term</th>                                    <td>    0.0696</td> <td>    0.005</td> <td>   15.289</td> <td> 0.000</td> <td>    0.061</td> <td>    0.079</td>\n",
       "</tr>\n",
       "<tr>\n",
       "  <th>vintage</th>                                        <td>    0.0082</td> <td>    0.001</td> <td>   16.451</td> <td> 0.000</td> <td>    0.007</td> <td>    0.009</td>\n",
       "</tr>\n",
       "<tr>\n",
       "  <th>country_Argentina</th>                              <td>    0.0924</td> <td>    0.054</td> <td>    1.717</td> <td> 0.086</td> <td>   -0.013</td> <td>    0.198</td>\n",
       "</tr>\n",
       "<tr>\n",
       "  <th>country_Australia</th>                              <td>    0.1330</td> <td>    0.052</td> <td>    2.559</td> <td> 0.010</td> <td>    0.031</td> <td>    0.235</td>\n",
       "</tr>\n",
       "<tr>\n",
       "  <th>country_Austria</th>                                <td>    0.1936</td> <td>    0.066</td> <td>    2.949</td> <td> 0.003</td> <td>    0.065</td> <td>    0.322</td>\n",
       "</tr>\n",
       "<tr>\n",
       "  <th>country_Brazil</th>                                 <td>    0.3114</td> <td>    0.100</td> <td>    3.121</td> <td> 0.002</td> <td>    0.116</td> <td>    0.507</td>\n",
       "</tr>\n",
       "<tr>\n",
       "  <th>country_Bulgaria</th>                               <td>   -0.3778</td> <td>    0.115</td> <td>   -3.297</td> <td> 0.001</td> <td>   -0.602</td> <td>   -0.153</td>\n",
       "</tr>\n",
       "<tr>\n",
       "  <th>country_Canada</th>                                 <td>    0.4961</td> <td>    0.101</td> <td>    4.902</td> <td> 0.000</td> <td>    0.298</td> <td>    0.694</td>\n",
       "</tr>\n",
       "<tr>\n",
       "  <th>country_Chile</th>                                  <td>    0.0465</td> <td>    0.052</td> <td>    0.889</td> <td> 0.374</td> <td>   -0.056</td> <td>    0.149</td>\n",
       "</tr>\n",
       "<tr>\n",
       "  <th>country_Croatia</th>                                <td>    0.0219</td> <td>    0.116</td> <td>    0.189</td> <td> 0.850</td> <td>   -0.206</td> <td>    0.250</td>\n",
       "</tr>\n",
       "<tr>\n",
       "  <th>country_France</th>                                 <td>    0.2387</td> <td>    0.048</td> <td>    5.018</td> <td> 0.000</td> <td>    0.145</td> <td>    0.332</td>\n",
       "</tr>\n",
       "<tr>\n",
       "  <th>country_Georgia</th>                                <td>   -0.4267</td> <td>    0.149</td> <td>   -2.873</td> <td> 0.004</td> <td>   -0.718</td> <td>   -0.136</td>\n",
       "</tr>\n",
       "<tr>\n",
       "  <th>country_Germany</th>                                <td>    0.1070</td> <td>    0.064</td> <td>    1.669</td> <td> 0.095</td> <td>   -0.019</td> <td>    0.233</td>\n",
       "</tr>\n",
       "<tr>\n",
       "  <th>country_Greece</th>                                 <td>    0.1532</td> <td>    0.064</td> <td>    2.396</td> <td> 0.017</td> <td>    0.028</td> <td>    0.279</td>\n",
       "</tr>\n",
       "<tr>\n",
       "  <th>country_Hungary</th>                                <td>    0.4078</td> <td>    0.086</td> <td>    4.739</td> <td> 0.000</td> <td>    0.239</td> <td>    0.576</td>\n",
       "</tr>\n",
       "<tr>\n",
       "  <th>country_Israel</th>                                 <td>    0.1676</td> <td>    0.065</td> <td>    2.570</td> <td> 0.010</td> <td>    0.040</td> <td>    0.295</td>\n",
       "</tr>\n",
       "<tr>\n",
       "  <th>country_Italy</th>                                  <td>    0.1536</td> <td>    0.048</td> <td>    3.208</td> <td> 0.001</td> <td>    0.060</td> <td>    0.247</td>\n",
       "</tr>\n",
       "<tr>\n",
       "  <th>country_Mexico</th>                                 <td>    0.4085</td> <td>    0.080</td> <td>    5.076</td> <td> 0.000</td> <td>    0.251</td> <td>    0.566</td>\n",
       "</tr>\n",
       "<tr>\n",
       "  <th>country_Moldova</th>                                <td>   -0.2714</td> <td>    0.095</td> <td>   -2.856</td> <td> 0.004</td> <td>   -0.458</td> <td>   -0.085</td>\n",
       "</tr>\n",
       "<tr>\n",
       "  <th>country_New Zealand</th>                            <td>    0.0846</td> <td>    0.072</td> <td>    1.170</td> <td> 0.242</td> <td>   -0.057</td> <td>    0.226</td>\n",
       "</tr>\n",
       "<tr>\n",
       "  <th>country_Portugal</th>                               <td>   -0.2143</td> <td>    0.064</td> <td>   -3.340</td> <td> 0.001</td> <td>   -0.340</td> <td>   -0.089</td>\n",
       "</tr>\n",
       "<tr>\n",
       "  <th>country_Romania</th>                                <td>   -0.5414</td> <td>    0.076</td> <td>   -7.116</td> <td> 0.000</td> <td>   -0.691</td> <td>   -0.392</td>\n",
       "</tr>\n",
       "<tr>\n",
       "  <th>country_Slovenia</th>                               <td>    0.0726</td> <td>    0.102</td> <td>    0.709</td> <td> 0.478</td> <td>   -0.128</td> <td>    0.273</td>\n",
       "</tr>\n",
       "<tr>\n",
       "  <th>country_South Africa</th>                           <td>    0.0469</td> <td>    0.056</td> <td>    0.844</td> <td> 0.399</td> <td>   -0.062</td> <td>    0.156</td>\n",
       "</tr>\n",
       "<tr>\n",
       "  <th>country_Spain</th>                                  <td>    0.0716</td> <td>    0.051</td> <td>    1.408</td> <td> 0.159</td> <td>   -0.028</td> <td>    0.171</td>\n",
       "</tr>\n",
       "<tr>\n",
       "  <th>country_Turkey</th>                                 <td>    0.1288</td> <td>    0.084</td> <td>    1.539</td> <td> 0.124</td> <td>   -0.035</td> <td>    0.293</td>\n",
       "</tr>\n",
       "<tr>\n",
       "  <th>country_US</th>                                     <td>    0.3681</td> <td>    0.048</td> <td>    7.691</td> <td> 0.000</td> <td>    0.274</td> <td>    0.462</td>\n",
       "</tr>\n",
       "<tr>\n",
       "  <th>country_Uruguay</th>                                <td>    0.1341</td> <td>    0.068</td> <td>    1.963</td> <td> 0.050</td> <td>    0.000</td> <td>    0.268</td>\n",
       "</tr>\n",
       "<tr>\n",
       "  <th>variety_Agiorgitiko</th>                            <td>   -0.4778</td> <td>    0.142</td> <td>   -3.359</td> <td> 0.001</td> <td>   -0.757</td> <td>   -0.199</td>\n",
       "</tr>\n",
       "<tr>\n",
       "  <th>variety_Aglianico</th>                              <td>   -0.0600</td> <td>    0.062</td> <td>   -0.972</td> <td> 0.331</td> <td>   -0.181</td> <td>    0.061</td>\n",
       "</tr>\n",
       "<tr>\n",
       "  <th>variety_Alfrocheiro</th>                            <td>    0.0627</td> <td>    0.119</td> <td>    0.529</td> <td> 0.597</td> <td>   -0.170</td> <td>    0.295</td>\n",
       "</tr>\n",
       "<tr>\n",
       "  <th>variety_Austrian Red Blend</th>                     <td>    0.0226</td> <td>    0.078</td> <td>    0.290</td> <td> 0.772</td> <td>   -0.130</td> <td>    0.175</td>\n",
       "</tr>\n",
       "<tr>\n",
       "  <th>variety_Baco Noir</th>                              <td>    0.0142</td> <td>    0.117</td> <td>    0.121</td> <td> 0.904</td> <td>   -0.216</td> <td>    0.244</td>\n",
       "</tr>\n",
       "<tr>\n",
       "  <th>variety_Baga</th>                                   <td>    0.1930</td> <td>    0.105</td> <td>    1.845</td> <td> 0.065</td> <td>   -0.012</td> <td>    0.398</td>\n",
       "</tr>\n",
       "<tr>\n",
       "  <th>variety_Barbera</th>                                <td>   -0.0648</td> <td>    0.047</td> <td>   -1.386</td> <td> 0.166</td> <td>   -0.156</td> <td>    0.027</td>\n",
       "</tr>\n",
       "<tr>\n",
       "  <th>variety_Black Muscat</th>                           <td>   -0.2275</td> <td>    0.136</td> <td>   -1.670</td> <td> 0.095</td> <td>   -0.495</td> <td>    0.040</td>\n",
       "</tr>\n",
       "<tr>\n",
       "  <th>variety_Blaufränkisch</th>                          <td>   -0.1569</td> <td>    0.054</td> <td>   -2.928</td> <td> 0.003</td> <td>   -0.262</td> <td>   -0.052</td>\n",
       "</tr>\n",
       "<tr>\n",
       "  <th>variety_Bobal</th>                                  <td>    0.0341</td> <td>    0.110</td> <td>    0.311</td> <td> 0.756</td> <td>   -0.181</td> <td>    0.249</td>\n",
       "</tr>\n",
       "<tr>\n",
       "  <th>variety_Bonarda</th>                                <td>   -0.2088</td> <td>    0.059</td> <td>   -3.534</td> <td> 0.000</td> <td>   -0.325</td> <td>   -0.093</td>\n",
       "</tr>\n",
       "<tr>\n",
       "  <th>variety_Bordeaux-style Red Blend</th>               <td>    0.1035</td> <td>    0.041</td> <td>    2.538</td> <td> 0.011</td> <td>    0.024</td> <td>    0.183</td>\n",
       "</tr>\n",
       "<tr>\n",
       "  <th>variety_Cabernet</th>                               <td>   -0.1789</td> <td>    0.084</td> <td>   -2.128</td> <td> 0.033</td> <td>   -0.344</td> <td>   -0.014</td>\n",
       "</tr>\n",
       "<tr>\n",
       "  <th>variety_Cabernet Blend</th>                         <td>    0.2947</td> <td>    0.063</td> <td>    4.702</td> <td> 0.000</td> <td>    0.172</td> <td>    0.418</td>\n",
       "</tr>\n",
       "<tr>\n",
       "  <th>variety_Cabernet Franc</th>                         <td>   -0.0184</td> <td>    0.042</td> <td>   -0.441</td> <td> 0.659</td> <td>   -0.100</td> <td>    0.063</td>\n",
       "</tr>\n",
       "<tr>\n",
       "  <th>variety_Cabernet Sauvignon</th>                     <td>   -0.0085</td> <td>    0.040</td> <td>   -0.210</td> <td> 0.834</td> <td>   -0.087</td> <td>    0.070</td>\n",
       "</tr>\n",
       "<tr>\n",
       "  <th>variety_Carignan</th>                               <td>    0.1566</td> <td>    0.058</td> <td>    2.702</td> <td> 0.007</td> <td>    0.043</td> <td>    0.270</td>\n",
       "</tr>\n",
       "<tr>\n",
       "  <th>variety_Carmenère</th>                              <td>   -0.0805</td> <td>    0.045</td> <td>   -1.805</td> <td> 0.071</td> <td>   -0.168</td> <td>    0.007</td>\n",
       "</tr>\n",
       "<tr>\n",
       "  <th>variety_Castelão</th>                               <td>   -0.2814</td> <td>    0.095</td> <td>   -2.959</td> <td> 0.003</td> <td>   -0.468</td> <td>   -0.095</td>\n",
       "</tr>\n",
       "<tr>\n",
       "  <th>variety_Chambourcin</th>                            <td>   -0.3058</td> <td>    0.116</td> <td>   -2.646</td> <td> 0.008</td> <td>   -0.532</td> <td>   -0.079</td>\n",
       "</tr>\n",
       "<tr>\n",
       "  <th>variety_Cinsault</th>                               <td>   -0.0695</td> <td>    0.081</td> <td>   -0.859</td> <td> 0.390</td> <td>   -0.228</td> <td>    0.089</td>\n",
       "</tr>\n",
       "<tr>\n",
       "  <th>variety_Corvina</th>                                <td>    0.0431</td> <td>    0.107</td> <td>    0.402</td> <td> 0.687</td> <td>   -0.167</td> <td>    0.253</td>\n",
       "</tr>\n",
       "<tr>\n",
       "  <th>variety_Counoise</th>                               <td>   -0.1405</td> <td>    0.131</td> <td>   -1.075</td> <td> 0.282</td> <td>   -0.397</td> <td>    0.116</td>\n",
       "</tr>\n",
       "<tr>\n",
       "  <th>variety_Dornfelder</th>                             <td>   -0.4467</td> <td>    0.098</td> <td>   -4.543</td> <td> 0.000</td> <td>   -0.639</td> <td>   -0.254</td>\n",
       "</tr>\n",
       "<tr>\n",
       "  <th>variety_Douce Noir</th>                             <td>   -0.1728</td> <td>    0.096</td> <td>   -1.805</td> <td> 0.071</td> <td>   -0.360</td> <td>    0.015</td>\n",
       "</tr>\n",
       "<tr>\n",
       "  <th>variety_Duras</th>                                  <td>    0.1055</td> <td>    0.191</td> <td>    0.553</td> <td> 0.580</td> <td>   -0.268</td> <td>    0.479</td>\n",
       "</tr>\n",
       "<tr>\n",
       "  <th>variety_Durif</th>                                  <td>   -0.1292</td> <td>    0.043</td> <td>   -3.005</td> <td> 0.003</td> <td>   -0.213</td> <td>   -0.045</td>\n",
       "</tr>\n",
       "<tr>\n",
       "  <th>variety_Frappato</th>                               <td>   -0.0866</td> <td>    0.085</td> <td>   -1.022</td> <td> 0.307</td> <td>   -0.253</td> <td>    0.079</td>\n",
       "</tr>\n",
       "<tr>\n",
       "  <th>variety_Gaglioppo</th>                              <td>   -0.2530</td> <td>    0.119</td> <td>   -2.135</td> <td> 0.033</td> <td>   -0.485</td> <td>   -0.021</td>\n",
       "</tr>\n",
       "<tr>\n",
       "  <th>variety_Gamay</th>                                  <td>   -0.3479</td> <td>    0.050</td> <td>   -7.028</td> <td> 0.000</td> <td>   -0.445</td> <td>   -0.251</td>\n",
       "</tr>\n",
       "<tr>\n",
       "  <th>variety_Graciano</th>                               <td>    0.2202</td> <td>    0.078</td> <td>    2.807</td> <td> 0.005</td> <td>    0.066</td> <td>    0.374</td>\n",
       "</tr>\n",
       "<tr>\n",
       "  <th>variety_Grenache</th>                               <td>   -0.0388</td> <td>    0.042</td> <td>   -0.919</td> <td> 0.358</td> <td>   -0.121</td> <td>    0.044</td>\n",
       "</tr>\n",
       "<tr>\n",
       "  <th>variety_Grenache Blend</th>                         <td>   -0.0916</td> <td>    0.143</td> <td>   -0.641</td> <td> 0.521</td> <td>   -0.371</td> <td>    0.188</td>\n",
       "</tr>\n",
       "<tr>\n",
       "  <th>variety_Kalecik Karasi</th>                         <td>   -0.2426</td> <td>    0.143</td> <td>   -1.698</td> <td> 0.090</td> <td>   -0.523</td> <td>    0.037</td>\n",
       "</tr>\n",
       "<tr>\n",
       "  <th>variety_Lagrein</th>                                <td>   -0.0079</td> <td>    0.091</td> <td>   -0.087</td> <td> 0.931</td> <td>   -0.187</td> <td>    0.171</td>\n",
       "</tr>\n",
       "<tr>\n",
       "  <th>variety_Malbec</th>                                 <td>   -0.0214</td> <td>    0.041</td> <td>   -0.516</td> <td> 0.606</td> <td>   -0.103</td> <td>    0.060</td>\n",
       "</tr>\n",
       "<tr>\n",
       "  <th>variety_Maturana</th>                               <td>    0.7325</td> <td>    0.181</td> <td>    4.040</td> <td> 0.000</td> <td>    0.377</td> <td>    1.088</td>\n",
       "</tr>\n",
       "<tr>\n",
       "  <th>variety_Mavrud</th>                                 <td>   -0.1306</td> <td>    0.162</td> <td>   -0.804</td> <td> 0.421</td> <td>   -0.449</td> <td>    0.188</td>\n",
       "</tr>\n",
       "<tr>\n",
       "  <th>variety_Mencía</th>                                 <td>   -0.0765</td> <td>    0.082</td> <td>   -0.936</td> <td> 0.349</td> <td>   -0.237</td> <td>    0.084</td>\n",
       "</tr>\n",
       "<tr>\n",
       "  <th>variety_Merlot</th>                                 <td>   -0.1738</td> <td>    0.041</td> <td>   -4.274</td> <td> 0.000</td> <td>   -0.253</td> <td>   -0.094</td>\n",
       "</tr>\n",
       "<tr>\n",
       "  <th>variety_Monastrell</th>                             <td>   -0.1592</td> <td>    0.062</td> <td>   -2.550</td> <td> 0.011</td> <td>   -0.282</td> <td>   -0.037</td>\n",
       "</tr>\n",
       "<tr>\n",
       "  <th>variety_Mondeuse</th>                               <td>    0.0081</td> <td>    0.100</td> <td>    0.081</td> <td> 0.936</td> <td>   -0.188</td> <td>    0.205</td>\n",
       "</tr>\n",
       "<tr>\n",
       "  <th>variety_Mourvèdre</th>                              <td>   -0.0439</td> <td>    0.050</td> <td>   -0.883</td> <td> 0.377</td> <td>   -0.141</td> <td>    0.054</td>\n",
       "</tr>\n",
       "<tr>\n",
       "  <th>variety_Nebbiolo</th>                               <td>    0.0830</td> <td>    0.048</td> <td>    1.733</td> <td> 0.083</td> <td>   -0.011</td> <td>    0.177</td>\n",
       "</tr>\n",
       "<tr>\n",
       "  <th>variety_Negrette</th>                               <td>   -0.2971</td> <td>    0.118</td> <td>   -2.510</td> <td> 0.012</td> <td>   -0.529</td> <td>   -0.065</td>\n",
       "</tr>\n",
       "<tr>\n",
       "  <th>variety_Negroamaro</th>                             <td>   -0.2365</td> <td>    0.073</td> <td>   -3.227</td> <td> 0.001</td> <td>   -0.380</td> <td>   -0.093</td>\n",
       "</tr>\n",
       "<tr>\n",
       "  <th>variety_Nero d'Avola</th>                           <td>   -0.1303</td> <td>    0.051</td> <td>   -2.539</td> <td> 0.011</td> <td>   -0.231</td> <td>   -0.030</td>\n",
       "</tr>\n",
       "<tr>\n",
       "  <th>variety_Nero di Troia</th>                          <td>    0.0679</td> <td>    0.113</td> <td>    0.599</td> <td> 0.549</td> <td>   -0.154</td> <td>    0.290</td>\n",
       "</tr>\n",
       "<tr>\n",
       "  <th>variety_Norton</th>                                 <td>    0.0107</td> <td>    0.115</td> <td>    0.093</td> <td> 0.926</td> <td>   -0.215</td> <td>    0.237</td>\n",
       "</tr>\n",
       "<tr>\n",
       "  <th>variety_Okuzgozu</th>                               <td>   -0.2698</td> <td>    0.171</td> <td>   -1.576</td> <td> 0.115</td> <td>   -0.605</td> <td>    0.066</td>\n",
       "</tr>\n",
       "<tr>\n",
       "  <th>variety_Pallagrello Nero</th>                       <td>    0.2448</td> <td>    0.122</td> <td>    2.004</td> <td> 0.045</td> <td>    0.005</td> <td>    0.484</td>\n",
       "</tr>\n",
       "<tr>\n",
       "  <th>variety_Petite Verdot</th>                          <td>    0.0907</td> <td>    0.047</td> <td>    1.920</td> <td> 0.055</td> <td>   -0.002</td> <td>    0.183</td>\n",
       "</tr>\n",
       "<tr>\n",
       "  <th>variety_Piedirosso</th>                             <td>   -0.1647</td> <td>    0.126</td> <td>   -1.305</td> <td> 0.192</td> <td>   -0.412</td> <td>    0.083</td>\n",
       "</tr>\n",
       "<tr>\n",
       "  <th>variety_Pinot Noir</th>                             <td>    0.0886</td> <td>    0.040</td> <td>    2.188</td> <td> 0.029</td> <td>    0.009</td> <td>    0.168</td>\n",
       "</tr>\n",
       "<tr>\n",
       "  <th>variety_Portuguese Red</th>                         <td>   -0.2519</td> <td>    0.051</td> <td>   -4.943</td> <td> 0.000</td> <td>   -0.352</td> <td>   -0.152</td>\n",
       "</tr>\n",
       "<tr>\n",
       "  <th>variety_Prieto Picudo</th>                          <td>    0.4163</td> <td>    0.120</td> <td>    3.457</td> <td> 0.001</td> <td>    0.180</td> <td>    0.652</td>\n",
       "</tr>\n",
       "<tr>\n",
       "  <th>variety_Primitivo</th>                              <td>   -0.1695</td> <td>    0.041</td> <td>   -4.143</td> <td> 0.000</td> <td>   -0.250</td> <td>   -0.089</td>\n",
       "</tr>\n",
       "<tr>\n",
       "  <th>variety_Provence red blend</th>                     <td>   -0.1440</td> <td>    0.074</td> <td>   -1.939</td> <td> 0.053</td> <td>   -0.290</td> <td>    0.002</td>\n",
       "</tr>\n",
       "<tr>\n",
       "  <th>variety_Raboso</th>                                 <td>   -0.0768</td> <td>    0.126</td> <td>   -0.608</td> <td> 0.543</td> <td>   -0.324</td> <td>    0.171</td>\n",
       "</tr>\n",
       "<tr>\n",
       "  <th>variety_Red Blend</th>                              <td>   -0.0158</td> <td>    0.040</td> <td>   -0.393</td> <td> 0.694</td> <td>   -0.094</td> <td>    0.063</td>\n",
       "</tr>\n",
       "<tr>\n",
       "  <th>variety_Rhône-style Red Blend</th>                  <td>   -0.0868</td> <td>    0.042</td> <td>   -2.065</td> <td> 0.039</td> <td>   -0.169</td> <td>   -0.004</td>\n",
       "</tr>\n",
       "<tr>\n",
       "  <th>variety_Ruché</th>                                  <td>    0.0216</td> <td>    0.131</td> <td>    0.165</td> <td> 0.869</td> <td>   -0.235</td> <td>    0.278</td>\n",
       "</tr>\n",
       "<tr>\n",
       "  <th>variety_Sagrantino</th>                             <td>    0.3410</td> <td>    0.082</td> <td>    4.172</td> <td> 0.000</td> <td>    0.181</td> <td>    0.501</td>\n",
       "</tr>\n",
       "<tr>\n",
       "  <th>variety_Sangiovese</th>                             <td>   -0.0562</td> <td>    0.042</td> <td>   -1.351</td> <td> 0.177</td> <td>   -0.138</td> <td>    0.025</td>\n",
       "</tr>\n",
       "<tr>\n",
       "  <th>variety_Saperavi</th>                               <td>    0.2308</td> <td>    0.146</td> <td>    1.584</td> <td> 0.113</td> <td>   -0.055</td> <td>    0.516</td>\n",
       "</tr>\n",
       "<tr>\n",
       "  <th>variety_Shiraz</th>                                 <td>   -0.0550</td> <td>    0.044</td> <td>   -1.249</td> <td> 0.212</td> <td>   -0.141</td> <td>    0.031</td>\n",
       "</tr>\n",
       "<tr>\n",
       "  <th>variety_Shiraz Blend</th>                           <td>   -0.0576</td> <td>    0.051</td> <td>   -1.120</td> <td> 0.263</td> <td>   -0.158</td> <td>    0.043</td>\n",
       "</tr>\n",
       "<tr>\n",
       "  <th>variety_St. Laurent</th>                            <td>   -0.1149</td> <td>    0.071</td> <td>   -1.624</td> <td> 0.104</td> <td>   -0.254</td> <td>    0.024</td>\n",
       "</tr>\n",
       "<tr>\n",
       "  <th>variety_Syrah</th>                                  <td>   -0.0154</td> <td>    0.040</td> <td>   -0.380</td> <td> 0.704</td> <td>   -0.095</td> <td>    0.064</td>\n",
       "</tr>\n",
       "<tr>\n",
       "  <th>variety_Tannat</th>                                 <td>   -0.0209</td> <td>    0.057</td> <td>   -0.367</td> <td> 0.714</td> <td>   -0.133</td> <td>    0.091</td>\n",
       "</tr>\n",
       "<tr>\n",
       "  <th>variety_Tempranillo</th>                            <td>   -0.1600</td> <td>    0.043</td> <td>   -3.727</td> <td> 0.000</td> <td>   -0.244</td> <td>   -0.076</td>\n",
       "</tr>\n",
       "<tr>\n",
       "  <th>variety_Tempranillo Blend</th>                      <td>   -0.1087</td> <td>    0.047</td> <td>   -2.310</td> <td> 0.021</td> <td>   -0.201</td> <td>   -0.016</td>\n",
       "</tr>\n",
       "<tr>\n",
       "  <th>variety_Teran</th>                                  <td>    0.0359</td> <td>    0.185</td> <td>    0.194</td> <td> 0.846</td> <td>   -0.327</td> <td>    0.399</td>\n",
       "</tr>\n",
       "<tr>\n",
       "  <th>variety_Teroldego</th>                              <td>   -0.0577</td> <td>    0.086</td> <td>   -0.669</td> <td> 0.504</td> <td>   -0.227</td> <td>    0.111</td>\n",
       "</tr>\n",
       "<tr>\n",
       "  <th>variety_Touriga Nacional</th>                       <td>   -0.0515</td> <td>    0.057</td> <td>   -0.905</td> <td> 0.365</td> <td>   -0.163</td> <td>    0.060</td>\n",
       "</tr>\n",
       "<tr>\n",
       "  <th>variety_Touriga Nacional Blend</th>                 <td>   -0.1304</td> <td>    0.124</td> <td>   -1.048</td> <td> 0.295</td> <td>   -0.374</td> <td>    0.114</td>\n",
       "</tr>\n",
       "<tr>\n",
       "  <th>variety_Trollinger</th>                             <td>   -0.4142</td> <td>    0.119</td> <td>   -3.494</td> <td> 0.000</td> <td>   -0.647</td> <td>   -0.182</td>\n",
       "</tr>\n",
       "<tr>\n",
       "  <th>variety_Uva di Troia</th>                           <td>   -0.0423</td> <td>    0.128</td> <td>   -0.331</td> <td> 0.741</td> <td>   -0.293</td> <td>    0.208</td>\n",
       "</tr>\n",
       "<tr>\n",
       "  <th>variety_Xinomavro</th>                              <td>   -0.1318</td> <td>    0.097</td> <td>   -1.362</td> <td> 0.173</td> <td>   -0.322</td> <td>    0.058</td>\n",
       "</tr>\n",
       "<tr>\n",
       "  <th>variety_Zweigelt</th>                               <td>   -0.2788</td> <td>    0.059</td> <td>   -4.720</td> <td> 0.000</td> <td>   -0.395</td> <td>   -0.163</td>\n",
       "</tr>\n",
       "<tr>\n",
       "  <th>region_Aconcagua Valley</th>                        <td>    0.1167</td> <td>    0.050</td> <td>    2.342</td> <td> 0.019</td> <td>    0.019</td> <td>    0.214</td>\n",
       "</tr>\n",
       "<tr>\n",
       "  <th>region_Adelaida District</th>                       <td>    0.1579</td> <td>    0.047</td> <td>    3.353</td> <td> 0.001</td> <td>    0.066</td> <td>    0.250</td>\n",
       "</tr>\n",
       "<tr>\n",
       "  <th>region_Aglianico del Vulture</th>                   <td>   -0.0189</td> <td>    0.068</td> <td>   -0.275</td> <td> 0.783</td> <td>   -0.153</td> <td>    0.115</td>\n",
       "</tr>\n",
       "<tr>\n",
       "  <th>region_Agrelo</th>                                  <td>   -0.0481</td> <td>    0.068</td> <td>   -0.709</td> <td> 0.478</td> <td>   -0.181</td> <td>    0.085</td>\n",
       "</tr>\n",
       "<tr>\n",
       "  <th>region_Alentejano</th>                              <td>    0.1858</td> <td>    0.039</td> <td>    4.815</td> <td> 0.000</td> <td>    0.110</td> <td>    0.261</td>\n",
       "</tr>\n",
       "<tr>\n",
       "  <th>region_Alentejo</th>                                <td>    0.2514</td> <td>    0.052</td> <td>    4.815</td> <td> 0.000</td> <td>    0.149</td> <td>    0.354</td>\n",
       "</tr>\n",
       "<tr>\n",
       "  <th>region_Alexander Valley</th>                        <td>    0.0777</td> <td>    0.021</td> <td>    3.724</td> <td> 0.000</td> <td>    0.037</td> <td>    0.119</td>\n",
       "</tr>\n",
       "<tr>\n",
       "  <th>region_Alicante</th>                                <td>   -0.1082</td> <td>    0.066</td> <td>   -1.637</td> <td> 0.102</td> <td>   -0.238</td> <td>    0.021</td>\n",
       "</tr>\n",
       "<tr>\n",
       "  <th>region_Alsace</th>                                  <td>   -0.1330</td> <td>    0.047</td> <td>   -2.840</td> <td> 0.005</td> <td>   -0.225</td> <td>   -0.041</td>\n",
       "</tr>\n",
       "<tr>\n",
       "  <th>region_Alto Adige</th>                              <td>    0.0626</td> <td>    0.078</td> <td>    0.805</td> <td> 0.421</td> <td>   -0.090</td> <td>    0.215</td>\n",
       "</tr>\n",
       "<tr>\n",
       "  <th>region_Amador County</th>                           <td>   -0.1820</td> <td>    0.026</td> <td>   -6.893</td> <td> 0.000</td> <td>   -0.234</td> <td>   -0.130</td>\n",
       "</tr>\n",
       "<tr>\n",
       "  <th>region_Amarone della Valpolicella</th>              <td>    0.6755</td> <td>    0.044</td> <td>   15.436</td> <td> 0.000</td> <td>    0.590</td> <td>    0.761</td>\n",
       "</tr>\n",
       "<tr>\n",
       "  <th>region_Amarone della Valpolicella Classico</th>     <td>    0.7499</td> <td>    0.032</td> <td>   23.259</td> <td> 0.000</td> <td>    0.687</td> <td>    0.813</td>\n",
       "</tr>\n",
       "<tr>\n",
       "  <th>region_America</th>                                 <td>   -0.3368</td> <td>    0.063</td> <td>   -5.319</td> <td> 0.000</td> <td>   -0.461</td> <td>   -0.213</td>\n",
       "</tr>\n",
       "<tr>\n",
       "  <th>region_Anderson Valley</th>                         <td>    0.0287</td> <td>    0.025</td> <td>    1.168</td> <td> 0.243</td> <td>   -0.019</td> <td>    0.077</td>\n",
       "</tr>\n",
       "<tr>\n",
       "  <th>region_Applegate Valley</th>                        <td>   -0.0135</td> <td>    0.042</td> <td>   -0.318</td> <td> 0.750</td> <td>   -0.097</td> <td>    0.070</td>\n",
       "</tr>\n",
       "<tr>\n",
       "  <th>region_Arroyo Grande Valley</th>                    <td>   -0.0246</td> <td>    0.048</td> <td>   -0.511</td> <td> 0.609</td> <td>   -0.119</td> <td>    0.070</td>\n",
       "</tr>\n",
       "<tr>\n",
       "  <th>region_Arroyo Seco</th>                             <td>   -0.2145</td> <td>    0.048</td> <td>   -4.469</td> <td> 0.000</td> <td>   -0.309</td> <td>   -0.120</td>\n",
       "</tr>\n",
       "<tr>\n",
       "  <th>region_Atlas Peak</th>                              <td>    0.4744</td> <td>    0.055</td> <td>    8.587</td> <td> 0.000</td> <td>    0.366</td> <td>    0.583</td>\n",
       "</tr>\n",
       "<tr>\n",
       "  <th>region_Baden</th>                                   <td>    0.4659</td> <td>    0.076</td> <td>    6.152</td> <td> 0.000</td> <td>    0.317</td> <td>    0.614</td>\n",
       "</tr>\n",
       "<tr>\n",
       "  <th>region_Bairrada</th>                                <td>    0.1239</td> <td>    0.058</td> <td>    2.143</td> <td> 0.032</td> <td>    0.011</td> <td>    0.237</td>\n",
       "</tr>\n",
       "<tr>\n",
       "  <th>region_Ballard Canyon</th>                          <td>    0.0043</td> <td>    0.056</td> <td>    0.077</td> <td> 0.939</td> <td>   -0.106</td> <td>    0.115</td>\n",
       "</tr>\n",
       "<tr>\n",
       "  <th>region_Barbaresco</th>                              <td>    0.3989</td> <td>    0.031</td> <td>   12.826</td> <td> 0.000</td> <td>    0.338</td> <td>    0.460</td>\n",
       "</tr>\n",
       "<tr>\n",
       "  <th>region_Barbera d'Alba</th>                          <td>   -0.0380</td> <td>    0.046</td> <td>   -0.829</td> <td> 0.407</td> <td>   -0.128</td> <td>    0.052</td>\n",
       "</tr>\n",
       "<tr>\n",
       "  <th>region_Barbera d'Asti</th>                          <td>   -0.1822</td> <td>    0.050</td> <td>   -3.615</td> <td> 0.000</td> <td>   -0.281</td> <td>   -0.083</td>\n",
       "</tr>\n",
       "<tr>\n",
       "  <th>region_Barbera d'Asti Superiore</th>                <td>   -0.0009</td> <td>    0.058</td> <td>   -0.016</td> <td> 0.987</td> <td>   -0.115</td> <td>    0.113</td>\n",
       "</tr>\n",
       "<tr>\n",
       "  <th>region_Barolo</th>                                  <td>    0.5720</td> <td>    0.028</td> <td>   20.095</td> <td> 0.000</td> <td>    0.516</td> <td>    0.628</td>\n",
       "</tr>\n",
       "<tr>\n",
       "  <th>region_Barossa</th>                                 <td>    0.0806</td> <td>    0.045</td> <td>    1.794</td> <td> 0.073</td> <td>   -0.007</td> <td>    0.169</td>\n",
       "</tr>\n",
       "<tr>\n",
       "  <th>region_Barossa Valley</th>                          <td>    0.1989</td> <td>    0.043</td> <td>    4.654</td> <td> 0.000</td> <td>    0.115</td> <td>    0.283</td>\n",
       "</tr>\n",
       "<tr>\n",
       "  <th>region_Beaujolais</th>                              <td>   -0.1626</td> <td>    0.052</td> <td>   -3.106</td> <td> 0.002</td> <td>   -0.265</td> <td>   -0.060</td>\n",
       "</tr>\n",
       "<tr>\n",
       "  <th>region_Beaujolais-Villages</th>                     <td>   -0.1953</td> <td>    0.044</td> <td>   -4.483</td> <td> 0.000</td> <td>   -0.281</td> <td>   -0.110</td>\n",
       "</tr>\n",
       "<tr>\n",
       "  <th>region_Beaune</th>                                  <td>    0.2820</td> <td>    0.040</td> <td>    7.078</td> <td> 0.000</td> <td>    0.204</td> <td>    0.360</td>\n",
       "</tr>\n",
       "<tr>\n",
       "  <th>region_Bennett Valley</th>                          <td>   -0.0042</td> <td>    0.065</td> <td>   -0.064</td> <td> 0.949</td> <td>   -0.131</td> <td>    0.123</td>\n",
       "</tr>\n",
       "<tr>\n",
       "  <th>region_Bierzo</th>                                  <td>   -0.0357</td> <td>    0.078</td> <td>   -0.460</td> <td> 0.645</td> <td>   -0.188</td> <td>    0.116</td>\n",
       "</tr>\n",
       "<tr>\n",
       "  <th>region_Blaye Côtes de Bordeaux</th>                 <td>   -0.4014</td> <td>    0.029</td> <td>  -13.945</td> <td> 0.000</td> <td>   -0.458</td> <td>   -0.345</td>\n",
       "</tr>\n",
       "<tr>\n",
       "  <th>region_Bolgheri</th>                                <td>    0.1622</td> <td>    0.036</td> <td>    4.469</td> <td> 0.000</td> <td>    0.091</td> <td>    0.233</td>\n",
       "</tr>\n",
       "<tr>\n",
       "  <th>region_Bolgheri Superiore</th>                      <td>    0.6163</td> <td>    0.051</td> <td>   12.026</td> <td> 0.000</td> <td>    0.516</td> <td>    0.717</td>\n",
       "</tr>\n",
       "<tr>\n",
       "  <th>region_Bordeaux</th>                                <td>   -0.6138</td> <td>    0.023</td> <td>  -26.186</td> <td> 0.000</td> <td>   -0.660</td> <td>   -0.568</td>\n",
       "</tr>\n",
       "<tr>\n",
       "  <th>region_Bordeaux Supérieur</th>                      <td>   -0.4794</td> <td>    0.025</td> <td>  -19.271</td> <td> 0.000</td> <td>   -0.528</td> <td>   -0.431</td>\n",
       "</tr>\n",
       "<tr>\n",
       "  <th>region_Bourgogne</th>                               <td>   -0.1393</td> <td>    0.050</td> <td>   -2.813</td> <td> 0.005</td> <td>   -0.236</td> <td>   -0.042</td>\n",
       "</tr>\n",
       "<tr>\n",
       "  <th>region_Brouilly</th>                                <td>    0.0529</td> <td>    0.060</td> <td>    0.887</td> <td> 0.375</td> <td>   -0.064</td> <td>    0.170</td>\n",
       "</tr>\n",
       "<tr>\n",
       "  <th>region_Brunello di Montalcino</th>                  <td>    0.7130</td> <td>    0.020</td> <td>   35.458</td> <td> 0.000</td> <td>    0.674</td> <td>    0.752</td>\n",
       "</tr>\n",
       "<tr>\n",
       "  <th>region_Burgenland</th>                              <td>   -0.1338</td> <td>    0.048</td> <td>   -2.808</td> <td> 0.005</td> <td>   -0.227</td> <td>   -0.040</td>\n",
       "</tr>\n",
       "<tr>\n",
       "  <th>region_Cachapoal Valley</th>                        <td>   -0.0615</td> <td>    0.040</td> <td>   -1.544</td> <td> 0.123</td> <td>   -0.140</td> <td>    0.017</td>\n",
       "</tr>\n",
       "<tr>\n",
       "  <th>region_Cadillac Côtes de Bordeaux</th>              <td>   -0.3692</td> <td>    0.042</td> <td>   -8.704</td> <td> 0.000</td> <td>   -0.452</td> <td>   -0.286</td>\n",
       "</tr>\n",
       "<tr>\n",
       "  <th>region_Cafayate</th>                                <td>    0.0793</td> <td>    0.068</td> <td>    1.173</td> <td> 0.241</td> <td>   -0.053</td> <td>    0.212</td>\n",
       "</tr>\n",
       "<tr>\n",
       "  <th>region_Cahors</th>                                  <td>   -0.2690</td> <td>    0.026</td> <td>  -10.545</td> <td> 0.000</td> <td>   -0.319</td> <td>   -0.219</td>\n",
       "</tr>\n",
       "<tr>\n",
       "  <th>region_Calatayud</th>                               <td>   -0.3002</td> <td>    0.055</td> <td>   -5.422</td> <td> 0.000</td> <td>   -0.409</td> <td>   -0.192</td>\n",
       "</tr>\n",
       "<tr>\n",
       "  <th>region_Calaveras County</th>                        <td>   -0.1620</td> <td>    0.052</td> <td>   -3.124</td> <td> 0.002</td> <td>   -0.264</td> <td>   -0.060</td>\n",
       "</tr>\n",
       "<tr>\n",
       "  <th>region_California</th>                              <td>   -0.5561</td> <td>    0.016</td> <td>  -33.885</td> <td> 0.000</td> <td>   -0.588</td> <td>   -0.524</td>\n",
       "</tr>\n",
       "<tr>\n",
       "  <th>region_Calistoga</th>                               <td>    0.4321</td> <td>    0.042</td> <td>   10.323</td> <td> 0.000</td> <td>    0.350</td> <td>    0.514</td>\n",
       "</tr>\n",
       "<tr>\n",
       "  <th>region_Campo de Borja</th>                          <td>   -0.3711</td> <td>    0.046</td> <td>   -8.095</td> <td> 0.000</td> <td>   -0.461</td> <td>   -0.281</td>\n",
       "</tr>\n",
       "<tr>\n",
       "  <th>region_Cariñena</th>                                <td>   -0.3235</td> <td>    0.044</td> <td>   -7.420</td> <td> 0.000</td> <td>   -0.409</td> <td>   -0.238</td>\n",
       "</tr>\n",
       "<tr>\n",
       "  <th>region_Carmel Valley</th>                           <td>    0.0769</td> <td>    0.051</td> <td>    1.503</td> <td> 0.133</td> <td>   -0.023</td> <td>    0.177</td>\n",
       "</tr>\n",
       "<tr>\n",
       "  <th>region_Carneros</th>                                <td>    0.0237</td> <td>    0.023</td> <td>    1.013</td> <td> 0.311</td> <td>   -0.022</td> <td>    0.070</td>\n",
       "</tr>\n",
       "<tr>\n",
       "  <th>region_Carnuntum</th>                               <td>   -0.1025</td> <td>    0.070</td> <td>   -1.469</td> <td> 0.142</td> <td>   -0.239</td> <td>    0.034</td>\n",
       "</tr>\n",
       "<tr>\n",
       "  <th>region_Casablanca Valley</th>                       <td>   -0.1234</td> <td>    0.039</td> <td>   -3.151</td> <td> 0.002</td> <td>   -0.200</td> <td>   -0.047</td>\n",
       "</tr>\n",
       "<tr>\n",
       "  <th>region_Castillon Côtes de Bordeaux</th>             <td>   -0.3549</td> <td>    0.040</td> <td>   -8.920</td> <td> 0.000</td> <td>   -0.433</td> <td>   -0.277</td>\n",
       "</tr>\n",
       "<tr>\n",
       "  <th>region_Central Coast</th>                           <td>   -0.3000</td> <td>    0.024</td> <td>  -12.623</td> <td> 0.000</td> <td>   -0.347</td> <td>   -0.253</td>\n",
       "</tr>\n",
       "<tr>\n",
       "  <th>region_Central Otago</th>                           <td>    0.2704</td> <td>    0.068</td> <td>    4.005</td> <td> 0.000</td> <td>    0.138</td> <td>    0.403</td>\n",
       "</tr>\n",
       "<tr>\n",
       "  <th>region_Central Valley</th>                          <td>   -0.3802</td> <td>    0.037</td> <td>  -10.168</td> <td> 0.000</td> <td>   -0.453</td> <td>   -0.307</td>\n",
       "</tr>\n",
       "<tr>\n",
       "  <th>region_Chalk Hill</th>                              <td>    0.3176</td> <td>    0.062</td> <td>    5.115</td> <td> 0.000</td> <td>    0.196</td> <td>    0.439</td>\n",
       "</tr>\n",
       "<tr>\n",
       "  <th>region_Chalone</th>                                 <td>   -0.0835</td> <td>    0.065</td> <td>   -1.289</td> <td> 0.197</td> <td>   -0.210</td> <td>    0.043</td>\n",
       "</tr>\n",
       "<tr>\n",
       "  <th>region_Chambolle-Musigny</th>                       <td>    0.8114</td> <td>    0.063</td> <td>   12.830</td> <td> 0.000</td> <td>    0.687</td> <td>    0.935</td>\n",
       "</tr>\n",
       "<tr>\n",
       "  <th>region_Champagne</th>                               <td>    0.4305</td> <td>    0.062</td> <td>    6.942</td> <td> 0.000</td> <td>    0.309</td> <td>    0.552</td>\n",
       "</tr>\n",
       "<tr>\n",
       "  <th>region_Chehalem Mountains</th>                      <td>    0.0999</td> <td>    0.030</td> <td>    3.375</td> <td> 0.001</td> <td>    0.042</td> <td>    0.158</td>\n",
       "</tr>\n",
       "<tr>\n",
       "  <th>region_Chianti</th>                                 <td>   -0.3992</td> <td>    0.040</td> <td>  -10.003</td> <td> 0.000</td> <td>   -0.477</td> <td>   -0.321</td>\n",
       "</tr>\n",
       "<tr>\n",
       "  <th>region_Chianti Classico</th>                        <td>   -0.0150</td> <td>    0.019</td> <td>   -0.790</td> <td> 0.430</td> <td>   -0.052</td> <td>    0.022</td>\n",
       "</tr>\n",
       "<tr>\n",
       "  <th>region_Chianti Rufina</th>                          <td>   -0.1652</td> <td>    0.056</td> <td>   -2.942</td> <td> 0.003</td> <td>   -0.275</td> <td>   -0.055</td>\n",
       "</tr>\n",
       "<tr>\n",
       "  <th>region_Chinon</th>                                  <td>   -0.3766</td> <td>    0.064</td> <td>   -5.928</td> <td> 0.000</td> <td>   -0.501</td> <td>   -0.252</td>\n",
       "</tr>\n",
       "<tr>\n",
       "  <th>region_Châteauneuf-du-Pape</th>                     <td>    0.4773</td> <td>    0.040</td> <td>   11.999</td> <td> 0.000</td> <td>    0.399</td> <td>    0.555</td>\n",
       "</tr>\n",
       "<tr>\n",
       "  <th>region_Clare Valley</th>                            <td>    0.1615</td> <td>    0.058</td> <td>    2.793</td> <td> 0.005</td> <td>    0.048</td> <td>    0.275</td>\n",
       "</tr>\n",
       "<tr>\n",
       "  <th>region_Clarksburg</th>                              <td>   -0.3866</td> <td>    0.067</td> <td>   -5.765</td> <td> 0.000</td> <td>   -0.518</td> <td>   -0.255</td>\n",
       "</tr>\n",
       "<tr>\n",
       "  <th>region_Coastal Region</th>                          <td>   -0.2483</td> <td>    0.060</td> <td>   -4.151</td> <td> 0.000</td> <td>   -0.366</td> <td>   -0.131</td>\n",
       "</tr>\n",
       "<tr>\n",
       "  <th>region_Colchagua Valley</th>                        <td>   -0.1807</td> <td>    0.029</td> <td>   -6.236</td> <td> 0.000</td> <td>   -0.238</td> <td>   -0.124</td>\n",
       "</tr>\n",
       "<tr>\n",
       "  <th>region_Columbia Valley (OR)</th>                    <td>    0.0734</td> <td>    0.058</td> <td>    1.269</td> <td> 0.204</td> <td>   -0.040</td> <td>    0.187</td>\n",
       "</tr>\n",
       "<tr>\n",
       "  <th>region_Columbia Valley (WA)</th>                    <td>   -0.1921</td> <td>    0.014</td> <td>  -13.254</td> <td> 0.000</td> <td>   -0.220</td> <td>   -0.164</td>\n",
       "</tr>\n",
       "<tr>\n",
       "  <th>region_Contra Costa County</th>                     <td>   -0.0992</td> <td>    0.057</td> <td>   -1.735</td> <td> 0.083</td> <td>   -0.211</td> <td>    0.013</td>\n",
       "</tr>\n",
       "<tr>\n",
       "  <th>region_Coombsville</th>                             <td>    0.5047</td> <td>    0.063</td> <td>    8.038</td> <td> 0.000</td> <td>    0.382</td> <td>    0.628</td>\n",
       "</tr>\n",
       "<tr>\n",
       "  <th>region_Coonawarra</th>                              <td>   -0.0908</td> <td>    0.064</td> <td>   -1.424</td> <td> 0.155</td> <td>   -0.216</td> <td>    0.034</td>\n",
       "</tr>\n",
       "<tr>\n",
       "  <th>region_Costières de Nîmes</th>                      <td>   -0.5236</td> <td>    0.059</td> <td>   -8.893</td> <td> 0.000</td> <td>   -0.639</td> <td>   -0.408</td>\n",
       "</tr>\n",
       "<tr>\n",
       "  <th>region_Curicó Valley</th>                           <td>   -0.3079</td> <td>    0.042</td> <td>   -7.307</td> <td> 0.000</td> <td>   -0.390</td> <td>   -0.225</td>\n",
       "</tr>\n",
       "<tr>\n",
       "  <th>region_Curicó and Maipo Valleys</th>                <td>    0.1161</td> <td>    0.431</td> <td>    0.269</td> <td> 0.788</td> <td>   -0.729</td> <td>    0.961</td>\n",
       "</tr>\n",
       "<tr>\n",
       "  <th>region_Côtes de Bordeaux</th>                       <td>   -0.4213</td> <td>    0.065</td> <td>   -6.510</td> <td> 0.000</td> <td>   -0.548</td> <td>   -0.294</td>\n",
       "</tr>\n",
       "<tr>\n",
       "  <th>region_Côtes de Bourg</th>                          <td>   -0.3751</td> <td>    0.048</td> <td>   -7.881</td> <td> 0.000</td> <td>   -0.468</td> <td>   -0.282</td>\n",
       "</tr>\n",
       "<tr>\n",
       "  <th>region_Côtes de Provence</th>                       <td>   -0.1975</td> <td>    0.063</td> <td>   -3.120</td> <td> 0.002</td> <td>   -0.322</td> <td>   -0.073</td>\n",
       "</tr>\n",
       "<tr>\n",
       "  <th>region_Côtes du Rhône</th>                          <td>   -0.5412</td> <td>    0.038</td> <td>  -14.073</td> <td> 0.000</td> <td>   -0.617</td> <td>   -0.466</td>\n",
       "</tr>\n",
       "<tr>\n",
       "  <th>region_Diamond Mountain District</th>               <td>    0.5149</td> <td>    0.037</td> <td>   13.854</td> <td> 0.000</td> <td>    0.442</td> <td>    0.588</td>\n",
       "</tr>\n",
       "<tr>\n",
       "  <th>region_Douro</th>                                   <td>    0.3495</td> <td>    0.037</td> <td>    9.343</td> <td> 0.000</td> <td>    0.276</td> <td>    0.423</td>\n",
       "</tr>\n",
       "<tr>\n",
       "  <th>region_Dry Creek Valley</th>                        <td>    0.0477</td> <td>    0.020</td> <td>    2.358</td> <td> 0.018</td> <td>    0.008</td> <td>    0.087</td>\n",
       "</tr>\n",
       "<tr>\n",
       "  <th>region_Dundee Hills</th>                            <td>    0.1750</td> <td>    0.026</td> <td>    6.847</td> <td> 0.000</td> <td>    0.125</td> <td>    0.225</td>\n",
       "</tr>\n",
       "<tr>\n",
       "  <th>region_Dão</th>                                     <td>    0.1283</td> <td>    0.046</td> <td>    2.776</td> <td> 0.005</td> <td>    0.038</td> <td>    0.219</td>\n",
       "</tr>\n",
       "<tr>\n",
       "  <th>region_Edna Valley</th>                             <td>   -0.0688</td> <td>    0.034</td> <td>   -2.035</td> <td> 0.042</td> <td>   -0.135</td> <td>   -0.003</td>\n",
       "</tr>\n",
       "<tr>\n",
       "  <th>region_El Dorado</th>                               <td>   -0.2448</td> <td>    0.031</td> <td>   -8.022</td> <td> 0.000</td> <td>   -0.305</td> <td>   -0.185</td>\n",
       "</tr>\n",
       "<tr>\n",
       "  <th>region_Eola-Amity Hills</th>                        <td>    0.0405</td> <td>    0.033</td> <td>    1.232</td> <td> 0.218</td> <td>   -0.024</td> <td>    0.105</td>\n",
       "</tr>\n",
       "<tr>\n",
       "  <th>region_Etna</th>                                    <td>    0.1214</td> <td>    0.037</td> <td>    3.282</td> <td> 0.001</td> <td>    0.049</td> <td>    0.194</td>\n",
       "</tr>\n",
       "<tr>\n",
       "  <th>region_Finger Lakes</th>                            <td>   -0.2578</td> <td>    0.025</td> <td>  -10.505</td> <td> 0.000</td> <td>   -0.306</td> <td>   -0.210</td>\n",
       "</tr>\n",
       "<tr>\n",
       "  <th>region_Fleurie</th>                                 <td>   -0.0360</td> <td>    0.057</td> <td>   -0.638</td> <td> 0.524</td> <td>   -0.147</td> <td>    0.075</td>\n",
       "</tr>\n",
       "<tr>\n",
       "  <th>region_Gaillac</th>                                 <td>   -0.4875</td> <td>    0.063</td> <td>   -7.707</td> <td> 0.000</td> <td>   -0.611</td> <td>   -0.364</td>\n",
       "</tr>\n",
       "<tr>\n",
       "  <th>region_Galilee</th>                                 <td>   -0.0519</td> <td>    0.056</td> <td>   -0.936</td> <td> 0.349</td> <td>   -0.161</td> <td>    0.057</td>\n",
       "</tr>\n",
       "<tr>\n",
       "  <th>region_Gevrey-Chambertin</th>                       <td>    0.6124</td> <td>    0.052</td> <td>   11.832</td> <td> 0.000</td> <td>    0.511</td> <td>    0.714</td>\n",
       "</tr>\n",
       "<tr>\n",
       "  <th>region_Graves</th>                                  <td>   -0.2840</td> <td>    0.060</td> <td>   -4.738</td> <td> 0.000</td> <td>   -0.401</td> <td>   -0.167</td>\n",
       "</tr>\n",
       "<tr>\n",
       "  <th>region_Green Valley</th>                            <td>    0.0858</td> <td>    0.047</td> <td>    1.825</td> <td> 0.068</td> <td>   -0.006</td> <td>    0.178</td>\n",
       "</tr>\n",
       "<tr>\n",
       "  <th>region_Happy Canyon of Santa Barbara</th>           <td>    0.1597</td> <td>    0.047</td> <td>    3.431</td> <td> 0.001</td> <td>    0.068</td> <td>    0.251</td>\n",
       "</tr>\n",
       "<tr>\n",
       "  <th>region_Haut-Médoc</th>                              <td>   -0.2797</td> <td>    0.029</td> <td>   -9.544</td> <td> 0.000</td> <td>   -0.337</td> <td>   -0.222</td>\n",
       "</tr>\n",
       "<tr>\n",
       "  <th>region_Hawke's Bay</th>                             <td>    0.0757</td> <td>    0.072</td> <td>    1.046</td> <td> 0.296</td> <td>   -0.066</td> <td>    0.218</td>\n",
       "</tr>\n",
       "<tr>\n",
       "  <th>region_Horse Heaven Hills</th>                      <td>   -0.0764</td> <td>    0.024</td> <td>   -3.164</td> <td> 0.002</td> <td>   -0.124</td> <td>   -0.029</td>\n",
       "</tr>\n",
       "<tr>\n",
       "  <th>region_Howell Mountain</th>                         <td>    0.5025</td> <td>    0.035</td> <td>   14.270</td> <td> 0.000</td> <td>    0.434</td> <td>    0.572</td>\n",
       "</tr>\n",
       "<tr>\n",
       "  <th>region_Idaho</th>                                   <td>   -0.2085</td> <td>    0.042</td> <td>   -4.935</td> <td> 0.000</td> <td>   -0.291</td> <td>   -0.126</td>\n",
       "</tr>\n",
       "<tr>\n",
       "  <th>region_Irpinia</th>                                 <td>    0.1039</td> <td>    0.077</td> <td>    1.348</td> <td> 0.178</td> <td>   -0.047</td> <td>    0.255</td>\n",
       "</tr>\n",
       "<tr>\n",
       "  <th>region_Judean Hills</th>                            <td>    0.1878</td> <td>    0.063</td> <td>    2.960</td> <td> 0.003</td> <td>    0.063</td> <td>    0.312</td>\n",
       "</tr>\n",
       "<tr>\n",
       "  <th>region_Jumilla</th>                                 <td>   -0.1907</td> <td>    0.047</td> <td>   -4.052</td> <td> 0.000</td> <td>   -0.283</td> <td>   -0.098</td>\n",
       "</tr>\n",
       "<tr>\n",
       "  <th>region_Knights Valley</th>                          <td>    0.2538</td> <td>    0.047</td> <td>    5.370</td> <td> 0.000</td> <td>    0.161</td> <td>    0.346</td>\n",
       "</tr>\n",
       "<tr>\n",
       "  <th>region_La Consulta</th>                             <td>    0.2428</td> <td>    0.068</td> <td>    3.588</td> <td> 0.000</td> <td>    0.110</td> <td>    0.375</td>\n",
       "</tr>\n",
       "<tr>\n",
       "  <th>region_La Mancha</th>                               <td>   -0.3523</td> <td>    0.056</td> <td>   -6.342</td> <td> 0.000</td> <td>   -0.461</td> <td>   -0.243</td>\n",
       "</tr>\n",
       "<tr>\n",
       "  <th>region_Lake County</th>                             <td>   -0.1800</td> <td>    0.039</td> <td>   -4.648</td> <td> 0.000</td> <td>   -0.256</td> <td>   -0.104</td>\n",
       "</tr>\n",
       "<tr>\n",
       "  <th>region_Lalande de Pomerol</th>                      <td>   -0.1257</td> <td>    0.056</td> <td>   -2.242</td> <td> 0.025</td> <td>   -0.236</td> <td>   -0.016</td>\n",
       "</tr>\n",
       "<tr>\n",
       "  <th>region_Langhe</th>                                  <td>    0.0730</td> <td>    0.055</td> <td>    1.334</td> <td> 0.182</td> <td>   -0.034</td> <td>    0.180</td>\n",
       "</tr>\n",
       "<tr>\n",
       "  <th>region_Leyda Valley</th>                            <td>   -0.0229</td> <td>    0.061</td> <td>   -0.376</td> <td> 0.707</td> <td>   -0.142</td> <td>    0.096</td>\n",
       "</tr>\n",
       "<tr>\n",
       "  <th>region_Limarí Valley</th>                           <td>   -0.1991</td> <td>    0.070</td> <td>   -2.846</td> <td> 0.004</td> <td>   -0.336</td> <td>   -0.062</td>\n",
       "</tr>\n",
       "<tr>\n",
       "  <th>region_Lisboa</th>                                  <td>   -0.0177</td> <td>    0.043</td> <td>   -0.408</td> <td> 0.683</td> <td>   -0.103</td> <td>    0.067</td>\n",
       "</tr>\n",
       "<tr>\n",
       "  <th>region_Livermore Valley</th>                        <td>    0.0545</td> <td>    0.027</td> <td>    2.054</td> <td> 0.040</td> <td>    0.003</td> <td>    0.106</td>\n",
       "</tr>\n",
       "<tr>\n",
       "  <th>region_Lodi</th>                                    <td>   -0.3653</td> <td>    0.022</td> <td>  -16.895</td> <td> 0.000</td> <td>   -0.408</td> <td>   -0.323</td>\n",
       "</tr>\n",
       "<tr>\n",
       "  <th>region_Los Carneros</th>                            <td>   -0.0155</td> <td>    0.065</td> <td>   -0.237</td> <td> 0.813</td> <td>   -0.144</td> <td>    0.113</td>\n",
       "</tr>\n",
       "<tr>\n",
       "  <th>region_Luján de Cuyo</th>                           <td>    0.0702</td> <td>    0.043</td> <td>    1.628</td> <td> 0.103</td> <td>   -0.014</td> <td>    0.155</td>\n",
       "</tr>\n",
       "<tr>\n",
       "  <th>region_Madiran</th>                                 <td>   -0.5326</td> <td>    0.056</td> <td>   -9.520</td> <td> 0.000</td> <td>   -0.642</td> <td>   -0.423</td>\n",
       "</tr>\n",
       "<tr>\n",
       "  <th>region_Maipo Valley</th>                            <td>   -0.1296</td> <td>    0.030</td> <td>   -4.301</td> <td> 0.000</td> <td>   -0.189</td> <td>   -0.071</td>\n",
       "</tr>\n",
       "<tr>\n",
       "  <th>region_Maipo Valley-Colchagua Valley</th>           <td>   -0.5682</td> <td>    0.250</td> <td>   -2.275</td> <td> 0.023</td> <td>   -1.058</td> <td>   -0.079</td>\n",
       "</tr>\n",
       "<tr>\n",
       "  <th>region_Maremma</th>                                 <td>    0.0394</td> <td>    0.061</td> <td>    0.640</td> <td> 0.522</td> <td>   -0.081</td> <td>    0.160</td>\n",
       "</tr>\n",
       "<tr>\n",
       "  <th>region_Maremma Toscana</th>                         <td>    0.1378</td> <td>    0.051</td> <td>    2.677</td> <td> 0.007</td> <td>    0.037</td> <td>    0.239</td>\n",
       "</tr>\n",
       "<tr>\n",
       "  <th>region_Margaret River</th>                          <td>    0.0842</td> <td>    0.054</td> <td>    1.566</td> <td> 0.117</td> <td>   -0.021</td> <td>    0.190</td>\n",
       "</tr>\n",
       "<tr>\n",
       "  <th>region_Margaux</th>                                 <td>    0.2247</td> <td>    0.046</td> <td>    4.892</td> <td> 0.000</td> <td>    0.135</td> <td>    0.315</td>\n",
       "</tr>\n",
       "<tr>\n",
       "  <th>region_Marlborough</th>                             <td>   -0.0266</td> <td>    0.062</td> <td>   -0.432</td> <td> 0.666</td> <td>   -0.148</td> <td>    0.094</td>\n",
       "</tr>\n",
       "<tr>\n",
       "  <th>region_Martinborough</th>                           <td>    0.3329</td> <td>    0.078</td> <td>    4.270</td> <td> 0.000</td> <td>    0.180</td> <td>    0.486</td>\n",
       "</tr>\n",
       "<tr>\n",
       "  <th>region_Maule Valley</th>                            <td>   -0.2784</td> <td>    0.033</td> <td>   -8.416</td> <td> 0.000</td> <td>   -0.343</td> <td>   -0.214</td>\n",
       "</tr>\n",
       "<tr>\n",
       "  <th>region_McLaren Vale</th>                            <td>    0.1599</td> <td>    0.034</td> <td>    4.771</td> <td> 0.000</td> <td>    0.094</td> <td>    0.226</td>\n",
       "</tr>\n",
       "<tr>\n",
       "  <th>region_McMinnville</th>                             <td>    0.1175</td> <td>    0.047</td> <td>    2.495</td> <td> 0.013</td> <td>    0.025</td> <td>    0.210</td>\n",
       "</tr>\n",
       "<tr>\n",
       "  <th>region_Mendocino</th>                               <td>   -0.1706</td> <td>    0.031</td> <td>   -5.570</td> <td> 0.000</td> <td>   -0.231</td> <td>   -0.111</td>\n",
       "</tr>\n",
       "<tr>\n",
       "  <th>region_Mendocino County</th>                        <td>   -0.3195</td> <td>    0.031</td> <td>  -10.474</td> <td> 0.000</td> <td>   -0.379</td> <td>   -0.260</td>\n",
       "</tr>\n",
       "<tr>\n",
       "  <th>region_Mendocino Ridge</th>                         <td>   -0.0241</td> <td>    0.053</td> <td>   -0.453</td> <td> 0.651</td> <td>   -0.129</td> <td>    0.080</td>\n",
       "</tr>\n",
       "<tr>\n",
       "  <th>region_Mendoza</th>                                 <td>   -0.1497</td> <td>    0.029</td> <td>   -5.249</td> <td> 0.000</td> <td>   -0.206</td> <td>   -0.094</td>\n",
       "</tr>\n",
       "<tr>\n",
       "  <th>region_Mercurey</th>                                <td>    0.0580</td> <td>    0.050</td> <td>    1.156</td> <td> 0.248</td> <td>   -0.040</td> <td>    0.156</td>\n",
       "</tr>\n",
       "<tr>\n",
       "  <th>region_Montefalco Rosso</th>                        <td>   -0.1612</td> <td>    0.058</td> <td>   -2.763</td> <td> 0.006</td> <td>   -0.276</td> <td>   -0.047</td>\n",
       "</tr>\n",
       "<tr>\n",
       "  <th>region_Montefalco Sagrantino</th>                   <td>    0.0964</td> <td>    0.091</td> <td>    1.056</td> <td> 0.291</td> <td>   -0.083</td> <td>    0.275</td>\n",
       "</tr>\n",
       "<tr>\n",
       "  <th>region_Montepulciano d'Abruzzo</th>                 <td>   -0.2250</td> <td>    0.041</td> <td>   -5.483</td> <td> 0.000</td> <td>   -0.305</td> <td>   -0.145</td>\n",
       "</tr>\n",
       "<tr>\n",
       "  <th>region_Monterey</th>                                <td>   -0.2156</td> <td>    0.037</td> <td>   -5.775</td> <td> 0.000</td> <td>   -0.289</td> <td>   -0.142</td>\n",
       "</tr>\n",
       "<tr>\n",
       "  <th>region_Monterey County</th>                         <td>   -0.2652</td> <td>    0.038</td> <td>   -7.070</td> <td> 0.000</td> <td>   -0.339</td> <td>   -0.192</td>\n",
       "</tr>\n",
       "<tr>\n",
       "  <th>region_Monticello</th>                              <td>   -0.1105</td> <td>    0.050</td> <td>   -2.218</td> <td> 0.027</td> <td>   -0.208</td> <td>   -0.013</td>\n",
       "</tr>\n",
       "<tr>\n",
       "  <th>region_Montsant</th>                                <td>   -0.0301</td> <td>    0.051</td> <td>   -0.587</td> <td> 0.557</td> <td>   -0.131</td> <td>    0.070</td>\n",
       "</tr>\n",
       "<tr>\n",
       "  <th>region_Morellino di Scansano</th>                   <td>   -0.1848</td> <td>    0.035</td> <td>   -5.222</td> <td> 0.000</td> <td>   -0.254</td> <td>   -0.115</td>\n",
       "</tr>\n",
       "<tr>\n",
       "  <th>region_Morgon</th>                                  <td>   -0.0868</td> <td>    0.048</td> <td>   -1.817</td> <td> 0.069</td> <td>   -0.180</td> <td>    0.007</td>\n",
       "</tr>\n",
       "<tr>\n",
       "  <th>region_Moulin-à-Vent</th>                           <td>    0.0657</td> <td>    0.055</td> <td>    1.201</td> <td> 0.230</td> <td>   -0.042</td> <td>    0.173</td>\n",
       "</tr>\n",
       "<tr>\n",
       "  <th>region_Mount Veeder</th>                            <td>    0.4999</td> <td>    0.039</td> <td>   12.960</td> <td> 0.000</td> <td>    0.424</td> <td>    0.575</td>\n",
       "</tr>\n",
       "<tr>\n",
       "  <th>region_Mt. Harlan</th>                              <td>    0.1062</td> <td>    0.063</td> <td>    1.686</td> <td> 0.092</td> <td>   -0.017</td> <td>    0.230</td>\n",
       "</tr>\n",
       "<tr>\n",
       "  <th>region_Médoc</th>                                   <td>   -0.2771</td> <td>    0.032</td> <td>   -8.653</td> <td> 0.000</td> <td>   -0.340</td> <td>   -0.214</td>\n",
       "</tr>\n",
       "<tr>\n",
       "  <th>region_Napa County</th>                             <td>   -0.2510</td> <td>    0.067</td> <td>   -3.758</td> <td> 0.000</td> <td>   -0.382</td> <td>   -0.120</td>\n",
       "</tr>\n",
       "<tr>\n",
       "  <th>region_Napa Valley</th>                             <td>    0.3204</td> <td>    0.014</td> <td>   22.394</td> <td> 0.000</td> <td>    0.292</td> <td>    0.348</td>\n",
       "</tr>\n",
       "<tr>\n",
       "  <th>region_Navarra</th>                                 <td>   -0.1938</td> <td>    0.042</td> <td>   -4.650</td> <td> 0.000</td> <td>   -0.275</td> <td>   -0.112</td>\n",
       "</tr>\n",
       "<tr>\n",
       "  <th>region_Nemea</th>                                   <td>    0.3671</td> <td>    0.143</td> <td>    2.565</td> <td> 0.010</td> <td>    0.087</td> <td>    0.648</td>\n",
       "</tr>\n",
       "<tr>\n",
       "  <th>region_New York</th>                                <td>   -0.3290</td> <td>    0.055</td> <td>   -5.984</td> <td> 0.000</td> <td>   -0.437</td> <td>   -0.221</td>\n",
       "</tr>\n",
       "<tr>\n",
       "  <th>region_Niederösterreich</th>                        <td>   -0.0930</td> <td>    0.067</td> <td>   -1.388</td> <td> 0.165</td> <td>   -0.224</td> <td>    0.038</td>\n",
       "</tr>\n",
       "<tr>\n",
       "  <th>region_North Coast</th>                             <td>   -0.3694</td> <td>    0.034</td> <td>  -10.805</td> <td> 0.000</td> <td>   -0.436</td> <td>   -0.302</td>\n",
       "</tr>\n",
       "<tr>\n",
       "  <th>region_North Fork of Long Island</th>               <td>   -0.0382</td> <td>    0.028</td> <td>   -1.370</td> <td> 0.171</td> <td>   -0.093</td> <td>    0.016</td>\n",
       "</tr>\n",
       "<tr>\n",
       "  <th>region_Nuits-St.-Georges</th>                       <td>    0.7148</td> <td>    0.046</td> <td>   15.702</td> <td> 0.000</td> <td>    0.626</td> <td>    0.804</td>\n",
       "</tr>\n",
       "<tr>\n",
       "  <th>region_Oak Knoll District</th>                      <td>    0.3564</td> <td>    0.050</td> <td>    7.091</td> <td> 0.000</td> <td>    0.258</td> <td>    0.455</td>\n",
       "</tr>\n",
       "<tr>\n",
       "  <th>region_Oakville</th>                                <td>    0.5680</td> <td>    0.029</td> <td>   19.363</td> <td> 0.000</td> <td>    0.511</td> <td>    0.626</td>\n",
       "</tr>\n",
       "<tr>\n",
       "  <th>region_Okanagan Valley</th>                         <td>   -0.2236</td> <td>    0.101</td> <td>   -2.218</td> <td> 0.027</td> <td>   -0.421</td> <td>   -0.026</td>\n",
       "</tr>\n",
       "<tr>\n",
       "  <th>region_Oregon</th>                                  <td>   -0.2946</td> <td>    0.031</td> <td>   -9.620</td> <td> 0.000</td> <td>   -0.355</td> <td>   -0.235</td>\n",
       "</tr>\n",
       "<tr>\n",
       "  <th>region_Paarl</th>                                   <td>    0.0674</td> <td>    0.069</td> <td>    0.981</td> <td> 0.327</td> <td>   -0.067</td> <td>    0.202</td>\n",
       "</tr>\n",
       "<tr>\n",
       "  <th>region_Paso Robles</th>                             <td>    0.0341</td> <td>    0.016</td> <td>    2.196</td> <td> 0.028</td> <td>    0.004</td> <td>    0.065</td>\n",
       "</tr>\n",
       "<tr>\n",
       "  <th>region_Paso Robles Willow Creek District</th>       <td>    0.1693</td> <td>    0.065</td> <td>    2.590</td> <td> 0.010</td> <td>    0.041</td> <td>    0.297</td>\n",
       "</tr>\n",
       "<tr>\n",
       "  <th>region_Patagonia</th>                               <td>   -0.1774</td> <td>    0.062</td> <td>   -2.876</td> <td> 0.004</td> <td>   -0.298</td> <td>   -0.057</td>\n",
       "</tr>\n",
       "<tr>\n",
       "  <th>region_Pauillac</th>                                <td>    0.7198</td> <td>    0.050</td> <td>   14.284</td> <td> 0.000</td> <td>    0.621</td> <td>    0.819</td>\n",
       "</tr>\n",
       "<tr>\n",
       "  <th>region_Península de Setúbal</th>                    <td>    0.1341</td> <td>    0.063</td> <td>    2.126</td> <td> 0.033</td> <td>    0.010</td> <td>    0.258</td>\n",
       "</tr>\n",
       "<tr>\n",
       "  <th>region_Pessac-Léognan</th>                          <td>    0.3124</td> <td>    0.046</td> <td>    6.800</td> <td> 0.000</td> <td>    0.222</td> <td>    0.402</td>\n",
       "</tr>\n",
       "<tr>\n",
       "  <th>region_Pomerol</th>                                 <td>    0.7686</td> <td>    0.053</td> <td>   14.519</td> <td> 0.000</td> <td>    0.665</td> <td>    0.872</td>\n",
       "</tr>\n",
       "<tr>\n",
       "  <th>region_Pommard</th>                                 <td>    0.6199</td> <td>    0.055</td> <td>   11.331</td> <td> 0.000</td> <td>    0.513</td> <td>    0.727</td>\n",
       "</tr>\n",
       "<tr>\n",
       "  <th>region_Priorat</th>                                 <td>    0.3549</td> <td>    0.035</td> <td>   10.031</td> <td> 0.000</td> <td>    0.286</td> <td>    0.424</td>\n",
       "</tr>\n",
       "<tr>\n",
       "  <th>region_Puglia</th>                                  <td>   -0.2931</td> <td>    0.057</td> <td>   -5.180</td> <td> 0.000</td> <td>   -0.404</td> <td>   -0.182</td>\n",
       "</tr>\n",
       "<tr>\n",
       "  <th>region_Rapel Valley</th>                            <td>   -0.4097</td> <td>    0.044</td> <td>   -9.396</td> <td> 0.000</td> <td>   -0.495</td> <td>   -0.324</td>\n",
       "</tr>\n",
       "<tr>\n",
       "  <th>region_Rattlesnake Hills</th>                       <td>   -0.3256</td> <td>    0.051</td> <td>   -6.386</td> <td> 0.000</td> <td>   -0.425</td> <td>   -0.226</td>\n",
       "</tr>\n",
       "<tr>\n",
       "  <th>region_Red Hills Lake County</th>                   <td>   -0.1720</td> <td>    0.049</td> <td>   -3.483</td> <td> 0.000</td> <td>   -0.269</td> <td>   -0.075</td>\n",
       "</tr>\n",
       "<tr>\n",
       "  <th>region_Red Mountain</th>                            <td>    0.0953</td> <td>    0.021</td> <td>    4.601</td> <td> 0.000</td> <td>    0.055</td> <td>    0.136</td>\n",
       "</tr>\n",
       "<tr>\n",
       "  <th>region_Ribbon Ridge</th>                            <td>    0.1104</td> <td>    0.048</td> <td>    2.283</td> <td> 0.022</td> <td>    0.016</td> <td>    0.205</td>\n",
       "</tr>\n",
       "<tr>\n",
       "  <th>region_Ribera del Duero</th>                        <td>    0.3692</td> <td>    0.028</td> <td>   13.020</td> <td> 0.000</td> <td>    0.314</td> <td>    0.425</td>\n",
       "</tr>\n",
       "<tr>\n",
       "  <th>region_Rioja</th>                                   <td>    0.1008</td> <td>    0.027</td> <td>    3.788</td> <td> 0.000</td> <td>    0.049</td> <td>    0.153</td>\n",
       "</tr>\n",
       "<tr>\n",
       "  <th>region_Rockpile</th>                                <td>    0.2418</td> <td>    0.052</td> <td>    4.616</td> <td> 0.000</td> <td>    0.139</td> <td>    0.344</td>\n",
       "</tr>\n",
       "<tr>\n",
       "  <th>region_Rogue Valley</th>                            <td>    0.0018</td> <td>    0.031</td> <td>    0.058</td> <td> 0.954</td> <td>   -0.059</td> <td>    0.062</td>\n",
       "</tr>\n",
       "<tr>\n",
       "  <th>region_Romagna</th>                                 <td>   -0.1348</td> <td>    0.063</td> <td>   -2.129</td> <td> 0.033</td> <td>   -0.259</td> <td>   -0.011</td>\n",
       "</tr>\n",
       "<tr>\n",
       "  <th>region_Rosso di Montalcino</th>                     <td>    0.0781</td> <td>    0.030</td> <td>    2.611</td> <td> 0.009</td> <td>    0.019</td> <td>    0.137</td>\n",
       "</tr>\n",
       "<tr>\n",
       "  <th>region_Rosso di Montepulciano</th>                  <td>   -0.2757</td> <td>    0.043</td> <td>   -6.411</td> <td> 0.000</td> <td>   -0.360</td> <td>   -0.191</td>\n",
       "</tr>\n",
       "<tr>\n",
       "  <th>region_Russian River Valley</th>                    <td>    0.0491</td> <td>    0.016</td> <td>    3.034</td> <td> 0.002</td> <td>    0.017</td> <td>    0.081</td>\n",
       "</tr>\n",
       "<tr>\n",
       "  <th>region_Rutherford</th>                              <td>    0.5658</td> <td>    0.027</td> <td>   21.281</td> <td> 0.000</td> <td>    0.514</td> <td>    0.618</td>\n",
       "</tr>\n",
       "<tr>\n",
       "  <th>region_Saint-Estèphe</th>                           <td>    0.0327</td> <td>    0.047</td> <td>    0.690</td> <td> 0.490</td> <td>   -0.060</td> <td>    0.125</td>\n",
       "</tr>\n",
       "<tr>\n",
       "  <th>region_Saint-Julien</th>                            <td>    0.3518</td> <td>    0.057</td> <td>    6.166</td> <td> 0.000</td> <td>    0.240</td> <td>    0.464</td>\n",
       "</tr>\n",
       "<tr>\n",
       "  <th>region_Saint-Émilion</th>                           <td>    0.2683</td> <td>    0.028</td> <td>    9.468</td> <td> 0.000</td> <td>    0.213</td> <td>    0.324</td>\n",
       "</tr>\n",
       "<tr>\n",
       "  <th>region_Salento</th>                                 <td>   -0.0574</td> <td>    0.051</td> <td>   -1.125</td> <td> 0.261</td> <td>   -0.157</td> <td>    0.043</td>\n",
       "</tr>\n",
       "<tr>\n",
       "  <th>region_San Juan</th>                                <td>   -0.2553</td> <td>    0.064</td> <td>   -3.964</td> <td> 0.000</td> <td>   -0.381</td> <td>   -0.129</td>\n",
       "</tr>\n",
       "<tr>\n",
       "  <th>region_San Luis Obispo County</th>                  <td>   -0.1593</td> <td>    0.046</td> <td>   -3.500</td> <td> 0.000</td> <td>   -0.248</td> <td>   -0.070</td>\n",
       "</tr>\n",
       "<tr>\n",
       "  <th>region_Sancerre</th>                                <td>   -0.0277</td> <td>    0.053</td> <td>   -0.521</td> <td> 0.603</td> <td>   -0.132</td> <td>    0.076</td>\n",
       "</tr>\n",
       "<tr>\n",
       "  <th>region_Santa Barbara County</th>                    <td>   -0.0590</td> <td>    0.021</td> <td>   -2.787</td> <td> 0.005</td> <td>   -0.100</td> <td>   -0.017</td>\n",
       "</tr>\n",
       "<tr>\n",
       "  <th>region_Santa Clara Valley</th>                      <td>   -0.0345</td> <td>    0.048</td> <td>   -0.712</td> <td> 0.476</td> <td>   -0.129</td> <td>    0.060</td>\n",
       "</tr>\n",
       "<tr>\n",
       "  <th>region_Santa Cruz Mountains</th>                    <td>    0.0292</td> <td>    0.025</td> <td>    1.184</td> <td> 0.237</td> <td>   -0.019</td> <td>    0.078</td>\n",
       "</tr>\n",
       "<tr>\n",
       "  <th>region_Santa Lucia Highlands</th>                   <td>   -0.0098</td> <td>    0.023</td> <td>   -0.424</td> <td> 0.672</td> <td>   -0.055</td> <td>    0.036</td>\n",
       "</tr>\n",
       "<tr>\n",
       "  <th>region_Santa Maria Valley</th>                      <td>   -0.0557</td> <td>    0.025</td> <td>   -2.211</td> <td> 0.027</td> <td>   -0.105</td> <td>   -0.006</td>\n",
       "</tr>\n",
       "<tr>\n",
       "  <th>region_Santa Ynez Valley</th>                       <td>    0.0326</td> <td>    0.023</td> <td>    1.444</td> <td> 0.149</td> <td>   -0.012</td> <td>    0.077</td>\n",
       "</tr>\n",
       "<tr>\n",
       "  <th>region_Savigny-lès-Beaune</th>                      <td>    0.1463</td> <td>    0.051</td> <td>    2.843</td> <td> 0.004</td> <td>    0.045</td> <td>    0.247</td>\n",
       "</tr>\n",
       "<tr>\n",
       "  <th>region_Shenandoah Valley (CA)</th>                  <td>   -0.1431</td> <td>    0.041</td> <td>   -3.452</td> <td> 0.001</td> <td>   -0.224</td> <td>   -0.062</td>\n",
       "</tr>\n",
       "<tr>\n",
       "  <th>region_Sicilia</th>                                 <td>   -0.1175</td> <td>    0.028</td> <td>   -4.208</td> <td> 0.000</td> <td>   -0.172</td> <td>   -0.063</td>\n",
       "</tr>\n",
       "<tr>\n",
       "  <th>region_Sierra Foothills</th>                        <td>   -0.2073</td> <td>    0.028</td> <td>   -7.395</td> <td> 0.000</td> <td>   -0.262</td> <td>   -0.152</td>\n",
       "</tr>\n",
       "<tr>\n",
       "  <th>region_Snipes Mountain</th>                         <td>   -0.0090</td> <td>    0.067</td> <td>   -0.135</td> <td> 0.893</td> <td>   -0.140</td> <td>    0.122</td>\n",
       "</tr>\n",
       "<tr>\n",
       "  <th>region_Somontano</th>                               <td>   -0.1260</td> <td>    0.067</td> <td>   -1.870</td> <td> 0.062</td> <td>   -0.258</td> <td>    0.006</td>\n",
       "</tr>\n",
       "<tr>\n",
       "  <th>region_Sonoma Coast</th>                            <td>    0.0815</td> <td>    0.019</td> <td>    4.320</td> <td> 0.000</td> <td>    0.045</td> <td>    0.119</td>\n",
       "</tr>\n",
       "<tr>\n",
       "  <th>region_Sonoma County</th>                           <td>   -0.0822</td> <td>    0.019</td> <td>   -4.273</td> <td> 0.000</td> <td>   -0.120</td> <td>   -0.044</td>\n",
       "</tr>\n",
       "<tr>\n",
       "  <th>region_Sonoma Mountain</th>                         <td>    0.0590</td> <td>    0.044</td> <td>    1.332</td> <td> 0.183</td> <td>   -0.028</td> <td>    0.146</td>\n",
       "</tr>\n",
       "<tr>\n",
       "  <th>region_Sonoma Valley</th>                           <td>    0.2090</td> <td>    0.023</td> <td>    9.098</td> <td> 0.000</td> <td>    0.164</td> <td>    0.254</td>\n",
       "</tr>\n",
       "<tr>\n",
       "  <th>region_South Australia</th>                         <td>   -0.2406</td> <td>    0.048</td> <td>   -5.027</td> <td> 0.000</td> <td>   -0.334</td> <td>   -0.147</td>\n",
       "</tr>\n",
       "<tr>\n",
       "  <th>region_South Coast</th>                             <td>    0.1236</td> <td>    0.066</td> <td>    1.872</td> <td> 0.061</td> <td>   -0.006</td> <td>    0.253</td>\n",
       "</tr>\n",
       "<tr>\n",
       "  <th>region_South Eastern Australia</th>                 <td>   -0.5788</td> <td>    0.050</td> <td>  -11.501</td> <td> 0.000</td> <td>   -0.677</td> <td>   -0.480</td>\n",
       "</tr>\n",
       "<tr>\n",
       "  <th>region_Southern Oregon</th>                         <td>   -0.0698</td> <td>    0.050</td> <td>   -1.407</td> <td> 0.159</td> <td>   -0.167</td> <td>    0.027</td>\n",
       "</tr>\n",
       "<tr>\n",
       "  <th>region_Spring Mountain District</th>                <td>    0.4439</td> <td>    0.043</td> <td>   10.302</td> <td> 0.000</td> <td>    0.359</td> <td>    0.528</td>\n",
       "</tr>\n",
       "<tr>\n",
       "  <th>region_St. Helena</th>                              <td>    0.4969</td> <td>    0.033</td> <td>   14.914</td> <td> 0.000</td> <td>    0.432</td> <td>    0.562</td>\n",
       "</tr>\n",
       "<tr>\n",
       "  <th>region_Sta. Rita Hills</th>                         <td>    0.0222</td> <td>    0.021</td> <td>    1.056</td> <td> 0.291</td> <td>   -0.019</td> <td>    0.063</td>\n",
       "</tr>\n",
       "<tr>\n",
       "  <th>region_Stags Leap District</th>                     <td>    0.5747</td> <td>    0.037</td> <td>   15.496</td> <td> 0.000</td> <td>    0.502</td> <td>    0.647</td>\n",
       "</tr>\n",
       "<tr>\n",
       "  <th>region_Stellenbosch</th>                            <td>    0.0554</td> <td>    0.042</td> <td>    1.322</td> <td> 0.186</td> <td>   -0.027</td> <td>    0.137</td>\n",
       "</tr>\n",
       "<tr>\n",
       "  <th>region_Taurasi</th>                                 <td>    0.3775</td> <td>    0.064</td> <td>    5.912</td> <td> 0.000</td> <td>    0.252</td> <td>    0.503</td>\n",
       "</tr>\n",
       "<tr>\n",
       "  <th>region_Tejo</th>                                    <td>    0.0320</td> <td>    0.042</td> <td>    0.763</td> <td> 0.446</td> <td>   -0.050</td> <td>    0.114</td>\n",
       "</tr>\n",
       "<tr>\n",
       "  <th>region_Temecula Valley</th>                         <td>    0.3274</td> <td>    0.041</td> <td>    8.055</td> <td> 0.000</td> <td>    0.248</td> <td>    0.407</td>\n",
       "</tr>\n",
       "<tr>\n",
       "  <th>region_Terre Siciliane</th>                         <td>   -0.1565</td> <td>    0.044</td> <td>   -3.536</td> <td> 0.000</td> <td>   -0.243</td> <td>   -0.070</td>\n",
       "</tr>\n",
       "<tr>\n",
       "  <th>region_Thermenregion</th>                           <td>   -0.0989</td> <td>    0.073</td> <td>   -1.362</td> <td> 0.173</td> <td>   -0.241</td> <td>    0.043</td>\n",
       "</tr>\n",
       "<tr>\n",
       "  <th>region_Thracian Valley</th>                         <td>   -0.0968</td> <td>    0.116</td> <td>   -0.838</td> <td> 0.402</td> <td>   -0.323</td> <td>    0.130</td>\n",
       "</tr>\n",
       "<tr>\n",
       "  <th>region_Toro</th>                                    <td>    0.2079</td> <td>    0.038</td> <td>    5.458</td> <td> 0.000</td> <td>    0.133</td> <td>    0.282</td>\n",
       "</tr>\n",
       "<tr>\n",
       "  <th>region_Toscana</th>                                 <td>    0.3184</td> <td>    0.019</td> <td>   17.198</td> <td> 0.000</td> <td>    0.282</td> <td>    0.355</td>\n",
       "</tr>\n",
       "<tr>\n",
       "  <th>region_Tupungato</th>                               <td>   -0.0489</td> <td>    0.045</td> <td>   -1.083</td> <td> 0.279</td> <td>   -0.137</td> <td>    0.040</td>\n",
       "</tr>\n",
       "<tr>\n",
       "  <th>region_Uco Valley</th>                              <td>   -0.0663</td> <td>    0.040</td> <td>   -1.665</td> <td> 0.096</td> <td>   -0.144</td> <td>    0.012</td>\n",
       "</tr>\n",
       "<tr>\n",
       "  <th>region_Umbria</th>                                  <td>   -0.1846</td> <td>    0.063</td> <td>   -2.917</td> <td> 0.004</td> <td>   -0.309</td> <td>   -0.061</td>\n",
       "</tr>\n",
       "<tr>\n",
       "  <th>region_Umpqua Valley</th>                           <td>   -0.0681</td> <td>    0.039</td> <td>   -1.725</td> <td> 0.085</td> <td>   -0.145</td> <td>    0.009</td>\n",
       "</tr>\n",
       "<tr>\n",
       "  <th>region_Utiel-Requena</th>                           <td>   -0.2480</td> <td>    0.067</td> <td>   -3.698</td> <td> 0.000</td> <td>   -0.379</td> <td>   -0.117</td>\n",
       "</tr>\n",
       "<tr>\n",
       "  <th>region_Valencia</th>                                <td>   -0.1786</td> <td>    0.057</td> <td>   -3.119</td> <td> 0.002</td> <td>   -0.291</td> <td>   -0.066</td>\n",
       "</tr>\n",
       "<tr>\n",
       "  <th>region_Valle de Uco</th>                            <td>    0.0925</td> <td>    0.059</td> <td>    1.567</td> <td> 0.117</td> <td>   -0.023</td> <td>    0.208</td>\n",
       "</tr>\n",
       "<tr>\n",
       "  <th>region_Valpolicella Classico Superiore Ripasso</th> <td>   -0.1798</td> <td>    0.062</td> <td>   -2.920</td> <td> 0.004</td> <td>   -0.300</td> <td>   -0.059</td>\n",
       "</tr>\n",
       "<tr>\n",
       "  <th>region_Vin Mousseux</th>                            <td>   -0.0241</td> <td>    0.216</td> <td>   -0.112</td> <td> 0.911</td> <td>   -0.447</td> <td>    0.399</td>\n",
       "</tr>\n",
       "<tr>\n",
       "  <th>region_Vin de France</th>                           <td>   -0.5507</td> <td>    0.042</td> <td>  -13.036</td> <td> 0.000</td> <td>   -0.633</td> <td>   -0.468</td>\n",
       "</tr>\n",
       "<tr>\n",
       "  <th>region_Vin de Pays d'Oc</th>                        <td>   -0.6843</td> <td>    0.063</td> <td>  -10.845</td> <td> 0.000</td> <td>   -0.808</td> <td>   -0.561</td>\n",
       "</tr>\n",
       "<tr>\n",
       "  <th>region_Vino Nobile di Montepulciano</th>            <td>    0.1765</td> <td>    0.031</td> <td>    5.695</td> <td> 0.000</td> <td>    0.116</td> <td>    0.237</td>\n",
       "</tr>\n",
       "<tr>\n",
       "  <th>region_Vino de la Tierra de Castilla</th>           <td>   -0.2173</td> <td>    0.042</td> <td>   -5.146</td> <td> 0.000</td> <td>   -0.300</td> <td>   -0.135</td>\n",
       "</tr>\n",
       "<tr>\n",
       "  <th>region_Vino de la Tierra de Castilla y León</th>    <td>    0.2158</td> <td>    0.051</td> <td>    4.221</td> <td> 0.000</td> <td>    0.116</td> <td>    0.316</td>\n",
       "</tr>\n",
       "<tr>\n",
       "  <th>region_Virginia</th>                                <td>    0.0653</td> <td>    0.028</td> <td>    2.374</td> <td> 0.018</td> <td>    0.011</td> <td>    0.119</td>\n",
       "</tr>\n",
       "<tr>\n",
       "  <th>region_Volnay</th>                                  <td>    0.5179</td> <td>    0.060</td> <td>    8.661</td> <td> 0.000</td> <td>    0.401</td> <td>    0.635</td>\n",
       "</tr>\n",
       "<tr>\n",
       "  <th>region_Vosne-Romanée</th>                           <td>    0.7752</td> <td>    0.067</td> <td>   11.618</td> <td> 0.000</td> <td>    0.644</td> <td>    0.906</td>\n",
       "</tr>\n",
       "<tr>\n",
       "  <th>region_Wahluke Slope</th>                           <td>   -0.0764</td> <td>    0.027</td> <td>   -2.790</td> <td> 0.005</td> <td>   -0.130</td> <td>   -0.023</td>\n",
       "</tr>\n",
       "<tr>\n",
       "  <th>region_Walla Walla Valley (OR)</th>                 <td>    0.0694</td> <td>    0.043</td> <td>    1.632</td> <td> 0.103</td> <td>   -0.014</td> <td>    0.153</td>\n",
       "</tr>\n",
       "<tr>\n",
       "  <th>region_Walla Walla Valley (WA)</th>                 <td>    0.0265</td> <td>    0.018</td> <td>    1.436</td> <td> 0.151</td> <td>   -0.010</td> <td>    0.063</td>\n",
       "</tr>\n",
       "<tr>\n",
       "  <th>region_Washington</th>                              <td>   -0.2427</td> <td>    0.029</td> <td>   -8.232</td> <td> 0.000</td> <td>   -0.301</td> <td>   -0.185</td>\n",
       "</tr>\n",
       "<tr>\n",
       "  <th>region_Western Cape</th>                            <td>   -0.3785</td> <td>    0.052</td> <td>   -7.328</td> <td> 0.000</td> <td>   -0.480</td> <td>   -0.277</td>\n",
       "</tr>\n",
       "<tr>\n",
       "  <th>region_Willamette Valley</th>                       <td>   -0.0696</td> <td>    0.018</td> <td>   -3.973</td> <td> 0.000</td> <td>   -0.104</td> <td>   -0.035</td>\n",
       "</tr>\n",
       "<tr>\n",
       "  <th>region_Yakima Valley</th>                           <td>   -0.1215</td> <td>    0.021</td> <td>   -5.706</td> <td> 0.000</td> <td>   -0.163</td> <td>   -0.080</td>\n",
       "</tr>\n",
       "<tr>\n",
       "  <th>region_Yarra Valley</th>                            <td>    0.3063</td> <td>    0.056</td> <td>    5.470</td> <td> 0.000</td> <td>    0.197</td> <td>    0.416</td>\n",
       "</tr>\n",
       "<tr>\n",
       "  <th>region_Yorkville Highlands</th>                     <td>    0.0324</td> <td>    0.057</td> <td>    0.565</td> <td> 0.572</td> <td>   -0.080</td> <td>    0.145</td>\n",
       "</tr>\n",
       "<tr>\n",
       "  <th>region_Yountville</th>                              <td>    0.4968</td> <td>    0.056</td> <td>    8.922</td> <td> 0.000</td> <td>    0.388</td> <td>    0.606</td>\n",
       "</tr>\n",
       "</table>\n",
       "<table class=\"simpletable\">\n",
       "<tr>\n",
       "  <th>Omnibus:</th>       <td>9435.603</td> <th>  Durbin-Watson:     </th> <td>   1.862</td> \n",
       "</tr>\n",
       "<tr>\n",
       "  <th>Prob(Omnibus):</th>  <td> 0.000</td>  <th>  Jarque-Bera (JB):  </th> <td>22574.756</td>\n",
       "</tr>\n",
       "<tr>\n",
       "  <th>Skew:</th>           <td> 0.768</td>  <th>  Prob(JB):          </th> <td>    0.00</td> \n",
       "</tr>\n",
       "<tr>\n",
       "  <th>Kurtosis:</th>       <td> 5.279</td>  <th>  Cond. No.          </th> <td>2.39e+04</td> \n",
       "</tr>\n",
       "</table><br/><br/>Warnings:<br/>[1] Standard Errors assume that the covariance matrix of the errors is correctly specified.<br/>[2] The condition number is large, 2.39e+04. This might indicate that there are<br/>strong multicollinearity or other numerical problems."
      ],
      "text/plain": [
       "<class 'statsmodels.iolib.summary.Summary'>\n",
       "\"\"\"\n",
       "                            OLS Regression Results                            \n",
       "==============================================================================\n",
       "Dep. Variable:                  price   R-squared:                       0.582\n",
       "Model:                            OLS   Adj. R-squared:                  0.580\n",
       "Method:                 Least Squares   F-statistic:                     269.6\n",
       "Date:                Thu, 25 Feb 2021   Prob (F-statistic):               0.00\n",
       "Time:                        14:41:56   Log-Likelihood:                -41137.\n",
       "No. Observations:               71732   AIC:                         8.301e+04\n",
       "Df Residuals:                   71362   BIC:                         8.641e+04\n",
       "Df Model:                         369                                         \n",
       "Covariance Type:            nonrobust                                         \n",
       "==================================================================================================================\n",
       "                                                     coef    std err          t      P>|t|      [0.025      0.975]\n",
       "------------------------------------------------------------------------------------------------------------------\n",
       "const                                             -5.3588      0.078    -68.277      0.000      -5.513      -5.205\n",
       "points                                             0.0958      0.001    161.345      0.000       0.095       0.097\n",
       "high_q_term                                        0.0696      0.005     15.289      0.000       0.061       0.079\n",
       "vintage                                            0.0082      0.001     16.451      0.000       0.007       0.009\n",
       "country_Argentina                                  0.0924      0.054      1.717      0.086      -0.013       0.198\n",
       "country_Australia                                  0.1330      0.052      2.559      0.010       0.031       0.235\n",
       "country_Austria                                    0.1936      0.066      2.949      0.003       0.065       0.322\n",
       "country_Brazil                                     0.3114      0.100      3.121      0.002       0.116       0.507\n",
       "country_Bulgaria                                  -0.3778      0.115     -3.297      0.001      -0.602      -0.153\n",
       "country_Canada                                     0.4961      0.101      4.902      0.000       0.298       0.694\n",
       "country_Chile                                      0.0465      0.052      0.889      0.374      -0.056       0.149\n",
       "country_Croatia                                    0.0219      0.116      0.189      0.850      -0.206       0.250\n",
       "country_France                                     0.2387      0.048      5.018      0.000       0.145       0.332\n",
       "country_Georgia                                   -0.4267      0.149     -2.873      0.004      -0.718      -0.136\n",
       "country_Germany                                    0.1070      0.064      1.669      0.095      -0.019       0.233\n",
       "country_Greece                                     0.1532      0.064      2.396      0.017       0.028       0.279\n",
       "country_Hungary                                    0.4078      0.086      4.739      0.000       0.239       0.576\n",
       "country_Israel                                     0.1676      0.065      2.570      0.010       0.040       0.295\n",
       "country_Italy                                      0.1536      0.048      3.208      0.001       0.060       0.247\n",
       "country_Mexico                                     0.4085      0.080      5.076      0.000       0.251       0.566\n",
       "country_Moldova                                   -0.2714      0.095     -2.856      0.004      -0.458      -0.085\n",
       "country_New Zealand                                0.0846      0.072      1.170      0.242      -0.057       0.226\n",
       "country_Portugal                                  -0.2143      0.064     -3.340      0.001      -0.340      -0.089\n",
       "country_Romania                                   -0.5414      0.076     -7.116      0.000      -0.691      -0.392\n",
       "country_Slovenia                                   0.0726      0.102      0.709      0.478      -0.128       0.273\n",
       "country_South Africa                               0.0469      0.056      0.844      0.399      -0.062       0.156\n",
       "country_Spain                                      0.0716      0.051      1.408      0.159      -0.028       0.171\n",
       "country_Turkey                                     0.1288      0.084      1.539      0.124      -0.035       0.293\n",
       "country_US                                         0.3681      0.048      7.691      0.000       0.274       0.462\n",
       "country_Uruguay                                    0.1341      0.068      1.963      0.050       0.000       0.268\n",
       "variety_Agiorgitiko                               -0.4778      0.142     -3.359      0.001      -0.757      -0.199\n",
       "variety_Aglianico                                 -0.0600      0.062     -0.972      0.331      -0.181       0.061\n",
       "variety_Alfrocheiro                                0.0627      0.119      0.529      0.597      -0.170       0.295\n",
       "variety_Austrian Red Blend                         0.0226      0.078      0.290      0.772      -0.130       0.175\n",
       "variety_Baco Noir                                  0.0142      0.117      0.121      0.904      -0.216       0.244\n",
       "variety_Baga                                       0.1930      0.105      1.845      0.065      -0.012       0.398\n",
       "variety_Barbera                                   -0.0648      0.047     -1.386      0.166      -0.156       0.027\n",
       "variety_Black Muscat                              -0.2275      0.136     -1.670      0.095      -0.495       0.040\n",
       "variety_Blaufränkisch                             -0.1569      0.054     -2.928      0.003      -0.262      -0.052\n",
       "variety_Bobal                                      0.0341      0.110      0.311      0.756      -0.181       0.249\n",
       "variety_Bonarda                                   -0.2088      0.059     -3.534      0.000      -0.325      -0.093\n",
       "variety_Bordeaux-style Red Blend                   0.1035      0.041      2.538      0.011       0.024       0.183\n",
       "variety_Cabernet                                  -0.1789      0.084     -2.128      0.033      -0.344      -0.014\n",
       "variety_Cabernet Blend                             0.2947      0.063      4.702      0.000       0.172       0.418\n",
       "variety_Cabernet Franc                            -0.0184      0.042     -0.441      0.659      -0.100       0.063\n",
       "variety_Cabernet Sauvignon                        -0.0085      0.040     -0.210      0.834      -0.087       0.070\n",
       "variety_Carignan                                   0.1566      0.058      2.702      0.007       0.043       0.270\n",
       "variety_Carmenère                                 -0.0805      0.045     -1.805      0.071      -0.168       0.007\n",
       "variety_Castelão                                  -0.2814      0.095     -2.959      0.003      -0.468      -0.095\n",
       "variety_Chambourcin                               -0.3058      0.116     -2.646      0.008      -0.532      -0.079\n",
       "variety_Cinsault                                  -0.0695      0.081     -0.859      0.390      -0.228       0.089\n",
       "variety_Corvina                                    0.0431      0.107      0.402      0.687      -0.167       0.253\n",
       "variety_Counoise                                  -0.1405      0.131     -1.075      0.282      -0.397       0.116\n",
       "variety_Dornfelder                                -0.4467      0.098     -4.543      0.000      -0.639      -0.254\n",
       "variety_Douce Noir                                -0.1728      0.096     -1.805      0.071      -0.360       0.015\n",
       "variety_Duras                                      0.1055      0.191      0.553      0.580      -0.268       0.479\n",
       "variety_Durif                                     -0.1292      0.043     -3.005      0.003      -0.213      -0.045\n",
       "variety_Frappato                                  -0.0866      0.085     -1.022      0.307      -0.253       0.079\n",
       "variety_Gaglioppo                                 -0.2530      0.119     -2.135      0.033      -0.485      -0.021\n",
       "variety_Gamay                                     -0.3479      0.050     -7.028      0.000      -0.445      -0.251\n",
       "variety_Graciano                                   0.2202      0.078      2.807      0.005       0.066       0.374\n",
       "variety_Grenache                                  -0.0388      0.042     -0.919      0.358      -0.121       0.044\n",
       "variety_Grenache Blend                            -0.0916      0.143     -0.641      0.521      -0.371       0.188\n",
       "variety_Kalecik Karasi                            -0.2426      0.143     -1.698      0.090      -0.523       0.037\n",
       "variety_Lagrein                                   -0.0079      0.091     -0.087      0.931      -0.187       0.171\n",
       "variety_Malbec                                    -0.0214      0.041     -0.516      0.606      -0.103       0.060\n",
       "variety_Maturana                                   0.7325      0.181      4.040      0.000       0.377       1.088\n",
       "variety_Mavrud                                    -0.1306      0.162     -0.804      0.421      -0.449       0.188\n",
       "variety_Mencía                                    -0.0765      0.082     -0.936      0.349      -0.237       0.084\n",
       "variety_Merlot                                    -0.1738      0.041     -4.274      0.000      -0.253      -0.094\n",
       "variety_Monastrell                                -0.1592      0.062     -2.550      0.011      -0.282      -0.037\n",
       "variety_Mondeuse                                   0.0081      0.100      0.081      0.936      -0.188       0.205\n",
       "variety_Mourvèdre                                 -0.0439      0.050     -0.883      0.377      -0.141       0.054\n",
       "variety_Nebbiolo                                   0.0830      0.048      1.733      0.083      -0.011       0.177\n",
       "variety_Negrette                                  -0.2971      0.118     -2.510      0.012      -0.529      -0.065\n",
       "variety_Negroamaro                                -0.2365      0.073     -3.227      0.001      -0.380      -0.093\n",
       "variety_Nero d'Avola                              -0.1303      0.051     -2.539      0.011      -0.231      -0.030\n",
       "variety_Nero di Troia                              0.0679      0.113      0.599      0.549      -0.154       0.290\n",
       "variety_Norton                                     0.0107      0.115      0.093      0.926      -0.215       0.237\n",
       "variety_Okuzgozu                                  -0.2698      0.171     -1.576      0.115      -0.605       0.066\n",
       "variety_Pallagrello Nero                           0.2448      0.122      2.004      0.045       0.005       0.484\n",
       "variety_Petite Verdot                              0.0907      0.047      1.920      0.055      -0.002       0.183\n",
       "variety_Piedirosso                                -0.1647      0.126     -1.305      0.192      -0.412       0.083\n",
       "variety_Pinot Noir                                 0.0886      0.040      2.188      0.029       0.009       0.168\n",
       "variety_Portuguese Red                            -0.2519      0.051     -4.943      0.000      -0.352      -0.152\n",
       "variety_Prieto Picudo                              0.4163      0.120      3.457      0.001       0.180       0.652\n",
       "variety_Primitivo                                 -0.1695      0.041     -4.143      0.000      -0.250      -0.089\n",
       "variety_Provence red blend                        -0.1440      0.074     -1.939      0.053      -0.290       0.002\n",
       "variety_Raboso                                    -0.0768      0.126     -0.608      0.543      -0.324       0.171\n",
       "variety_Red Blend                                 -0.0158      0.040     -0.393      0.694      -0.094       0.063\n",
       "variety_Rhône-style Red Blend                     -0.0868      0.042     -2.065      0.039      -0.169      -0.004\n",
       "variety_Ruché                                      0.0216      0.131      0.165      0.869      -0.235       0.278\n",
       "variety_Sagrantino                                 0.3410      0.082      4.172      0.000       0.181       0.501\n",
       "variety_Sangiovese                                -0.0562      0.042     -1.351      0.177      -0.138       0.025\n",
       "variety_Saperavi                                   0.2308      0.146      1.584      0.113      -0.055       0.516\n",
       "variety_Shiraz                                    -0.0550      0.044     -1.249      0.212      -0.141       0.031\n",
       "variety_Shiraz Blend                              -0.0576      0.051     -1.120      0.263      -0.158       0.043\n",
       "variety_St. Laurent                               -0.1149      0.071     -1.624      0.104      -0.254       0.024\n",
       "variety_Syrah                                     -0.0154      0.040     -0.380      0.704      -0.095       0.064\n",
       "variety_Tannat                                    -0.0209      0.057     -0.367      0.714      -0.133       0.091\n",
       "variety_Tempranillo                               -0.1600      0.043     -3.727      0.000      -0.244      -0.076\n",
       "variety_Tempranillo Blend                         -0.1087      0.047     -2.310      0.021      -0.201      -0.016\n",
       "variety_Teran                                      0.0359      0.185      0.194      0.846      -0.327       0.399\n",
       "variety_Teroldego                                 -0.0577      0.086     -0.669      0.504      -0.227       0.111\n",
       "variety_Touriga Nacional                          -0.0515      0.057     -0.905      0.365      -0.163       0.060\n",
       "variety_Touriga Nacional Blend                    -0.1304      0.124     -1.048      0.295      -0.374       0.114\n",
       "variety_Trollinger                                -0.4142      0.119     -3.494      0.000      -0.647      -0.182\n",
       "variety_Uva di Troia                              -0.0423      0.128     -0.331      0.741      -0.293       0.208\n",
       "variety_Xinomavro                                 -0.1318      0.097     -1.362      0.173      -0.322       0.058\n",
       "variety_Zweigelt                                  -0.2788      0.059     -4.720      0.000      -0.395      -0.163\n",
       "region_Aconcagua Valley                            0.1167      0.050      2.342      0.019       0.019       0.214\n",
       "region_Adelaida District                           0.1579      0.047      3.353      0.001       0.066       0.250\n",
       "region_Aglianico del Vulture                      -0.0189      0.068     -0.275      0.783      -0.153       0.115\n",
       "region_Agrelo                                     -0.0481      0.068     -0.709      0.478      -0.181       0.085\n",
       "region_Alentejano                                  0.1858      0.039      4.815      0.000       0.110       0.261\n",
       "region_Alentejo                                    0.2514      0.052      4.815      0.000       0.149       0.354\n",
       "region_Alexander Valley                            0.0777      0.021      3.724      0.000       0.037       0.119\n",
       "region_Alicante                                   -0.1082      0.066     -1.637      0.102      -0.238       0.021\n",
       "region_Alsace                                     -0.1330      0.047     -2.840      0.005      -0.225      -0.041\n",
       "region_Alto Adige                                  0.0626      0.078      0.805      0.421      -0.090       0.215\n",
       "region_Amador County                              -0.1820      0.026     -6.893      0.000      -0.234      -0.130\n",
       "region_Amarone della Valpolicella                  0.6755      0.044     15.436      0.000       0.590       0.761\n",
       "region_Amarone della Valpolicella Classico         0.7499      0.032     23.259      0.000       0.687       0.813\n",
       "region_America                                    -0.3368      0.063     -5.319      0.000      -0.461      -0.213\n",
       "region_Anderson Valley                             0.0287      0.025      1.168      0.243      -0.019       0.077\n",
       "region_Applegate Valley                           -0.0135      0.042     -0.318      0.750      -0.097       0.070\n",
       "region_Arroyo Grande Valley                       -0.0246      0.048     -0.511      0.609      -0.119       0.070\n",
       "region_Arroyo Seco                                -0.2145      0.048     -4.469      0.000      -0.309      -0.120\n",
       "region_Atlas Peak                                  0.4744      0.055      8.587      0.000       0.366       0.583\n",
       "region_Baden                                       0.4659      0.076      6.152      0.000       0.317       0.614\n",
       "region_Bairrada                                    0.1239      0.058      2.143      0.032       0.011       0.237\n",
       "region_Ballard Canyon                              0.0043      0.056      0.077      0.939      -0.106       0.115\n",
       "region_Barbaresco                                  0.3989      0.031     12.826      0.000       0.338       0.460\n",
       "region_Barbera d'Alba                             -0.0380      0.046     -0.829      0.407      -0.128       0.052\n",
       "region_Barbera d'Asti                             -0.1822      0.050     -3.615      0.000      -0.281      -0.083\n",
       "region_Barbera d'Asti Superiore                   -0.0009      0.058     -0.016      0.987      -0.115       0.113\n",
       "region_Barolo                                      0.5720      0.028     20.095      0.000       0.516       0.628\n",
       "region_Barossa                                     0.0806      0.045      1.794      0.073      -0.007       0.169\n",
       "region_Barossa Valley                              0.1989      0.043      4.654      0.000       0.115       0.283\n",
       "region_Beaujolais                                 -0.1626      0.052     -3.106      0.002      -0.265      -0.060\n",
       "region_Beaujolais-Villages                        -0.1953      0.044     -4.483      0.000      -0.281      -0.110\n",
       "region_Beaune                                      0.2820      0.040      7.078      0.000       0.204       0.360\n",
       "region_Bennett Valley                             -0.0042      0.065     -0.064      0.949      -0.131       0.123\n",
       "region_Bierzo                                     -0.0357      0.078     -0.460      0.645      -0.188       0.116\n",
       "region_Blaye Côtes de Bordeaux                    -0.4014      0.029    -13.945      0.000      -0.458      -0.345\n",
       "region_Bolgheri                                    0.1622      0.036      4.469      0.000       0.091       0.233\n",
       "region_Bolgheri Superiore                          0.6163      0.051     12.026      0.000       0.516       0.717\n",
       "region_Bordeaux                                   -0.6138      0.023    -26.186      0.000      -0.660      -0.568\n",
       "region_Bordeaux Supérieur                         -0.4794      0.025    -19.271      0.000      -0.528      -0.431\n",
       "region_Bourgogne                                  -0.1393      0.050     -2.813      0.005      -0.236      -0.042\n",
       "region_Brouilly                                    0.0529      0.060      0.887      0.375      -0.064       0.170\n",
       "region_Brunello di Montalcino                      0.7130      0.020     35.458      0.000       0.674       0.752\n",
       "region_Burgenland                                 -0.1338      0.048     -2.808      0.005      -0.227      -0.040\n",
       "region_Cachapoal Valley                           -0.0615      0.040     -1.544      0.123      -0.140       0.017\n",
       "region_Cadillac Côtes de Bordeaux                 -0.3692      0.042     -8.704      0.000      -0.452      -0.286\n",
       "region_Cafayate                                    0.0793      0.068      1.173      0.241      -0.053       0.212\n",
       "region_Cahors                                     -0.2690      0.026    -10.545      0.000      -0.319      -0.219\n",
       "region_Calatayud                                  -0.3002      0.055     -5.422      0.000      -0.409      -0.192\n",
       "region_Calaveras County                           -0.1620      0.052     -3.124      0.002      -0.264      -0.060\n",
       "region_California                                 -0.5561      0.016    -33.885      0.000      -0.588      -0.524\n",
       "region_Calistoga                                   0.4321      0.042     10.323      0.000       0.350       0.514\n",
       "region_Campo de Borja                             -0.3711      0.046     -8.095      0.000      -0.461      -0.281\n",
       "region_Cariñena                                   -0.3235      0.044     -7.420      0.000      -0.409      -0.238\n",
       "region_Carmel Valley                               0.0769      0.051      1.503      0.133      -0.023       0.177\n",
       "region_Carneros                                    0.0237      0.023      1.013      0.311      -0.022       0.070\n",
       "region_Carnuntum                                  -0.1025      0.070     -1.469      0.142      -0.239       0.034\n",
       "region_Casablanca Valley                          -0.1234      0.039     -3.151      0.002      -0.200      -0.047\n",
       "region_Castillon Côtes de Bordeaux                -0.3549      0.040     -8.920      0.000      -0.433      -0.277\n",
       "region_Central Coast                              -0.3000      0.024    -12.623      0.000      -0.347      -0.253\n",
       "region_Central Otago                               0.2704      0.068      4.005      0.000       0.138       0.403\n",
       "region_Central Valley                             -0.3802      0.037    -10.168      0.000      -0.453      -0.307\n",
       "region_Chalk Hill                                  0.3176      0.062      5.115      0.000       0.196       0.439\n",
       "region_Chalone                                    -0.0835      0.065     -1.289      0.197      -0.210       0.043\n",
       "region_Chambolle-Musigny                           0.8114      0.063     12.830      0.000       0.687       0.935\n",
       "region_Champagne                                   0.4305      0.062      6.942      0.000       0.309       0.552\n",
       "region_Chehalem Mountains                          0.0999      0.030      3.375      0.001       0.042       0.158\n",
       "region_Chianti                                    -0.3992      0.040    -10.003      0.000      -0.477      -0.321\n",
       "region_Chianti Classico                           -0.0150      0.019     -0.790      0.430      -0.052       0.022\n",
       "region_Chianti Rufina                             -0.1652      0.056     -2.942      0.003      -0.275      -0.055\n",
       "region_Chinon                                     -0.3766      0.064     -5.928      0.000      -0.501      -0.252\n",
       "region_Châteauneuf-du-Pape                         0.4773      0.040     11.999      0.000       0.399       0.555\n",
       "region_Clare Valley                                0.1615      0.058      2.793      0.005       0.048       0.275\n",
       "region_Clarksburg                                 -0.3866      0.067     -5.765      0.000      -0.518      -0.255\n",
       "region_Coastal Region                             -0.2483      0.060     -4.151      0.000      -0.366      -0.131\n",
       "region_Colchagua Valley                           -0.1807      0.029     -6.236      0.000      -0.238      -0.124\n",
       "region_Columbia Valley (OR)                        0.0734      0.058      1.269      0.204      -0.040       0.187\n",
       "region_Columbia Valley (WA)                       -0.1921      0.014    -13.254      0.000      -0.220      -0.164\n",
       "region_Contra Costa County                        -0.0992      0.057     -1.735      0.083      -0.211       0.013\n",
       "region_Coombsville                                 0.5047      0.063      8.038      0.000       0.382       0.628\n",
       "region_Coonawarra                                 -0.0908      0.064     -1.424      0.155      -0.216       0.034\n",
       "region_Costières de Nîmes                         -0.5236      0.059     -8.893      0.000      -0.639      -0.408\n",
       "region_Curicó Valley                              -0.3079      0.042     -7.307      0.000      -0.390      -0.225\n",
       "region_Curicó and Maipo Valleys                    0.1161      0.431      0.269      0.788      -0.729       0.961\n",
       "region_Côtes de Bordeaux                          -0.4213      0.065     -6.510      0.000      -0.548      -0.294\n",
       "region_Côtes de Bourg                             -0.3751      0.048     -7.881      0.000      -0.468      -0.282\n",
       "region_Côtes de Provence                          -0.1975      0.063     -3.120      0.002      -0.322      -0.073\n",
       "region_Côtes du Rhône                             -0.5412      0.038    -14.073      0.000      -0.617      -0.466\n",
       "region_Diamond Mountain District                   0.5149      0.037     13.854      0.000       0.442       0.588\n",
       "region_Douro                                       0.3495      0.037      9.343      0.000       0.276       0.423\n",
       "region_Dry Creek Valley                            0.0477      0.020      2.358      0.018       0.008       0.087\n",
       "region_Dundee Hills                                0.1750      0.026      6.847      0.000       0.125       0.225\n",
       "region_Dão                                         0.1283      0.046      2.776      0.005       0.038       0.219\n",
       "region_Edna Valley                                -0.0688      0.034     -2.035      0.042      -0.135      -0.003\n",
       "region_El Dorado                                  -0.2448      0.031     -8.022      0.000      -0.305      -0.185\n",
       "region_Eola-Amity Hills                            0.0405      0.033      1.232      0.218      -0.024       0.105\n",
       "region_Etna                                        0.1214      0.037      3.282      0.001       0.049       0.194\n",
       "region_Finger Lakes                               -0.2578      0.025    -10.505      0.000      -0.306      -0.210\n",
       "region_Fleurie                                    -0.0360      0.057     -0.638      0.524      -0.147       0.075\n",
       "region_Gaillac                                    -0.4875      0.063     -7.707      0.000      -0.611      -0.364\n",
       "region_Galilee                                    -0.0519      0.056     -0.936      0.349      -0.161       0.057\n",
       "region_Gevrey-Chambertin                           0.6124      0.052     11.832      0.000       0.511       0.714\n",
       "region_Graves                                     -0.2840      0.060     -4.738      0.000      -0.401      -0.167\n",
       "region_Green Valley                                0.0858      0.047      1.825      0.068      -0.006       0.178\n",
       "region_Happy Canyon of Santa Barbara               0.1597      0.047      3.431      0.001       0.068       0.251\n",
       "region_Haut-Médoc                                 -0.2797      0.029     -9.544      0.000      -0.337      -0.222\n",
       "region_Hawke's Bay                                 0.0757      0.072      1.046      0.296      -0.066       0.218\n",
       "region_Horse Heaven Hills                         -0.0764      0.024     -3.164      0.002      -0.124      -0.029\n",
       "region_Howell Mountain                             0.5025      0.035     14.270      0.000       0.434       0.572\n",
       "region_Idaho                                      -0.2085      0.042     -4.935      0.000      -0.291      -0.126\n",
       "region_Irpinia                                     0.1039      0.077      1.348      0.178      -0.047       0.255\n",
       "region_Judean Hills                                0.1878      0.063      2.960      0.003       0.063       0.312\n",
       "region_Jumilla                                    -0.1907      0.047     -4.052      0.000      -0.283      -0.098\n",
       "region_Knights Valley                              0.2538      0.047      5.370      0.000       0.161       0.346\n",
       "region_La Consulta                                 0.2428      0.068      3.588      0.000       0.110       0.375\n",
       "region_La Mancha                                  -0.3523      0.056     -6.342      0.000      -0.461      -0.243\n",
       "region_Lake County                                -0.1800      0.039     -4.648      0.000      -0.256      -0.104\n",
       "region_Lalande de Pomerol                         -0.1257      0.056     -2.242      0.025      -0.236      -0.016\n",
       "region_Langhe                                      0.0730      0.055      1.334      0.182      -0.034       0.180\n",
       "region_Leyda Valley                               -0.0229      0.061     -0.376      0.707      -0.142       0.096\n",
       "region_Limarí Valley                              -0.1991      0.070     -2.846      0.004      -0.336      -0.062\n",
       "region_Lisboa                                     -0.0177      0.043     -0.408      0.683      -0.103       0.067\n",
       "region_Livermore Valley                            0.0545      0.027      2.054      0.040       0.003       0.106\n",
       "region_Lodi                                       -0.3653      0.022    -16.895      0.000      -0.408      -0.323\n",
       "region_Los Carneros                               -0.0155      0.065     -0.237      0.813      -0.144       0.113\n",
       "region_Luján de Cuyo                               0.0702      0.043      1.628      0.103      -0.014       0.155\n",
       "region_Madiran                                    -0.5326      0.056     -9.520      0.000      -0.642      -0.423\n",
       "region_Maipo Valley                               -0.1296      0.030     -4.301      0.000      -0.189      -0.071\n",
       "region_Maipo Valley-Colchagua Valley              -0.5682      0.250     -2.275      0.023      -1.058      -0.079\n",
       "region_Maremma                                     0.0394      0.061      0.640      0.522      -0.081       0.160\n",
       "region_Maremma Toscana                             0.1378      0.051      2.677      0.007       0.037       0.239\n",
       "region_Margaret River                              0.0842      0.054      1.566      0.117      -0.021       0.190\n",
       "region_Margaux                                     0.2247      0.046      4.892      0.000       0.135       0.315\n",
       "region_Marlborough                                -0.0266      0.062     -0.432      0.666      -0.148       0.094\n",
       "region_Martinborough                               0.3329      0.078      4.270      0.000       0.180       0.486\n",
       "region_Maule Valley                               -0.2784      0.033     -8.416      0.000      -0.343      -0.214\n",
       "region_McLaren Vale                                0.1599      0.034      4.771      0.000       0.094       0.226\n",
       "region_McMinnville                                 0.1175      0.047      2.495      0.013       0.025       0.210\n",
       "region_Mendocino                                  -0.1706      0.031     -5.570      0.000      -0.231      -0.111\n",
       "region_Mendocino County                           -0.3195      0.031    -10.474      0.000      -0.379      -0.260\n",
       "region_Mendocino Ridge                            -0.0241      0.053     -0.453      0.651      -0.129       0.080\n",
       "region_Mendoza                                    -0.1497      0.029     -5.249      0.000      -0.206      -0.094\n",
       "region_Mercurey                                    0.0580      0.050      1.156      0.248      -0.040       0.156\n",
       "region_Montefalco Rosso                           -0.1612      0.058     -2.763      0.006      -0.276      -0.047\n",
       "region_Montefalco Sagrantino                       0.0964      0.091      1.056      0.291      -0.083       0.275\n",
       "region_Montepulciano d'Abruzzo                    -0.2250      0.041     -5.483      0.000      -0.305      -0.145\n",
       "region_Monterey                                   -0.2156      0.037     -5.775      0.000      -0.289      -0.142\n",
       "region_Monterey County                            -0.2652      0.038     -7.070      0.000      -0.339      -0.192\n",
       "region_Monticello                                 -0.1105      0.050     -2.218      0.027      -0.208      -0.013\n",
       "region_Montsant                                   -0.0301      0.051     -0.587      0.557      -0.131       0.070\n",
       "region_Morellino di Scansano                      -0.1848      0.035     -5.222      0.000      -0.254      -0.115\n",
       "region_Morgon                                     -0.0868      0.048     -1.817      0.069      -0.180       0.007\n",
       "region_Moulin-à-Vent                               0.0657      0.055      1.201      0.230      -0.042       0.173\n",
       "region_Mount Veeder                                0.4999      0.039     12.960      0.000       0.424       0.575\n",
       "region_Mt. Harlan                                  0.1062      0.063      1.686      0.092      -0.017       0.230\n",
       "region_Médoc                                      -0.2771      0.032     -8.653      0.000      -0.340      -0.214\n",
       "region_Napa County                                -0.2510      0.067     -3.758      0.000      -0.382      -0.120\n",
       "region_Napa Valley                                 0.3204      0.014     22.394      0.000       0.292       0.348\n",
       "region_Navarra                                    -0.1938      0.042     -4.650      0.000      -0.275      -0.112\n",
       "region_Nemea                                       0.3671      0.143      2.565      0.010       0.087       0.648\n",
       "region_New York                                   -0.3290      0.055     -5.984      0.000      -0.437      -0.221\n",
       "region_Niederösterreich                           -0.0930      0.067     -1.388      0.165      -0.224       0.038\n",
       "region_North Coast                                -0.3694      0.034    -10.805      0.000      -0.436      -0.302\n",
       "region_North Fork of Long Island                  -0.0382      0.028     -1.370      0.171      -0.093       0.016\n",
       "region_Nuits-St.-Georges                           0.7148      0.046     15.702      0.000       0.626       0.804\n",
       "region_Oak Knoll District                          0.3564      0.050      7.091      0.000       0.258       0.455\n",
       "region_Oakville                                    0.5680      0.029     19.363      0.000       0.511       0.626\n",
       "region_Okanagan Valley                            -0.2236      0.101     -2.218      0.027      -0.421      -0.026\n",
       "region_Oregon                                     -0.2946      0.031     -9.620      0.000      -0.355      -0.235\n",
       "region_Paarl                                       0.0674      0.069      0.981      0.327      -0.067       0.202\n",
       "region_Paso Robles                                 0.0341      0.016      2.196      0.028       0.004       0.065\n",
       "region_Paso Robles Willow Creek District           0.1693      0.065      2.590      0.010       0.041       0.297\n",
       "region_Patagonia                                  -0.1774      0.062     -2.876      0.004      -0.298      -0.057\n",
       "region_Pauillac                                    0.7198      0.050     14.284      0.000       0.621       0.819\n",
       "region_Península de Setúbal                        0.1341      0.063      2.126      0.033       0.010       0.258\n",
       "region_Pessac-Léognan                              0.3124      0.046      6.800      0.000       0.222       0.402\n",
       "region_Pomerol                                     0.7686      0.053     14.519      0.000       0.665       0.872\n",
       "region_Pommard                                     0.6199      0.055     11.331      0.000       0.513       0.727\n",
       "region_Priorat                                     0.3549      0.035     10.031      0.000       0.286       0.424\n",
       "region_Puglia                                     -0.2931      0.057     -5.180      0.000      -0.404      -0.182\n",
       "region_Rapel Valley                               -0.4097      0.044     -9.396      0.000      -0.495      -0.324\n",
       "region_Rattlesnake Hills                          -0.3256      0.051     -6.386      0.000      -0.425      -0.226\n",
       "region_Red Hills Lake County                      -0.1720      0.049     -3.483      0.000      -0.269      -0.075\n",
       "region_Red Mountain                                0.0953      0.021      4.601      0.000       0.055       0.136\n",
       "region_Ribbon Ridge                                0.1104      0.048      2.283      0.022       0.016       0.205\n",
       "region_Ribera del Duero                            0.3692      0.028     13.020      0.000       0.314       0.425\n",
       "region_Rioja                                       0.1008      0.027      3.788      0.000       0.049       0.153\n",
       "region_Rockpile                                    0.2418      0.052      4.616      0.000       0.139       0.344\n",
       "region_Rogue Valley                                0.0018      0.031      0.058      0.954      -0.059       0.062\n",
       "region_Romagna                                    -0.1348      0.063     -2.129      0.033      -0.259      -0.011\n",
       "region_Rosso di Montalcino                         0.0781      0.030      2.611      0.009       0.019       0.137\n",
       "region_Rosso di Montepulciano                     -0.2757      0.043     -6.411      0.000      -0.360      -0.191\n",
       "region_Russian River Valley                        0.0491      0.016      3.034      0.002       0.017       0.081\n",
       "region_Rutherford                                  0.5658      0.027     21.281      0.000       0.514       0.618\n",
       "region_Saint-Estèphe                               0.0327      0.047      0.690      0.490      -0.060       0.125\n",
       "region_Saint-Julien                                0.3518      0.057      6.166      0.000       0.240       0.464\n",
       "region_Saint-Émilion                               0.2683      0.028      9.468      0.000       0.213       0.324\n",
       "region_Salento                                    -0.0574      0.051     -1.125      0.261      -0.157       0.043\n",
       "region_San Juan                                   -0.2553      0.064     -3.964      0.000      -0.381      -0.129\n",
       "region_San Luis Obispo County                     -0.1593      0.046     -3.500      0.000      -0.248      -0.070\n",
       "region_Sancerre                                   -0.0277      0.053     -0.521      0.603      -0.132       0.076\n",
       "region_Santa Barbara County                       -0.0590      0.021     -2.787      0.005      -0.100      -0.017\n",
       "region_Santa Clara Valley                         -0.0345      0.048     -0.712      0.476      -0.129       0.060\n",
       "region_Santa Cruz Mountains                        0.0292      0.025      1.184      0.237      -0.019       0.078\n",
       "region_Santa Lucia Highlands                      -0.0098      0.023     -0.424      0.672      -0.055       0.036\n",
       "region_Santa Maria Valley                         -0.0557      0.025     -2.211      0.027      -0.105      -0.006\n",
       "region_Santa Ynez Valley                           0.0326      0.023      1.444      0.149      -0.012       0.077\n",
       "region_Savigny-lès-Beaune                          0.1463      0.051      2.843      0.004       0.045       0.247\n",
       "region_Shenandoah Valley (CA)                     -0.1431      0.041     -3.452      0.001      -0.224      -0.062\n",
       "region_Sicilia                                    -0.1175      0.028     -4.208      0.000      -0.172      -0.063\n",
       "region_Sierra Foothills                           -0.2073      0.028     -7.395      0.000      -0.262      -0.152\n",
       "region_Snipes Mountain                            -0.0090      0.067     -0.135      0.893      -0.140       0.122\n",
       "region_Somontano                                  -0.1260      0.067     -1.870      0.062      -0.258       0.006\n",
       "region_Sonoma Coast                                0.0815      0.019      4.320      0.000       0.045       0.119\n",
       "region_Sonoma County                              -0.0822      0.019     -4.273      0.000      -0.120      -0.044\n",
       "region_Sonoma Mountain                             0.0590      0.044      1.332      0.183      -0.028       0.146\n",
       "region_Sonoma Valley                               0.2090      0.023      9.098      0.000       0.164       0.254\n",
       "region_South Australia                            -0.2406      0.048     -5.027      0.000      -0.334      -0.147\n",
       "region_South Coast                                 0.1236      0.066      1.872      0.061      -0.006       0.253\n",
       "region_South Eastern Australia                    -0.5788      0.050    -11.501      0.000      -0.677      -0.480\n",
       "region_Southern Oregon                            -0.0698      0.050     -1.407      0.159      -0.167       0.027\n",
       "region_Spring Mountain District                    0.4439      0.043     10.302      0.000       0.359       0.528\n",
       "region_St. Helena                                  0.4969      0.033     14.914      0.000       0.432       0.562\n",
       "region_Sta. Rita Hills                             0.0222      0.021      1.056      0.291      -0.019       0.063\n",
       "region_Stags Leap District                         0.5747      0.037     15.496      0.000       0.502       0.647\n",
       "region_Stellenbosch                                0.0554      0.042      1.322      0.186      -0.027       0.137\n",
       "region_Taurasi                                     0.3775      0.064      5.912      0.000       0.252       0.503\n",
       "region_Tejo                                        0.0320      0.042      0.763      0.446      -0.050       0.114\n",
       "region_Temecula Valley                             0.3274      0.041      8.055      0.000       0.248       0.407\n",
       "region_Terre Siciliane                            -0.1565      0.044     -3.536      0.000      -0.243      -0.070\n",
       "region_Thermenregion                              -0.0989      0.073     -1.362      0.173      -0.241       0.043\n",
       "region_Thracian Valley                            -0.0968      0.116     -0.838      0.402      -0.323       0.130\n",
       "region_Toro                                        0.2079      0.038      5.458      0.000       0.133       0.282\n",
       "region_Toscana                                     0.3184      0.019     17.198      0.000       0.282       0.355\n",
       "region_Tupungato                                  -0.0489      0.045     -1.083      0.279      -0.137       0.040\n",
       "region_Uco Valley                                 -0.0663      0.040     -1.665      0.096      -0.144       0.012\n",
       "region_Umbria                                     -0.1846      0.063     -2.917      0.004      -0.309      -0.061\n",
       "region_Umpqua Valley                              -0.0681      0.039     -1.725      0.085      -0.145       0.009\n",
       "region_Utiel-Requena                              -0.2480      0.067     -3.698      0.000      -0.379      -0.117\n",
       "region_Valencia                                   -0.1786      0.057     -3.119      0.002      -0.291      -0.066\n",
       "region_Valle de Uco                                0.0925      0.059      1.567      0.117      -0.023       0.208\n",
       "region_Valpolicella Classico Superiore Ripasso    -0.1798      0.062     -2.920      0.004      -0.300      -0.059\n",
       "region_Vin Mousseux                               -0.0241      0.216     -0.112      0.911      -0.447       0.399\n",
       "region_Vin de France                              -0.5507      0.042    -13.036      0.000      -0.633      -0.468\n",
       "region_Vin de Pays d'Oc                           -0.6843      0.063    -10.845      0.000      -0.808      -0.561\n",
       "region_Vino Nobile di Montepulciano                0.1765      0.031      5.695      0.000       0.116       0.237\n",
       "region_Vino de la Tierra de Castilla              -0.2173      0.042     -5.146      0.000      -0.300      -0.135\n",
       "region_Vino de la Tierra de Castilla y León        0.2158      0.051      4.221      0.000       0.116       0.316\n",
       "region_Virginia                                    0.0653      0.028      2.374      0.018       0.011       0.119\n",
       "region_Volnay                                      0.5179      0.060      8.661      0.000       0.401       0.635\n",
       "region_Vosne-Romanée                               0.7752      0.067     11.618      0.000       0.644       0.906\n",
       "region_Wahluke Slope                              -0.0764      0.027     -2.790      0.005      -0.130      -0.023\n",
       "region_Walla Walla Valley (OR)                     0.0694      0.043      1.632      0.103      -0.014       0.153\n",
       "region_Walla Walla Valley (WA)                     0.0265      0.018      1.436      0.151      -0.010       0.063\n",
       "region_Washington                                 -0.2427      0.029     -8.232      0.000      -0.301      -0.185\n",
       "region_Western Cape                               -0.3785      0.052     -7.328      0.000      -0.480      -0.277\n",
       "region_Willamette Valley                          -0.0696      0.018     -3.973      0.000      -0.104      -0.035\n",
       "region_Yakima Valley                              -0.1215      0.021     -5.706      0.000      -0.163      -0.080\n",
       "region_Yarra Valley                                0.3063      0.056      5.470      0.000       0.197       0.416\n",
       "region_Yorkville Highlands                         0.0324      0.057      0.565      0.572      -0.080       0.145\n",
       "region_Yountville                                  0.4968      0.056      8.922      0.000       0.388       0.606\n",
       "==============================================================================\n",
       "Omnibus:                     9435.603   Durbin-Watson:                   1.862\n",
       "Prob(Omnibus):                  0.000   Jarque-Bera (JB):            22574.756\n",
       "Skew:                           0.768   Prob(JB):                         0.00\n",
       "Kurtosis:                       5.279   Cond. No.                     2.39e+04\n",
       "==============================================================================\n",
       "\n",
       "Warnings:\n",
       "[1] Standard Errors assume that the covariance matrix of the errors is correctly specified.\n",
       "[2] The condition number is large, 2.39e+04. This might indicate that there are\n",
       "strong multicollinearity or other numerical problems.\n",
       "\"\"\""
      ]
     },
     "execution_count": 92,
     "metadata": {},
     "output_type": "execute_result"
    }
   ],
   "source": [
    "# Calling the results\n",
    "results.summary()"
   ]
  },
  {
   "cell_type": "markdown",
   "metadata": {},
   "source": [
    "**Interpretation**\n",
    "\n",
    "- While R-squared is not our metric for this study, the .582 score suggests that all of our models are far from perfect.\n",
    "- That said, it is still valuable to look at the significant features and understand what they mean."
   ]
  },
  {
   "cell_type": "code",
   "execution_count": 93,
   "metadata": {},
   "outputs": [],
   "source": [
    "# Code found at:\n",
    "# https://stackoverflow.com/questions/51734180/converting-statsmodels-summary-object-to-pandas-dataframe/52976810\n",
    "#  Creating a DataFrame from the lower portion of the OLS summary\n",
    "\n",
    "def results_summary_to_dataframe(results):\n",
    "    '''take the result of an statsmodel results table and transforms it into a dataframe'''\n",
    "    pvals = results.pvalues\n",
    "    coeff = results.params\n",
    "    conf_lower = results.conf_int()[0]\n",
    "    conf_higher = results.conf_int()[1]\n",
    "\n",
    "    results_df = pd.DataFrame({\"pvals\":pvals,\n",
    "                               \"coeff\":coeff,\n",
    "                               \"conf_lower\":conf_lower,\n",
    "                               \"conf_higher\":conf_higher\n",
    "                                })\n",
    "\n",
    "    #Reordering...\n",
    "    results_df = results_df[[\"coeff\",\"pvals\",\"conf_lower\",\"conf_higher\"]]\n",
    "    return results_df"
   ]
  },
  {
   "cell_type": "code",
   "execution_count": 94,
   "metadata": {},
   "outputs": [],
   "source": [
    "# calling code to create dataframe\n",
    "df_ols = results_summary_to_dataframe(results)"
   ]
  },
  {
   "cell_type": "markdown",
   "metadata": {},
   "source": [
    "Our next step is to create a new column to examine our coefficients. \n",
    "- Since they are based on a logged target, we are exponentiating, subtracting one and multiplying by 100. \n",
    "- For each, the result is the percentage change in price for a unit change in the feature.\n",
    "    - Note that for many of our features (including the countries, the regions and the varieties), this just means that if X is true (i.e. the wine is from France), the price increases (or decreases) by this percent."
   ]
  },
  {
   "cell_type": "code",
   "execution_count": 95,
   "metadata": {},
   "outputs": [],
   "source": [
    "df_ols['pct_change_in_y'] = (np.exp(df_ols['coeff']) - 1) *100"
   ]
  },
  {
   "cell_type": "code",
   "execution_count": 96,
   "metadata": {},
   "outputs": [
    {
     "data": {
      "text/html": [
       "<div>\n",
       "<style scoped>\n",
       "    .dataframe tbody tr th:only-of-type {\n",
       "        vertical-align: middle;\n",
       "    }\n",
       "\n",
       "    .dataframe tbody tr th {\n",
       "        vertical-align: top;\n",
       "    }\n",
       "\n",
       "    .dataframe thead th {\n",
       "        text-align: right;\n",
       "    }\n",
       "</style>\n",
       "<table border=\"1\" class=\"dataframe\">\n",
       "  <thead>\n",
       "    <tr style=\"text-align: right;\">\n",
       "      <th></th>\n",
       "      <th>coeff</th>\n",
       "      <th>pct_change_in_y</th>\n",
       "      <th>pvals</th>\n",
       "    </tr>\n",
       "  </thead>\n",
       "  <tbody>\n",
       "    <tr>\n",
       "      <th>const</th>\n",
       "      <td>-5.358764</td>\n",
       "      <td>-99.529328</td>\n",
       "      <td>0.000000e+00</td>\n",
       "    </tr>\n",
       "    <tr>\n",
       "      <th>points</th>\n",
       "      <td>0.095850</td>\n",
       "      <td>10.059383</td>\n",
       "      <td>0.000000e+00</td>\n",
       "    </tr>\n",
       "    <tr>\n",
       "      <th>high_q_term</th>\n",
       "      <td>0.069601</td>\n",
       "      <td>7.208037</td>\n",
       "      <td>1.101370e-52</td>\n",
       "    </tr>\n",
       "    <tr>\n",
       "      <th>vintage</th>\n",
       "      <td>0.008247</td>\n",
       "      <td>0.828116</td>\n",
       "      <td>1.065134e-60</td>\n",
       "    </tr>\n",
       "    <tr>\n",
       "      <th>country_Argentina</th>\n",
       "      <td>0.092350</td>\n",
       "      <td>9.674910</td>\n",
       "      <td>8.602540e-02</td>\n",
       "    </tr>\n",
       "  </tbody>\n",
       "</table>\n",
       "</div>"
      ],
      "text/plain": [
       "                      coeff  pct_change_in_y         pvals\n",
       "const             -5.358764       -99.529328  0.000000e+00\n",
       "points             0.095850        10.059383  0.000000e+00\n",
       "high_q_term        0.069601         7.208037  1.101370e-52\n",
       "vintage            0.008247         0.828116  1.065134e-60\n",
       "country_Argentina  0.092350         9.674910  8.602540e-02"
      ]
     },
     "execution_count": 96,
     "metadata": {},
     "output_type": "execute_result"
    }
   ],
   "source": [
    "# Removing quartile ranges from dataframe and moving pct_change next to coeff\n",
    "df_ols = df_ols.loc[:,['coeff','pct_change_in_y', 'pvals']]\n",
    "df_ols.head()"
   ]
  },
  {
   "cell_type": "code",
   "execution_count": 97,
   "metadata": {},
   "outputs": [],
   "source": [
    "# Creating masks to (1) limit lists to only significant features (2) separate into groups \n",
    "# positive change vs negative change\n",
    "significant = df_ols['pvals'] <=.05\n",
    "positive_change = df_ols['pct_change_in_y'] > 0\n",
    "negative_change = df_ols['pct_change_in_y'] < 0\n",
    "\n",
    "# Creating a dataframe of signficant positive features and then saving as sorted highest to lowest change\n",
    "df_ols_pos = df_ols.loc[significant & positive_change]\n",
    "df_ols_pos = df_ols_pos.sort_values('pct_change_in_y', ascending=False)\n",
    "# Creating similar dataframe for negative features and dropping the row for our constant\n",
    "df_ols_neg = df_ols.loc[significant & negative_change]\n",
    "df_ols_neg = df_ols_neg.sort_values('pct_change_in_y', ascending=True)\n",
    "df_ols_neg.drop('const', inplace=True)"
   ]
  },
  {
   "cell_type": "code",
   "execution_count": 98,
   "metadata": {},
   "outputs": [
    {
     "data": {
      "text/html": [
       "<div>\n",
       "<style scoped>\n",
       "    .dataframe tbody tr th:only-of-type {\n",
       "        vertical-align: middle;\n",
       "    }\n",
       "\n",
       "    .dataframe tbody tr th {\n",
       "        vertical-align: top;\n",
       "    }\n",
       "\n",
       "    .dataframe thead th {\n",
       "        text-align: right;\n",
       "    }\n",
       "</style>\n",
       "<table border=\"1\" class=\"dataframe\">\n",
       "  <thead>\n",
       "    <tr style=\"text-align: right;\">\n",
       "      <th></th>\n",
       "      <th>coeff</th>\n",
       "      <th>pct_change_in_y</th>\n",
       "      <th>pvals</th>\n",
       "    </tr>\n",
       "  </thead>\n",
       "  <tbody>\n",
       "    <tr>\n",
       "      <th>region_Chambolle-Musigny</th>\n",
       "      <td>0.811386</td>\n",
       "      <td>125.102503</td>\n",
       "      <td>1.230812e-37</td>\n",
       "    </tr>\n",
       "    <tr>\n",
       "      <th>region_Vosne-Romanée</th>\n",
       "      <td>0.775194</td>\n",
       "      <td>117.101354</td>\n",
       "      <td>3.574594e-31</td>\n",
       "    </tr>\n",
       "    <tr>\n",
       "      <th>region_Pomerol</th>\n",
       "      <td>0.768636</td>\n",
       "      <td>115.682280</td>\n",
       "      <td>1.081560e-47</td>\n",
       "    </tr>\n",
       "    <tr>\n",
       "      <th>region_Amarone della Valpolicella Classico</th>\n",
       "      <td>0.749925</td>\n",
       "      <td>111.684113</td>\n",
       "      <td>3.175426e-119</td>\n",
       "    </tr>\n",
       "    <tr>\n",
       "      <th>variety_Maturana</th>\n",
       "      <td>0.732457</td>\n",
       "      <td>108.018560</td>\n",
       "      <td>5.358843e-05</td>\n",
       "    </tr>\n",
       "  </tbody>\n",
       "</table>\n",
       "</div>"
      ],
      "text/plain": [
       "                                               coeff  pct_change_in_y  \\\n",
       "region_Chambolle-Musigny                    0.811386       125.102503   \n",
       "region_Vosne-Romanée                        0.775194       117.101354   \n",
       "region_Pomerol                              0.768636       115.682280   \n",
       "region_Amarone della Valpolicella Classico  0.749925       111.684113   \n",
       "variety_Maturana                            0.732457       108.018560   \n",
       "\n",
       "                                                    pvals  \n",
       "region_Chambolle-Musigny                     1.230812e-37  \n",
       "region_Vosne-Romanée                         3.574594e-31  \n",
       "region_Pomerol                               1.081560e-47  \n",
       "region_Amarone della Valpolicella Classico  3.175426e-119  \n",
       "variety_Maturana                             5.358843e-05  "
      ]
     },
     "execution_count": 98,
     "metadata": {},
     "output_type": "execute_result"
    }
   ],
   "source": [
    "# confirm positive\n",
    "df_ols_pos.head()"
   ]
  },
  {
   "cell_type": "code",
   "execution_count": 99,
   "metadata": {},
   "outputs": [
    {
     "data": {
      "text/html": [
       "<div>\n",
       "<style scoped>\n",
       "    .dataframe tbody tr th:only-of-type {\n",
       "        vertical-align: middle;\n",
       "    }\n",
       "\n",
       "    .dataframe tbody tr th {\n",
       "        vertical-align: top;\n",
       "    }\n",
       "\n",
       "    .dataframe thead th {\n",
       "        text-align: right;\n",
       "    }\n",
       "</style>\n",
       "<table border=\"1\" class=\"dataframe\">\n",
       "  <thead>\n",
       "    <tr style=\"text-align: right;\">\n",
       "      <th></th>\n",
       "      <th>coeff</th>\n",
       "      <th>pct_change_in_y</th>\n",
       "      <th>pvals</th>\n",
       "    </tr>\n",
       "  </thead>\n",
       "  <tbody>\n",
       "    <tr>\n",
       "      <th>region_Vin de Pays d'Oc</th>\n",
       "      <td>-0.684332</td>\n",
       "      <td>-49.557271</td>\n",
       "      <td>2.216462e-27</td>\n",
       "    </tr>\n",
       "    <tr>\n",
       "      <th>region_Bordeaux</th>\n",
       "      <td>-0.613772</td>\n",
       "      <td>-45.869491</td>\n",
       "      <td>1.968498e-150</td>\n",
       "    </tr>\n",
       "    <tr>\n",
       "      <th>region_South Eastern Australia</th>\n",
       "      <td>-0.578784</td>\n",
       "      <td>-43.942019</td>\n",
       "      <td>1.389698e-30</td>\n",
       "    </tr>\n",
       "    <tr>\n",
       "      <th>region_Maipo Valley-Colchagua Valley</th>\n",
       "      <td>-0.568157</td>\n",
       "      <td>-43.343106</td>\n",
       "      <td>2.291144e-02</td>\n",
       "    </tr>\n",
       "    <tr>\n",
       "      <th>region_California</th>\n",
       "      <td>-0.556054</td>\n",
       "      <td>-42.653237</td>\n",
       "      <td>1.070161e-249</td>\n",
       "    </tr>\n",
       "  </tbody>\n",
       "</table>\n",
       "</div>"
      ],
      "text/plain": [
       "                                         coeff  pct_change_in_y          pvals\n",
       "region_Vin de Pays d'Oc              -0.684332       -49.557271   2.216462e-27\n",
       "region_Bordeaux                      -0.613772       -45.869491  1.968498e-150\n",
       "region_South Eastern Australia       -0.578784       -43.942019   1.389698e-30\n",
       "region_Maipo Valley-Colchagua Valley -0.568157       -43.343106   2.291144e-02\n",
       "region_California                    -0.556054       -42.653237  1.070161e-249"
      ]
     },
     "execution_count": 99,
     "metadata": {},
     "output_type": "execute_result"
    }
   ],
   "source": [
    "# confirm negative\n",
    "df_ols_neg.head()"
   ]
  },
  {
   "cell_type": "markdown",
   "metadata": {},
   "source": [
    "Below, we are plotting the largest 15 variables by percent change for each list. "
   ]
  },
  {
   "cell_type": "code",
   "execution_count": 100,
   "metadata": {},
   "outputs": [
    {
     "data": {
      "image/png": "[encoded data removed]",
      "text/plain": [
       "<Figure size 576x432 with 1 Axes>"
      ]
     },
     "metadata": {
      "needs_background": "light"
     },
     "output_type": "display_data"
    }
   ],
   "source": [
    "df_ols_pos = df_ols_pos.head(15)\n",
    "\n",
    "plt.figure(figsize=(8,6))\n",
    "plt.title('Percent Change in Price',fontsize=26, pad = 15)\n",
    "\n",
    "# plotting prices x score\n",
    "ax1 = sns.barplot(x= 'pct_change_in_y',y=df_ols_pos.index,data=df_ols_pos, orient='h')\n",
    "# ax2 = sns.set(rc={\"lines.linewidth\": 3})\n",
    "# ax2 = sns.lineplot(x= [.5,.5], y=[0,1],color='orange');\n",
    "ax1.set_xlabel('Percent Change In Price', fontsize=15)\n",
    "ax1.set_ylabel('Variable Change', fontsize=15);"
   ]
  },
  {
   "cell_type": "markdown",
   "metadata": {},
   "source": [
    "**Interpretation**\n",
    "\n",
    "- It is interesting to see that 14 of the top 15 positive movers are regions and most of those are european.\n",
    "- The only non-region is the Maturana varietal, a near-extinct grape from the Rioja region of Spain.\n",
    "- A few important side notes on the positive side that didn't make our top 15:\n",
    "    * Our designation feature for reserve wines tells us to expect a 7.2% increase in price for such a wine (assuming all other factors are constant) though we learned in our EDA that the average scores do not suggest we are getting better wine.\n",
    "    * The review score feature predicts a 10% increase for each point increase in the score (assuming all other factors are constant).\n",
    "    * Finally, our vintage feature suggests that wine value increases by 0.8% for each year that it ages (assuming all other factors are constant)"
   ]
  },
  {
   "cell_type": "code",
   "execution_count": 101,
   "metadata": {},
   "outputs": [
    {
     "data": {
      "image/png": "[encoded data removed]",
      "text/plain": [
       "<Figure size 576x432 with 1 Axes>"
      ]
     },
     "metadata": {
      "needs_background": "light"
     },
     "output_type": "display_data"
    }
   ],
   "source": [
    "df_ols_neg = df_ols_neg.head(15)\n",
    "\n",
    "plt.figure(figsize=(8,6))\n",
    "plt.title('Percent Change in Price',fontsize=26, pad = 15)\n",
    "\n",
    "# plotting prices x score\n",
    "ax1 = sns.barplot(x= 'pct_change_in_y',y=df_ols_neg.index,data=df_ols_neg, orient='h')\n",
    "# ax2 = sns.set(rc={\"lines.linewidth\": 3})\n",
    "# ax2 = sns.lineplot(x= [.5,.5], y=[0,1],color='orange');\n",
    "ax1.set_xlabel('Percent Change In Price', fontsize=15)\n",
    "ax1.set_ylabel('Variable Change', fontsize=15);"
   ]
  },
  {
   "cell_type": "markdown",
   "metadata": {},
   "source": [
    "**Interpretation**\n",
    "\n",
    "- 11 of the 15 negative movers are regions and again we see quite a few european regions.\n",
    "    - Others of interest are Australia and Cotes du Rhone (our favorite).\n",
    "- The non-region items here can best be described as obscure when it comes to wine.\n",
    "    - We rarely see wines from Romania or Georgia (the country).\n",
    "    - Agiorgitiko and Dornfelder are varietals we have sampled."
   ]
  },
  {
   "cell_type": "markdown",
   "metadata": {},
   "source": [
    "[Table of Contents](#Table-of-Contents)\n",
    "## Conclusions & Next Steps"
   ]
  },
  {
   "cell_type": "markdown",
   "metadata": {},
   "source": [
    "Our exploratory data and model coefficient analysis have helped us along to path to understanding how the price of wine and how we can make our drinking budgets go further.\n",
    "\n",
    "**EDA Learnings**\n",
    "- Using a cost-per-point metric, we were able to find countries, regions and wine varietals that offer a lower cost for the same review score. \n",
    "    * For those of us who like wines that fall on the right side of this analysis, we can save money by buying wines that we already like or step in quality not pay too much to do so.\n",
    "    * The next step here for our team is to try different varietals with the same score. Then each of us can judge how consistently we can trust these reviews.\n",
    "- Our exploration of the words in the wine reviews gave us a feel for some of the factors that people look for in a premium red wine:\n",
    "    * Oak barrels\n",
    "    * Cabernet over Pinot Noir\n",
    "- EDA on our clustered data seemed to suggest that we have made some good choices in choosing our features as the KPrototypes clustering gave us some more or less distinct groups of wines.\n",
    "    * With additional data points and a balance of wines, it will be interesting to see how these might change in future studies.\n",
    "\n",
    "**Modeling Learnings**\n",
    "- Our predictive model is off to a nice start but it certainly is not ready for prime time. \n",
    "    * While it looks pretty good  up to about \\\\$150, things go a little off of the rails after that.\n",
    "- Our coefficient analysis can point us in directions to save money on a quality wine or avoid some of the factors that can jack up the price. \n",
    "    * From now on, we will be looking a little closer before buying a bottle of the newest reserve wine and try to locate a wine from the same region with comparable reviews.\n",
    "\n",
    "**Future Research**\n",
    "- In gathering our data, we did find some great data resources that we didn't have the budget to pay for. \n",
    "- With this data, we could both expand and narrow our study. \n",
    "    * Expanding to include more wines and more reviews from multiple review sources, perhaps creating an average review score.\n",
    "    * We can also narrow our scope on pricing side, averaging what we would pay at a set of retailers that we can actually access,\n",
    "- If forced, we're even willing to include white wine.\n"
   ]
  },
  {
   "cell_type": "markdown",
   "metadata": {},
   "source": [
    "## References"
   ]
  },
  {
   "cell_type": "markdown",
   "metadata": {},
   "source": [
    "- https://www.kaggle.com/zynicide/wine-reviews\n",
    "- https://www.winemag.com/\n",
    "- https://www.wine-searcher.com/grape-varieties \n",
    "- https://www.thewinecellarinsider.com/wine-topics/wine-educational-questions/abc-of-wine-glossary-of-wine-terms/\n",
    "- https://en.wikipedia.org/wiki/Pinot_noir#Synonyms (example of wikipedia information used)\n",
    "- https://data.library.virginia.edu/interpreting-log-transformations-in-a-linear-model/"
   ]
  }
 ],
 "metadata": {
  "kernelspec": {
   "display_name": "Python 3",
   "language": "python",
   "name": "python3"
  },
  "language_info": {
   "codemirror_mode": {
    "name": "ipython",
    "version": 3
   },
   "file_extension": ".py",
   "mimetype": "text/x-python",
   "name": "python",
   "nbconvert_exporter": "python",
   "pygments_lexer": "ipython3",
   "version": "3.7.4"
  }
 },
 "nbformat": 4,
 "nbformat_minor": 4
}
