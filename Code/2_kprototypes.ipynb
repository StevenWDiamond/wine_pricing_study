{
 "cells": [
  {
   "cell_type": "markdown",
   "metadata": {},
   "source": [
    "# Wine Pricing Study\n",
    "\n",
    "#### Author: Steve Diamond [(GitHub)](https://github.com/StevenWDiamond)\n",
    "\n",
    "### For Problem Statement, Executive Summary, Table of Contents and Data Dictionary, please link to [Data Cleaning / EDA Notebook](1_data_clean_eda.ipynb)\n",
    "\n",
    "## KPrototypes Unsupervised Learning\n",
    "\n",
    "### Rationale\n",
    "We wanted to explore a cluster analysis for our data but, given that most of our data is dummy data, KPrototypes was the cluster analysis method that we chose to use. It allows us to input both categorical and non-categorical data. The this part of our study resulted in a new column of data which designated which cluster that row was assigned to and we used that column in two ways:\n",
    "1. We added it to the DataFrame that was originally imported here to do additional EDA and understand how the clusters were made.\n",
    "1. We also added it to our DataFrame with dummy columns to test against the non-clustered data in our modeling.\n",
    "\n",
    "### Credits\n",
    "This notebook was created based on code that was created by Julia Kelman."
   ]
  },
  {
   "cell_type": "code",
   "execution_count": 1,
   "metadata": {},
   "outputs": [],
   "source": [
    "from kmodes.kprototypes import KPrototypes\n",
    "from sklearn.preprocessing import StandardScaler\n",
    "from sklearn import preprocessing\n",
    "import sys\n",
    "import time\n",
    "import numpy as np\n",
    "import pandas as pd\n",
    "\n",
    "import seaborn as sns\n",
    "import matplotlib.pyplot as plt\n",
    "import matplotlib\n",
    "\n",
    "matplotlib.style.use('ggplot')\n",
    "\n",
    "RANDOM_STATE = 42\n",
    "\n",
    "random_state = RANDOM_STATE"
   ]
  },
  {
   "cell_type": "code",
   "execution_count": 2,
   "metadata": {},
   "outputs": [],
   "source": [
    "# Import data\n",
    "df = pd.read_csv('../data/clean_eda_data_kmodes.csv')"
   ]
  },
  {
   "cell_type": "code",
   "execution_count": 3,
   "metadata": {},
   "outputs": [
    {
     "data": {
      "text/html": [
       "<div>\n",
       "<style scoped>\n",
       "    .dataframe tbody tr th:only-of-type {\n",
       "        vertical-align: middle;\n",
       "    }\n",
       "\n",
       "    .dataframe tbody tr th {\n",
       "        vertical-align: top;\n",
       "    }\n",
       "\n",
       "    .dataframe thead th {\n",
       "        text-align: right;\n",
       "    }\n",
       "</style>\n",
       "<table border=\"1\" class=\"dataframe\">\n",
       "  <thead>\n",
       "    <tr style=\"text-align: right;\">\n",
       "      <th></th>\n",
       "      <th>country</th>\n",
       "      <th>points</th>\n",
       "      <th>price</th>\n",
       "      <th>variety</th>\n",
       "      <th>high_q_term</th>\n",
       "      <th>region</th>\n",
       "      <th>vintage</th>\n",
       "    </tr>\n",
       "  </thead>\n",
       "  <tbody>\n",
       "    <tr>\n",
       "      <th>0</th>\n",
       "      <td>Portugal</td>\n",
       "      <td>87</td>\n",
       "      <td>15.0</td>\n",
       "      <td>Portuguese Red</td>\n",
       "      <td>0</td>\n",
       "      <td>Douro</td>\n",
       "      <td>6</td>\n",
       "    </tr>\n",
       "    <tr>\n",
       "      <th>1</th>\n",
       "      <td>US</td>\n",
       "      <td>87</td>\n",
       "      <td>65.0</td>\n",
       "      <td>Pinot Noir</td>\n",
       "      <td>1</td>\n",
       "      <td>Willamette Valley</td>\n",
       "      <td>5</td>\n",
       "    </tr>\n",
       "    <tr>\n",
       "      <th>2</th>\n",
       "      <td>Spain</td>\n",
       "      <td>87</td>\n",
       "      <td>15.0</td>\n",
       "      <td>Tempranillo</td>\n",
       "      <td>0</td>\n",
       "      <td>Navarra</td>\n",
       "      <td>6</td>\n",
       "    </tr>\n",
       "    <tr>\n",
       "      <th>3</th>\n",
       "      <td>Italy</td>\n",
       "      <td>87</td>\n",
       "      <td>16.0</td>\n",
       "      <td>Frappato</td>\n",
       "      <td>0</td>\n",
       "      <td>Vittoria</td>\n",
       "      <td>4</td>\n",
       "    </tr>\n",
       "    <tr>\n",
       "      <th>4</th>\n",
       "      <td>US</td>\n",
       "      <td>87</td>\n",
       "      <td>19.0</td>\n",
       "      <td>Cabernet Sauvignon</td>\n",
       "      <td>0</td>\n",
       "      <td>Napa Valley</td>\n",
       "      <td>6</td>\n",
       "    </tr>\n",
       "  </tbody>\n",
       "</table>\n",
       "</div>"
      ],
      "text/plain": [
       "    country  points  price             variety  high_q_term  \\\n",
       "0  Portugal      87   15.0      Portuguese Red            0   \n",
       "1        US      87   65.0          Pinot Noir            1   \n",
       "2     Spain      87   15.0         Tempranillo            0   \n",
       "3     Italy      87   16.0            Frappato            0   \n",
       "4        US      87   19.0  Cabernet Sauvignon            0   \n",
       "\n",
       "              region  vintage  \n",
       "0              Douro        6  \n",
       "1  Willamette Valley        5  \n",
       "2            Navarra        6  \n",
       "3           Vittoria        4  \n",
       "4        Napa Valley        6  "
      ]
     },
     "execution_count": 3,
     "metadata": {},
     "output_type": "execute_result"
    }
   ],
   "source": [
    "df.head()"
   ]
  },
  {
   "cell_type": "markdown",
   "metadata": {},
   "source": [
    "### Prepare Data for KPrototypes\n",
    "\n",
    "This unsupervised learning model requires that we: \n",
    "\n",
    "#### Drop the target variable."
   ]
  },
  {
   "cell_type": "code",
   "execution_count": 4,
   "metadata": {},
   "outputs": [],
   "source": [
    "df.drop(columns='price', inplace=True)"
   ]
  },
  {
   "cell_type": "markdown",
   "metadata": {},
   "source": [
    "#### Eliminate any missing pieces of data"
   ]
  },
  {
   "cell_type": "code",
   "execution_count": 5,
   "metadata": {},
   "outputs": [],
   "source": [
    "df.fillna('Unknown', inplace = True)"
   ]
  },
  {
   "cell_type": "markdown",
   "metadata": {},
   "source": [
    "#### Save the data as an array"
   ]
  },
  {
   "cell_type": "code",
   "execution_count": 6,
   "metadata": {},
   "outputs": [],
   "source": [
    "X = np.array(df)"
   ]
  },
  {
   "cell_type": "markdown",
   "metadata": {},
   "source": [
    "#### Ensure that all non-categorical data are integers"
   ]
  },
  {
   "cell_type": "code",
   "execution_count": 7,
   "metadata": {},
   "outputs": [],
   "source": [
    "df['points'] = df['points'].astype(int)\n",
    "df['high_q_term'] = df['high_q_term'].astype(int)\n",
    "df['vintage'] = df['vintage'].astype(int)"
   ]
  },
  {
   "cell_type": "markdown",
   "metadata": {},
   "source": [
    "### KPrototypes \n",
    "\n",
    "#### Run With A Range of Values for N-Clusters \n",
    "Using the loop below, we ran KPrototypes six times with the number of clusters being 2, 3, 4, 5, 6 and 7."
   ]
  },
  {
   "cell_type": "code",
   "execution_count": 8,
   "metadata": {},
   "outputs": [
    {
     "name": "stdout",
     "output_type": "stream",
     "text": [
      "cost: 4198829.723889861\n",
      "iter: 7\n",
      "cost: 3893584.0840332774\n",
      "iter: 8\n",
      "cost: 3637906.632320284\n",
      "iter: 9\n",
      "cost: 3463560.5312949903\n",
      "iter: 19\n",
      "cost: 3329627.121495867\n",
      "iter: 13\n",
      "cost: 3273917.602012095\n",
      "iter: 14\n"
     ]
    }
   ],
   "source": [
    "# Creating a loop to try our different number of clusters: \n",
    "kproto_costs = []\n",
    "for n in range(2, 8):\n",
    "    #do the clustering \n",
    "    kproto = KPrototypes(n_clusters=n, init='Huang', verbose=0, random_state=RANDOM_STATE, n_jobs=-1)\n",
    "    clusters = kproto.fit_predict(X, categorical=[0, 2, 4])\n",
    "    print(f'cost: {kproto.cost_}')\n",
    "    print(f'iter: {kproto.n_iter_}')\n",
    "    # get cost \n",
    "    cost = kproto.cost_\n",
    "    #gather them\n",
    "    kproto_costs.append((n, cost))"
   ]
  },
  {
   "cell_type": "markdown",
   "metadata": {},
   "source": [
    "#### Graph the Results for Various N-Clusters Values"
   ]
  },
  {
   "cell_type": "code",
   "execution_count": 9,
   "metadata": {},
   "outputs": [
    {
     "data": {
      "text/plain": [
       "[(2, 4198829.723889861),\n",
       " (3, 3893584.0840332774),\n",
       " (4, 3637906.632320284),\n",
       " (5, 3463560.5312949903),\n",
       " (6, 3329627.121495867),\n",
       " (7, 3273917.602012095)]"
      ]
     },
     "execution_count": 9,
     "metadata": {},
     "output_type": "execute_result"
    }
   ],
   "source": [
    "kproto_costs_copy = kproto_costs\n",
    "kproto_costs_copy"
   ]
  },
  {
   "cell_type": "code",
   "execution_count": 10,
   "metadata": {},
   "outputs": [],
   "source": [
    "cost_list = [a_tuple[1] for a_tuple in kproto_costs_copy]"
   ]
  },
  {
   "cell_type": "code",
   "execution_count": 11,
   "metadata": {},
   "outputs": [
    {
     "data": {
      "image/png": "[encoded data removed]",
      "text/plain": [
       "<Figure size 576x432 with 1 Axes>"
      ]
     },
     "metadata": {},
     "output_type": "display_data"
    }
   ],
   "source": [
    "# Graphing 1-5 clusters for each initialization method\n",
    "\n",
    "# establish figure and axes objects\n",
    "fig = plt.figure(figsize=(8,6))\n",
    "ax = plt.gca()\n",
    "\n",
    "# supply ax to the pandas plotting method\n",
    "ax1 = sns.lineplot(x=[num1 for num1 in range(2,8)], y=cost_list,color='orange')\n",
    "\n",
    "\n",
    "\n",
    "## Notice the change to the method names ##\n",
    "ax.set_title('Clusters vs Cost', fontsize=26, pad=15)\n",
    "ax.set_xlabel('K Clusters', fontsize=20)\n",
    "ax.set_ylabel('Cost', fontsize=20)\n",
    "\n",
    "fig.tight_layout();"
   ]
  },
  {
   "cell_type": "markdown",
   "metadata": {},
   "source": [
    "**Interpretation**\n",
    "\n",
    "- The turn in the line in our graph suggests that we have 6 clusters in our data.\n",
    "- We will form a column which designates cluster for each row and merge this column with:\n",
    "    - The DataFrame with our categorical data intact, which we will use to do additional [exploratory data analysis](data_clean_eda.ipynb).\n",
    "    - The DataFrame with our dummied columns, which we will use in our [modeling](modeling.ipynb).\n",
    "    \n",
    "#### Create the Customer Clusters & Determine Cluster of Each Row"
   ]
  },
  {
   "cell_type": "code",
   "execution_count": 12,
   "metadata": {},
   "outputs": [
    {
     "name": "stdout",
     "output_type": "stream",
     "text": [
      "cost: 3329627.121495867\n"
     ]
    }
   ],
   "source": [
    "kproto_6 = KPrototypes(n_clusters=6, init='Huang', verbose=0, random_state=RANDOM_STATE, n_jobs=-1)\n",
    "clusters = kproto_6.fit_predict(X, categorical=[0, 2, 4])\n",
    "print(f'cost: {kproto_6.cost_}')"
   ]
  },
  {
   "cell_type": "markdown",
   "metadata": {},
   "source": [
    "#### Add Clusters to DataFrames\n",
    "\n",
    "1. Created Clusters DataFrame.\n",
    "1. Created and exported new DataFrame which combined clusters column with data used in this process.\n",
    "    * DataFrame will be used for EDA.\n",
    "1. Created and exported new DataFrame which combined clusters column with modeling data.\n",
    "    * DataFrame will be used for Modeling."
   ]
  },
  {
   "cell_type": "code",
   "execution_count": 13,
   "metadata": {},
   "outputs": [],
   "source": [
    "# Creating new cluster DataFrame and adding cluster predictions\n",
    "clustersDf = pd.DataFrame(clusters)\n",
    "clustersDf.columns = ['cluster_predicted']\n",
    "\n",
    "# Merging new dataframe with the original and dropping additional index created\n",
    "combinedDf = pd.concat([df, clustersDf], axis = 1).reset_index()"
   ]
  },
  {
   "cell_type": "code",
   "execution_count": 14,
   "metadata": {},
   "outputs": [
    {
     "data": {
      "text/html": [
       "<div>\n",
       "<style scoped>\n",
       "    .dataframe tbody tr th:only-of-type {\n",
       "        vertical-align: middle;\n",
       "    }\n",
       "\n",
       "    .dataframe tbody tr th {\n",
       "        vertical-align: top;\n",
       "    }\n",
       "\n",
       "    .dataframe thead th {\n",
       "        text-align: right;\n",
       "    }\n",
       "</style>\n",
       "<table border=\"1\" class=\"dataframe\">\n",
       "  <thead>\n",
       "    <tr style=\"text-align: right;\">\n",
       "      <th></th>\n",
       "      <th>index</th>\n",
       "      <th>country</th>\n",
       "      <th>points</th>\n",
       "      <th>variety</th>\n",
       "      <th>high_q_term</th>\n",
       "      <th>region</th>\n",
       "      <th>vintage</th>\n",
       "      <th>cluster_predicted</th>\n",
       "    </tr>\n",
       "  </thead>\n",
       "  <tbody>\n",
       "    <tr>\n",
       "      <th>0</th>\n",
       "      <td>0</td>\n",
       "      <td>Portugal</td>\n",
       "      <td>87</td>\n",
       "      <td>Portuguese Red</td>\n",
       "      <td>0</td>\n",
       "      <td>Douro</td>\n",
       "      <td>6</td>\n",
       "      <td>4</td>\n",
       "    </tr>\n",
       "    <tr>\n",
       "      <th>1</th>\n",
       "      <td>1</td>\n",
       "      <td>US</td>\n",
       "      <td>87</td>\n",
       "      <td>Pinot Noir</td>\n",
       "      <td>1</td>\n",
       "      <td>Willamette Valley</td>\n",
       "      <td>5</td>\n",
       "      <td>4</td>\n",
       "    </tr>\n",
       "    <tr>\n",
       "      <th>2</th>\n",
       "      <td>2</td>\n",
       "      <td>Spain</td>\n",
       "      <td>87</td>\n",
       "      <td>Tempranillo</td>\n",
       "      <td>0</td>\n",
       "      <td>Navarra</td>\n",
       "      <td>6</td>\n",
       "      <td>4</td>\n",
       "    </tr>\n",
       "    <tr>\n",
       "      <th>3</th>\n",
       "      <td>3</td>\n",
       "      <td>Italy</td>\n",
       "      <td>87</td>\n",
       "      <td>Frappato</td>\n",
       "      <td>0</td>\n",
       "      <td>Vittoria</td>\n",
       "      <td>4</td>\n",
       "      <td>1</td>\n",
       "    </tr>\n",
       "    <tr>\n",
       "      <th>4</th>\n",
       "      <td>4</td>\n",
       "      <td>US</td>\n",
       "      <td>87</td>\n",
       "      <td>Cabernet Sauvignon</td>\n",
       "      <td>0</td>\n",
       "      <td>Napa Valley</td>\n",
       "      <td>6</td>\n",
       "      <td>5</td>\n",
       "    </tr>\n",
       "  </tbody>\n",
       "</table>\n",
       "</div>"
      ],
      "text/plain": [
       "   index   country  points             variety  high_q_term  \\\n",
       "0      0  Portugal      87      Portuguese Red            0   \n",
       "1      1        US      87          Pinot Noir            1   \n",
       "2      2     Spain      87         Tempranillo            0   \n",
       "3      3     Italy      87            Frappato            0   \n",
       "4      4        US      87  Cabernet Sauvignon            0   \n",
       "\n",
       "              region  vintage  cluster_predicted  \n",
       "0              Douro        6                  4  \n",
       "1  Willamette Valley        5                  4  \n",
       "2            Navarra        6                  4  \n",
       "3           Vittoria        4                  1  \n",
       "4        Napa Valley        6                  5  "
      ]
     },
     "execution_count": 14,
     "metadata": {},
     "output_type": "execute_result"
    }
   ],
   "source": [
    "# verifying\n",
    "combinedDf.head()"
   ]
  },
  {
   "cell_type": "code",
   "execution_count": 15,
   "metadata": {},
   "outputs": [],
   "source": [
    "# saving for use in additional EDA\n",
    "combinedDf.to_csv('../data/non_dummied_plus_kprotos.csv',index=False)"
   ]
  },
  {
   "cell_type": "code",
   "execution_count": 16,
   "metadata": {},
   "outputs": [],
   "source": [
    "# reading in dataframe with Dummy columns\n",
    "df2 = pd.read_csv('../data/clean_eda_data.csv')"
   ]
  },
  {
   "cell_type": "code",
   "execution_count": 17,
   "metadata": {},
   "outputs": [],
   "source": [
    "# combining this dataframe with the cluster predictions\n",
    "combinedDf2 = pd.concat([df2, clustersDf], axis = 1).reset_index()\n",
    "combinedDf2.drop(columns='index', inplace=True)"
   ]
  },
  {
   "cell_type": "code",
   "execution_count": 18,
   "metadata": {},
   "outputs": [
    {
     "data": {
      "text/html": [
       "<div>\n",
       "<style scoped>\n",
       "    .dataframe tbody tr th:only-of-type {\n",
       "        vertical-align: middle;\n",
       "    }\n",
       "\n",
       "    .dataframe tbody tr th {\n",
       "        vertical-align: top;\n",
       "    }\n",
       "\n",
       "    .dataframe thead th {\n",
       "        text-align: right;\n",
       "    }\n",
       "</style>\n",
       "<table border=\"1\" class=\"dataframe\">\n",
       "  <thead>\n",
       "    <tr style=\"text-align: right;\">\n",
       "      <th></th>\n",
       "      <th>points</th>\n",
       "      <th>price</th>\n",
       "      <th>high_q_term</th>\n",
       "      <th>vintage</th>\n",
       "      <th>country_Argentina</th>\n",
       "      <th>country_Australia</th>\n",
       "      <th>country_Austria</th>\n",
       "      <th>country_Brazil</th>\n",
       "      <th>country_Bulgaria</th>\n",
       "      <th>country_Canada</th>\n",
       "      <th>...</th>\n",
       "      <th>region_Walla Walla Valley (OR)</th>\n",
       "      <th>region_Walla Walla Valley (WA)</th>\n",
       "      <th>region_Washington</th>\n",
       "      <th>region_Western Cape</th>\n",
       "      <th>region_Willamette Valley</th>\n",
       "      <th>region_Yakima Valley</th>\n",
       "      <th>region_Yarra Valley</th>\n",
       "      <th>region_Yorkville Highlands</th>\n",
       "      <th>region_Yountville</th>\n",
       "      <th>cluster_predicted</th>\n",
       "    </tr>\n",
       "  </thead>\n",
       "  <tbody>\n",
       "    <tr>\n",
       "      <th>0</th>\n",
       "      <td>87</td>\n",
       "      <td>15.0</td>\n",
       "      <td>0</td>\n",
       "      <td>6</td>\n",
       "      <td>0</td>\n",
       "      <td>0</td>\n",
       "      <td>0</td>\n",
       "      <td>0</td>\n",
       "      <td>0</td>\n",
       "      <td>0</td>\n",
       "      <td>...</td>\n",
       "      <td>0</td>\n",
       "      <td>0</td>\n",
       "      <td>0</td>\n",
       "      <td>0</td>\n",
       "      <td>0</td>\n",
       "      <td>0</td>\n",
       "      <td>0</td>\n",
       "      <td>0</td>\n",
       "      <td>0</td>\n",
       "      <td>4</td>\n",
       "    </tr>\n",
       "    <tr>\n",
       "      <th>1</th>\n",
       "      <td>87</td>\n",
       "      <td>65.0</td>\n",
       "      <td>1</td>\n",
       "      <td>5</td>\n",
       "      <td>0</td>\n",
       "      <td>0</td>\n",
       "      <td>0</td>\n",
       "      <td>0</td>\n",
       "      <td>0</td>\n",
       "      <td>0</td>\n",
       "      <td>...</td>\n",
       "      <td>0</td>\n",
       "      <td>0</td>\n",
       "      <td>0</td>\n",
       "      <td>0</td>\n",
       "      <td>1</td>\n",
       "      <td>0</td>\n",
       "      <td>0</td>\n",
       "      <td>0</td>\n",
       "      <td>0</td>\n",
       "      <td>4</td>\n",
       "    </tr>\n",
       "    <tr>\n",
       "      <th>2</th>\n",
       "      <td>87</td>\n",
       "      <td>15.0</td>\n",
       "      <td>0</td>\n",
       "      <td>6</td>\n",
       "      <td>0</td>\n",
       "      <td>0</td>\n",
       "      <td>0</td>\n",
       "      <td>0</td>\n",
       "      <td>0</td>\n",
       "      <td>0</td>\n",
       "      <td>...</td>\n",
       "      <td>0</td>\n",
       "      <td>0</td>\n",
       "      <td>0</td>\n",
       "      <td>0</td>\n",
       "      <td>0</td>\n",
       "      <td>0</td>\n",
       "      <td>0</td>\n",
       "      <td>0</td>\n",
       "      <td>0</td>\n",
       "      <td>4</td>\n",
       "    </tr>\n",
       "    <tr>\n",
       "      <th>3</th>\n",
       "      <td>87</td>\n",
       "      <td>16.0</td>\n",
       "      <td>0</td>\n",
       "      <td>4</td>\n",
       "      <td>0</td>\n",
       "      <td>0</td>\n",
       "      <td>0</td>\n",
       "      <td>0</td>\n",
       "      <td>0</td>\n",
       "      <td>0</td>\n",
       "      <td>...</td>\n",
       "      <td>0</td>\n",
       "      <td>0</td>\n",
       "      <td>0</td>\n",
       "      <td>0</td>\n",
       "      <td>0</td>\n",
       "      <td>0</td>\n",
       "      <td>0</td>\n",
       "      <td>0</td>\n",
       "      <td>0</td>\n",
       "      <td>1</td>\n",
       "    </tr>\n",
       "    <tr>\n",
       "      <th>4</th>\n",
       "      <td>87</td>\n",
       "      <td>19.0</td>\n",
       "      <td>0</td>\n",
       "      <td>6</td>\n",
       "      <td>0</td>\n",
       "      <td>0</td>\n",
       "      <td>0</td>\n",
       "      <td>0</td>\n",
       "      <td>0</td>\n",
       "      <td>0</td>\n",
       "      <td>...</td>\n",
       "      <td>0</td>\n",
       "      <td>0</td>\n",
       "      <td>0</td>\n",
       "      <td>0</td>\n",
       "      <td>0</td>\n",
       "      <td>0</td>\n",
       "      <td>0</td>\n",
       "      <td>0</td>\n",
       "      <td>0</td>\n",
       "      <td>5</td>\n",
       "    </tr>\n",
       "  </tbody>\n",
       "</table>\n",
       "<p>5 rows × 371 columns</p>\n",
       "</div>"
      ],
      "text/plain": [
       "   points  price  high_q_term  vintage  country_Argentina  country_Australia  \\\n",
       "0      87   15.0            0        6                  0                  0   \n",
       "1      87   65.0            1        5                  0                  0   \n",
       "2      87   15.0            0        6                  0                  0   \n",
       "3      87   16.0            0        4                  0                  0   \n",
       "4      87   19.0            0        6                  0                  0   \n",
       "\n",
       "   country_Austria  country_Brazil  country_Bulgaria  country_Canada  ...  \\\n",
       "0                0               0                 0               0  ...   \n",
       "1                0               0                 0               0  ...   \n",
       "2                0               0                 0               0  ...   \n",
       "3                0               0                 0               0  ...   \n",
       "4                0               0                 0               0  ...   \n",
       "\n",
       "   region_Walla Walla Valley (OR)  region_Walla Walla Valley (WA)  \\\n",
       "0                               0                               0   \n",
       "1                               0                               0   \n",
       "2                               0                               0   \n",
       "3                               0                               0   \n",
       "4                               0                               0   \n",
       "\n",
       "   region_Washington  region_Western Cape  region_Willamette Valley  \\\n",
       "0                  0                    0                         0   \n",
       "1                  0                    0                         1   \n",
       "2                  0                    0                         0   \n",
       "3                  0                    0                         0   \n",
       "4                  0                    0                         0   \n",
       "\n",
       "   region_Yakima Valley  region_Yarra Valley  region_Yorkville Highlands  \\\n",
       "0                     0                    0                           0   \n",
       "1                     0                    0                           0   \n",
       "2                     0                    0                           0   \n",
       "3                     0                    0                           0   \n",
       "4                     0                    0                           0   \n",
       "\n",
       "   region_Yountville  cluster_predicted  \n",
       "0                  0                  4  \n",
       "1                  0                  4  \n",
       "2                  0                  4  \n",
       "3                  0                  1  \n",
       "4                  0                  5  \n",
       "\n",
       "[5 rows x 371 columns]"
      ]
     },
     "execution_count": 18,
     "metadata": {},
     "output_type": "execute_result"
    }
   ],
   "source": [
    "# verifying\n",
    "combinedDf2.head()"
   ]
  },
  {
   "cell_type": "code",
   "execution_count": 19,
   "metadata": {},
   "outputs": [],
   "source": [
    "# Saving for use in modeling\n",
    "combinedDf2.to_csv('../data/dummied_plus_kproto.csv',index=False)"
   ]
  },
  {
   "cell_type": "markdown",
   "metadata": {},
   "source": [
    "## Next\n",
    "- Return to [Data Cleaning / EDA Notebook](1_data_clean_eda.ipynb) for KPrototypes EDA.\n",
    "- View [Modeling Notebook](3_modeling.ipynb)."
   ]
  }
 ],
 "metadata": {
  "kernelspec": {
   "display_name": "Python 3",
   "language": "python",
   "name": "python3"
  },
  "language_info": {
   "codemirror_mode": {
    "name": "ipython",
    "version": 3
   },
   "file_extension": ".py",
   "mimetype": "text/x-python",
   "name": "python",
   "nbconvert_exporter": "python",
   "pygments_lexer": "ipython3",
   "version": "3.8.5"
  }
 },
 "nbformat": 4,
 "nbformat_minor": 4
}
